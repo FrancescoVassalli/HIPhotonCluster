{
 "cells": [
  {
   "cell_type": "code",
   "execution_count": 106,
   "metadata": {},
   "outputs": [],
   "source": [
    "import pandas as pd\n",
    "import math\n",
    "import matplotlib.pyplot as plt\n",
    "import numpy as np\n",
    "from cycler import cycler\n",
    "from abc import ABC, abstractmethod\n",
    "from subprocess import call\n",
    "from scipy import stats\n",
    "from IPython.display import Image\n",
    "from uncertainties import unumpy, ufloat\n",
    "from sklearn.model_selection import train_test_split as dataSplitter\n",
    "from sklearn.model_selection import GridSearchCV\n",
    "from sklearn.base import ClassifierMixin\n",
    "from sklearn.neighbors import KNeighborsClassifier as skKNN\n",
    "from sklearn.linear_model import LogisticRegression\n",
    "from sklearn.discriminant_analysis import LinearDiscriminantAnalysis as skLDA\n",
    "from sklearn.svm import SVC as skSVC\n",
    "from sklearn.naive_bayes import ComplementNB\n",
    "from sklearn.ensemble import AdaBoostClassifier\n",
    "from sklearn.ensemble import RandomForestClassifier\n",
    "from sklearn.neural_network import MLPClassifier\n",
    "from sklearn.metrics import roc_curve, auc\n",
    "from sklearn.preprocessing import StandardScaler\n",
    "from sklearn.tree import export_graphviz\n",
    "from sklearn.utils.class_weight import compute_sample_weight\n",
    "import sklearn.metrics as metric"
   ]
  },
  {
   "cell_type": "code",
   "execution_count": 107,
   "metadata": {},
   "outputs": [
    {
     "data": {
      "text/plain": [
       "0.908"
      ]
     },
     "execution_count": 107,
     "metadata": {},
     "output_type": "execute_result"
    }
   ],
   "source": [
    "promptRate=.092\n",
    "pizRate  = 1-promptRate\n",
    "pizRate"
   ]
  },
  {
   "cell_type": "markdown",
   "metadata": {},
   "source": [
    "# Make an abstract algorithm and instances for each machine I want to test##"
   ]
  },
  {
   "cell_type": "code",
   "execution_count": 108,
   "metadata": {},
   "outputs": [],
   "source": [
    "#in future version add roc inside here \n",
    "class Algo:\n",
    "\tdef __init__(self,trainData,testData):\n",
    "\t\tself.classifier  = ClassifierMixin()\n",
    "\t\tself.train(trainData)\n",
    "\t\tself.test = testData\n",
    "\t@abstractmethod\n",
    "\tdef train(self,data):\n",
    "\t\tpass\n",
    "\t@abstractmethod\n",
    "\tdef getName(self,data):\n",
    "\t\tpass\n",
    "\tdef score(self):\n",
    "\t\tprint(self.getName()+\"\\n\\t F1: \"+str(metric.f1_score(self.test['isPhoton'],self.predict(self.test.drop(['isPhoton'],axis=1)),average='binary',sample_weight=compute_sample_weight({0:pizRate,1:promptRate},self.test['isPhoton']))))\n",
    "\t\tprint(\"\\t Precision: \"+str(metric.precision_score(self.test['isPhoton'],self.predict(self.test.drop(['isPhoton'],axis=1)),average='binary',sample_weight=compute_sample_weight({0:pizRate,1:promptRate},self.test['isPhoton']))))\n",
    "\t\tprint(\"\\t Recall: \"+str(metric.recall_score(self.test['isPhoton'],self.predict(self.test.drop(['isPhoton'],axis=1)),average='binary',sample_weight=compute_sample_weight({0:pizRate,1:promptRate},self.test['isPhoton']))))\n",
    "\t\tchanceLabels = [0 for i in range(len(self.test['isPhoton']))]\n",
    "\t\tchanceLabels[0::10] = [1 for i in range(len(chanceLabels[0::10]))]\n",
    "\t\tprint(\"\\t Kappa: \"+str(metric.cohen_kappa_score(chanceLabels,self.predict(self.test.drop(['isPhoton'],axis=1)),sample_weight=compute_sample_weight({0:pizRate,1:promptRate},self.test['isPhoton']))))\n",
    "\t\tprint(\"\\t Matrix: \"+str(metric.confusion_matrix(self.test['isPhoton'],self.predict(self.test.drop(['isPhoton'],axis=1)),sample_weight=compute_sample_weight({0:pizRate,1:promptRate},self.test['isPhoton']))))\n",
    "\tdef best_param(self):\n",
    "\t\tprint(self.classifier.best_params_)\n",
    "\tdef estimate(self,cluster):\n",
    "\t\treturn self.classifier.predict_proba(cluster)\n",
    "\tdef predict(self,cluster):\n",
    "\t\treturn self.classifier.predict(cluster)\n",
    "\tdef make_roc(self):\n",
    "\t\t#print(self.estimate(self.test.drop(['isPhoton'],axis=1))[:,1])\n",
    "\t\treturn roc_curve(self.test['isPhoton'],self.estimate(self.test.drop(['isPhoton'],axis=1))[:,1],sample_weight=compute_sample_weight({0:pizRate,1:promptRate},self.test['isPhoton']))\n",
    "\tdef make_prc(self):\n",
    "\t\t#print(self.estimate(self.test.drop(['isPhoton'],axis=1))[:,1])\n",
    "\t\treturn metric.precision_recall_curve(self.test['isPhoton'],self.estimate(self.test.drop(['isPhoton'],axis=1))[:,1],sample_weight=compute_sample_weight({0:pizRate,1:promptRate},self.test['isPhoton'])), metric.average_precision_score(self.test['isPhoton'],self.estimate(self.test.drop(['isPhoton'],axis=1))[:,1],sample_weight=compute_sample_weight({0:pizRate,1:promptRate},self.test['isPhoton']))"
   ]
  },
  {
   "cell_type": "code",
   "execution_count": 109,
   "metadata": {},
   "outputs": [],
   "source": [
    "class Sasha(Algo):\n",
    "    def __intit__(self,trainData,testData):\n",
    "        Algo.__init__(trainData,testData)\n",
    "    def train(self,data):\n",
    "        #does nothing algo comes pretrained\n",
    "        return\n",
    "    def getName(self):\n",
    "        return \"Sasha\"\n",
    "    def estimate(self,cluster):\n",
    "        estimates = cluster['sProb'].values\n",
    "        return estimates\n",
    "    def make_roc(self):\n",
    "        return roc_curve(self.test['isPhoton'],self.estimate(self.test))"
   ]
  },
  {
   "cell_type": "code",
   "execution_count": 110,
   "metadata": {},
   "outputs": [],
   "source": [
    "class kNN(Algo):\n",
    "\tdef __intit__(self,trainData,testData):\n",
    "\t\tAlgo.__init__(trainData,testData)\n",
    "\tdef train(self,data):\n",
    "        #split data and score\n",
    "\t\tself.classifier = GridSearchCV(skKNN(),{'n_neighbors':[24,32,38]},cv=5).fit(data.drop(['isPhoton'],axis=1),data['isPhoton'])\n",
    "\tdef getName(self):\n",
    "\t\treturn \"kNN\""
   ]
  },
  {
   "cell_type": "code",
   "execution_count": 111,
   "metadata": {},
   "outputs": [],
   "source": [
    "class LDA(Algo):\n",
    "\tdef __intit__(self,trainData,testData):\n",
    "\t\tAlgo.__init__(trainData,testData)\n",
    "\tdef train(self,data):\n",
    "        #split data and score\n",
    "\t\tself.classifier = GridSearchCV(skLDA(solver='lsqr'),{'tol':[1e-4,1e-5,1e-3]},cv=5).fit(data.drop(['isPhoton'],axis=1),data['isPhoton'])\n",
    "\tdef getName(self):\n",
    "\t\treturn \"LDA\""
   ]
  },
  {
   "cell_type": "code",
   "execution_count": 112,
   "metadata": {},
   "outputs": [],
   "source": [
    "class Logistic(Algo):\n",
    "\tdef __intit__(self,trainData,testData):\n",
    "\t\tAlgo.__init__(trainData,testData)\n",
    "\n",
    "\tdef train(self,data):\n",
    "        #split data and score\n",
    "\t\tself.classifier = GridSearchCV(LogisticRegression(penalty='l1',solver='liblinear',max_iter=1000,class_weight={1: promptRate, 0:pizRate}),{'tol':[1e-4,1e-5,1e-4],'C':[.1,1,10]},cv=5).fit(data.drop(['isPhoton'],axis=1),data['isPhoton'])\n",
    "\tdef getName(self):\n",
    "\t\treturn \"Logistic\""
   ]
  },
  {
   "cell_type": "code",
   "execution_count": 113,
   "metadata": {},
   "outputs": [],
   "source": [
    "class SVC(Algo):\n",
    "\tdef __intit__(self,trainData,testData):\n",
    "\t\tAlgo.__init__(trainData,testData)\n",
    "\n",
    "\tdef train(self,data):\n",
    "        #split data and score\n",
    "\t\tself.classifier = GridSearchCV(skSVC(kernel='linear',gamma='scale',probability=True,class_weight={1: promptRate, 0:pizRate}),{'tol':[1e-4,1e-5,1e-4],'C':[.1,1,10]},cv=5).fit(data.drop(['isPhoton'],axis=1),data['isPhoton'])\n",
    "\tdef getName(self):\n",
    "\t\treturn \"SVC\""
   ]
  },
  {
   "cell_type": "code",
   "execution_count": 114,
   "metadata": {},
   "outputs": [],
   "source": [
    "class BDT(Algo):\n",
    "\tdef __intit__(self,trainData,testData):\n",
    "\t\tAlgo.__init__(trainData,testData)\n",
    "\tdef train(self,data):\n",
    "        #split data and score\n",
    "\t\tself.classifier = GridSearchCV(AdaBoostClassifier(),{'n_estimators':[10000,1000],'learning_rate':[.1,1,.01]},cv=5).fit(data.drop(['isPhoton'],axis=1),data['isPhoton'])\n",
    "\tdef getName(self):\n",
    "\t\treturn \"BDT\""
   ]
  },
  {
   "cell_type": "code",
   "execution_count": 115,
   "metadata": {},
   "outputs": [],
   "source": [
    "class RandomForest(Algo):\n",
    "\tdef __intit__(self,trainData,testData):\n",
    "\t\tAlgo.__init__(trainData,testData)\n",
    "\tdef train(self,data):\n",
    "        #split data and score\n",
    "\t\tself.classifier = GridSearchCV(RandomForestClassifier(class_weight={1:promptRate,0:pizRate}),{'n_estimators':[100,250,400]},cv=5).fit(data.drop(['isPhoton'],axis=1),data['isPhoton'])\n",
    "\tdef getName(self):\n",
    "\t\treturn \"RandomForest\""
   ]
  },
  {
   "cell_type": "code",
   "execution_count": 116,
   "metadata": {},
   "outputs": [],
   "source": [
    "class MLP(Algo):\n",
    "\tdef __intit__(self,trainData,testData):\n",
    "\t\ttrainData, testData = scaler(trainData,testData)\n",
    "\t\tAlgo.__init__(trainData,testData)\n",
    "\t\tself.name=\"MLP\"\n",
    "\tdef scaler(self,train,test):\n",
    "\t\t_scaler = StandardScaler()\n",
    "\t\t_scaler.fit_transform(train)\n",
    "\t\t_scaler.transform(test)\n",
    "\t\treturn train, test\n",
    "\tdef train(self,data):\n",
    "        #split data and score\n",
    "\t\tself.classifier = GridSearchCV(MLPClassifier(early_stopping=True,warm_start=True),{'alpha':[1e-4,1e-3,1e-5],'learning_rate_init':[1e-2,1e-3,1e-1],'epsilon':[1e-9,1e-8,1e-10],'hidden_layer_sizes':[[17,17],[10],[10,10]]},cv=5).fit(data.drop(['isPhoton'],axis=1),data['isPhoton'])\n",
    "\tdef getName(self):\n",
    "\t\treturn \"MLP\""
   ]
  },
  {
   "cell_type": "markdown",
   "metadata": {},
   "source": [
    "# Model Evaluation Functions"
   ]
  },
  {
   "cell_type": "code",
   "execution_count": 117,
   "metadata": {},
   "outputs": [],
   "source": [
    "def plotRoc(algos):\n",
    "    fpr = dict()\n",
    "    tpr = dict()\n",
    "    roc_auc = dict()\n",
    "    plt.figure()\n",
    "    plt.rc('axes', prop_cycle=(cycler('color', ['r', 'g', 'b', 'y','c','k'])))\n",
    "    lw = len(algos) + 1\n",
    "    for algo in algos:\n",
    "        print(algo.getName())\n",
    "        fpr[algo], tpr[algo],_ = algo.make_roc()\n",
    "        roc_auc[algo] = auc(fpr[algo],tpr[algo])\n",
    "        plt.plot(fpr[algo], tpr[algo],\n",
    "         lw=lw, label=algo.getName()+' (area = %0.2f)' % roc_auc[algo])\n",
    "    plt.plot([0, 1], [0, 1], color='navy', lw=lw, linestyle='--')\n",
    "    plt.xlim([0.0, 1.0])\n",
    "    plt.ylim([0.0, 1.05])\n",
    "    plt.xlabel('False Positive Rate')\n",
    "    plt.ylabel('True Positive Rate')\n",
    "    plt.legend(loc=\"lower right\")\n",
    "    plt.show()"
   ]
  },
  {
   "cell_type": "code",
   "execution_count": 118,
   "metadata": {},
   "outputs": [],
   "source": [
    "def plotPRC(algos):\n",
    "    fpr = dict()\n",
    "    tpr = dict()\n",
    "    roc_auc = dict()\n",
    "    average = dict()\n",
    "    plt.figure()\n",
    "    plt.rc('axes', prop_cycle=(cycler('color', ['r', 'g', 'b', 'y','c','k'])))\n",
    "    lw = len(algos) + 1\n",
    "    for algo in algos:\n",
    "        print(algo.getName())\n",
    "        plot, average[algo] = algo.make_prc()\n",
    "        fpr[algo]= plot[0]\n",
    "        tpr[algo]= plot[1]\n",
    "        plt.plot(fpr[algo], tpr[algo],\n",
    "         lw=lw, label=algo.getName()+' (average score = %0.2f)' % average[algo])\n",
    "    plt.xlim([0.0, 1.0])\n",
    "    plt.ylim([0.0, 1.05])\n",
    "    plt.xlabel('Recall')\n",
    "    plt.ylabel('Precision')\n",
    "    plt.legend(loc=\"lower right\")\n",
    "    plt.show()"
   ]
  },
  {
   "cell_type": "code",
   "execution_count": 119,
   "metadata": {},
   "outputs": [],
   "source": [
    "def diagnoseForest(model,names):\n",
    "    index = 0\n",
    "    #for estimator in model.estimators_:\n",
    "    estimator = model.estimators_[5]\n",
    "    title = 'tree'+str(index)+'.dot'\n",
    "    export_graphviz(estimator, out_file=title, \n",
    "                feature_names = names,\n",
    "                class_names = ['Jet','Photon'],\n",
    "                rounded = True, proportion = False, \n",
    "                precision = 2, filled = True)\n",
    "    newTitle = 'tree'+str(index)+'.png'\n",
    "    call(['dot','-Tpng', title, '-o', newTitle, '-Gdpi=600'])\n",
    "    Image(filename = newTitle)\n",
    "    index = index+1"
   ]
  },
  {
   "cell_type": "code",
   "execution_count": 120,
   "metadata": {},
   "outputs": [],
   "source": [
    "def forestImportance(forest,featureNames):\n",
    "    importances = forest.feature_importances_\n",
    "    std = np.std([tree.feature_importances_ for tree in forest.estimators_],\n",
    "                 axis=0)\n",
    "    indices = np.argsort(importances)[::-1]\n",
    "    \n",
    "    # Print the feature ranking\n",
    "    print(\"Feature ranking:\")\n",
    "    \n",
    "    for f in range(len(featureNames)):\n",
    "        print(\"%d. %s (%f)\" % (f + 1, featureNames[indices[f]], importances[indices[f]]))\n",
    "    \n",
    "    # Plot the feature importances of the forest\n",
    "    plt.figure()\n",
    "    plt.title(\"Feature importances\")\n",
    "    plt.bar(range(len(featureNames)), importances[indices],\n",
    "           color=\"r\", yerr=std[indices], align=\"center\")\n",
    "    plt.xticks(range(len(featureNames)), [x for _,x in sorted(zip(indices,featureNames))],rotation=45)\n",
    "    plt.xlim([-1, len(featureNames)])\n",
    "    plt.show()"
   ]
  },
  {
   "cell_type": "code",
   "execution_count": 121,
   "metadata": {},
   "outputs": [],
   "source": [
    "def myBinnedStat(x,v,bins):\n",
    "    means,_,_ = stats.binned_statistic(x,v,'mean',bins)\n",
    "    std,_ ,_= stats.binned_statistic(x,v,'std',bins)\n",
    "    count,_,_ = stats.binned_statistic(x,v,'count',bins)\n",
    "    return [ufloat(m,s/(c**(1./2))) for m,s,c in zip(means,std,count)]"
   ]
  },
  {
   "cell_type": "markdown",
   "metadata": {},
   "source": [
    "# Data Transformations"
   ]
  },
  {
   "cell_type": "code",
   "execution_count": 122,
   "metadata": {},
   "outputs": [],
   "source": [
    "def removeCombined(val):\n",
    "    if val == -998:\n",
    "        return np.nan\n",
    "    else:\n",
    "        return val"
   ]
  },
  {
   "cell_type": "code",
   "execution_count": 123,
   "metadata": {},
   "outputs": [],
   "source": [
    "def pid2Type(val):\n",
    "    if abs(val) in [311,313,421,423,511,513,111,113,130,221,331]:\n",
    "        return 0\n",
    "    else:\n",
    "        return 1"
   ]
  },
  {
   "cell_type": "code",
   "execution_count": 124,
   "metadata": {},
   "outputs": [],
   "source": [
    "def toNA(val):\n",
    "    if val==-999:\n",
    "        return np.nan\n",
    "    else:\n",
    "        return val"
   ]
  },
  {
   "cell_type": "code",
   "execution_count": 125,
   "metadata": {},
   "outputs": [],
   "source": [
    "def to0(val):\n",
    "    if val==-999:\n",
    "        return 0\n",
    "    else:\n",
    "        return val"
   ]
  },
  {
   "cell_type": "markdown",
   "metadata": {},
   "source": [
    "# Data Input"
   ]
  },
  {
   "cell_type": "code",
   "execution_count": 126,
   "metadata": {},
   "outputs": [],
   "source": [
    "def csvToInput(signal,back):\n",
    "    dfs = pd.read_csv(signal)\n",
    "    dfb = pd.read_csv(back)\n",
    "    df = dfs.append(dfb)\n",
    "    df = df.groupby(['isPhoton']).get_group(1)\n",
    "    df= df.drop(['isPhoton'], axis=1)\n",
    "    df['pid'] = df['pid'].apply(removeCombined)\n",
    "    df = df.dropna()\n",
    "    df['pid'] = df['pid'].apply(pid2Type)\n",
    "    df = df.rename(columns = {'pid':'isPhoton'})\n",
    "    df = df[df['total_energy']>13]\n",
    "    df = df[df['total_energy']<22]\n",
    "    #groups = df.groupby(['pid'])\n",
    "    #photons = groups.get_group(22)\n",
    "    #photons['total_energy'].hist()\n",
    "    #return photons\n",
    "    train, test = dataSplitter(df.values,test_size=.2,shuffle=True)\n",
    "    train = pd.DataFrame(columns=df.columns,data=train)\n",
    "    test = pd.DataFrame(columns=df.columns,data=test)\n",
    "    return train,test"
   ]
  },
  {
   "cell_type": "code",
   "execution_count": 127,
   "metadata": {},
   "outputs": [
    {
     "data": {
      "text/html": [
       "<div>\n",
       "<style scoped>\n",
       "    .dataframe tbody tr th:only-of-type {\n",
       "        vertical-align: middle;\n",
       "    }\n",
       "\n",
       "    .dataframe tbody tr th {\n",
       "        vertical-align: top;\n",
       "    }\n",
       "\n",
       "    .dataframe thead th {\n",
       "        text-align: right;\n",
       "    }\n",
       "</style>\n",
       "<table border=\"1\" class=\"dataframe\">\n",
       "  <thead>\n",
       "    <tr style=\"text-align: right;\">\n",
       "      <th></th>\n",
       "      <th>Unnamed: 0</th>\n",
       "      <th>total_energy</th>\n",
       "      <th>core_energy</th>\n",
       "      <th>isPhoton</th>\n",
       "      <th>tower0</th>\n",
       "      <th>tower1</th>\n",
       "      <th>tower2</th>\n",
       "      <th>tower3</th>\n",
       "      <th>tower4</th>\n",
       "      <th>tower5</th>\n",
       "      <th>...</th>\n",
       "      <th>tower39</th>\n",
       "      <th>tower40</th>\n",
       "      <th>tower41</th>\n",
       "      <th>tower42</th>\n",
       "      <th>tower43</th>\n",
       "      <th>tower44</th>\n",
       "      <th>tower45</th>\n",
       "      <th>tower46</th>\n",
       "      <th>tower47</th>\n",
       "      <th>tower48</th>\n",
       "    </tr>\n",
       "  </thead>\n",
       "  <tbody>\n",
       "    <tr>\n",
       "      <th>0</th>\n",
       "      <td>2308.0</td>\n",
       "      <td>20.359209</td>\n",
       "      <td>20.542545</td>\n",
       "      <td>0.0</td>\n",
       "      <td>-0.034747</td>\n",
       "      <td>-0.034747</td>\n",
       "      <td>-0.034747</td>\n",
       "      <td>-0.034747</td>\n",
       "      <td>0.098489</td>\n",
       "      <td>0.090029</td>\n",
       "      <td>...</td>\n",
       "      <td>0.301992</td>\n",
       "      <td>0.091047</td>\n",
       "      <td>-0.033411</td>\n",
       "      <td>-0.029234</td>\n",
       "      <td>-0.029234</td>\n",
       "      <td>0.069523</td>\n",
       "      <td>0.031701</td>\n",
       "      <td>0.006486</td>\n",
       "      <td>-0.029234</td>\n",
       "      <td>-0.029234</td>\n",
       "    </tr>\n",
       "    <tr>\n",
       "      <th>1</th>\n",
       "      <td>744.0</td>\n",
       "      <td>13.353674</td>\n",
       "      <td>12.921426</td>\n",
       "      <td>0.0</td>\n",
       "      <td>-0.023566</td>\n",
       "      <td>-0.023566</td>\n",
       "      <td>-0.023566</td>\n",
       "      <td>-0.023566</td>\n",
       "      <td>-0.023566</td>\n",
       "      <td>-0.023566</td>\n",
       "      <td>...</td>\n",
       "      <td>-0.024229</td>\n",
       "      <td>-0.024229</td>\n",
       "      <td>-0.024229</td>\n",
       "      <td>-0.024229</td>\n",
       "      <td>-0.024229</td>\n",
       "      <td>-0.024229</td>\n",
       "      <td>-0.024229</td>\n",
       "      <td>-0.024229</td>\n",
       "      <td>-0.024229</td>\n",
       "      <td>-0.024229</td>\n",
       "    </tr>\n",
       "    <tr>\n",
       "      <th>2</th>\n",
       "      <td>400.0</td>\n",
       "      <td>20.930527</td>\n",
       "      <td>21.141876</td>\n",
       "      <td>1.0</td>\n",
       "      <td>-0.029594</td>\n",
       "      <td>-0.029594</td>\n",
       "      <td>-0.029594</td>\n",
       "      <td>-0.029594</td>\n",
       "      <td>-0.029594</td>\n",
       "      <td>-0.029594</td>\n",
       "      <td>...</td>\n",
       "      <td>-0.017383</td>\n",
       "      <td>-0.017383</td>\n",
       "      <td>-0.017383</td>\n",
       "      <td>-0.017383</td>\n",
       "      <td>-0.017383</td>\n",
       "      <td>-0.017383</td>\n",
       "      <td>0.027538</td>\n",
       "      <td>-0.017383</td>\n",
       "      <td>-0.017383</td>\n",
       "      <td>-0.017383</td>\n",
       "    </tr>\n",
       "    <tr>\n",
       "      <th>3</th>\n",
       "      <td>483.0</td>\n",
       "      <td>13.955566</td>\n",
       "      <td>14.083304</td>\n",
       "      <td>0.0</td>\n",
       "      <td>-0.054240</td>\n",
       "      <td>-0.054240</td>\n",
       "      <td>-0.012769</td>\n",
       "      <td>-0.054240</td>\n",
       "      <td>-0.054240</td>\n",
       "      <td>-0.054240</td>\n",
       "      <td>...</td>\n",
       "      <td>-0.047465</td>\n",
       "      <td>0.331179</td>\n",
       "      <td>-0.047465</td>\n",
       "      <td>-0.047465</td>\n",
       "      <td>-0.047465</td>\n",
       "      <td>0.023271</td>\n",
       "      <td>-0.047465</td>\n",
       "      <td>-0.047465</td>\n",
       "      <td>-0.047465</td>\n",
       "      <td>-0.003775</td>\n",
       "    </tr>\n",
       "    <tr>\n",
       "      <th>4</th>\n",
       "      <td>1107.0</td>\n",
       "      <td>17.932652</td>\n",
       "      <td>18.028189</td>\n",
       "      <td>0.0</td>\n",
       "      <td>0.047413</td>\n",
       "      <td>0.091895</td>\n",
       "      <td>0.024113</td>\n",
       "      <td>-0.033078</td>\n",
       "      <td>-0.033078</td>\n",
       "      <td>-0.033078</td>\n",
       "      <td>...</td>\n",
       "      <td>-0.026937</td>\n",
       "      <td>0.043112</td>\n",
       "      <td>-0.026937</td>\n",
       "      <td>0.016883</td>\n",
       "      <td>0.016883</td>\n",
       "      <td>-0.021615</td>\n",
       "      <td>-0.021615</td>\n",
       "      <td>-0.021615</td>\n",
       "      <td>-0.021615</td>\n",
       "      <td>-0.021615</td>\n",
       "    </tr>\n",
       "  </tbody>\n",
       "</table>\n",
       "<p>5 rows × 53 columns</p>\n",
       "</div>"
      ],
      "text/plain": [
       "   Unnamed: 0  total_energy  core_energy  isPhoton    tower0    tower1  \\\n",
       "0      2308.0     20.359209    20.542545       0.0 -0.034747 -0.034747   \n",
       "1       744.0     13.353674    12.921426       0.0 -0.023566 -0.023566   \n",
       "2       400.0     20.930527    21.141876       1.0 -0.029594 -0.029594   \n",
       "3       483.0     13.955566    14.083304       0.0 -0.054240 -0.054240   \n",
       "4      1107.0     17.932652    18.028189       0.0  0.047413  0.091895   \n",
       "\n",
       "     tower2    tower3    tower4    tower5  ...   tower39   tower40   tower41  \\\n",
       "0 -0.034747 -0.034747  0.098489  0.090029  ...  0.301992  0.091047 -0.033411   \n",
       "1 -0.023566 -0.023566 -0.023566 -0.023566  ... -0.024229 -0.024229 -0.024229   \n",
       "2 -0.029594 -0.029594 -0.029594 -0.029594  ... -0.017383 -0.017383 -0.017383   \n",
       "3 -0.012769 -0.054240 -0.054240 -0.054240  ... -0.047465  0.331179 -0.047465   \n",
       "4  0.024113 -0.033078 -0.033078 -0.033078  ... -0.026937  0.043112 -0.026937   \n",
       "\n",
       "    tower42   tower43   tower44   tower45   tower46   tower47   tower48  \n",
       "0 -0.029234 -0.029234  0.069523  0.031701  0.006486 -0.029234 -0.029234  \n",
       "1 -0.024229 -0.024229 -0.024229 -0.024229 -0.024229 -0.024229 -0.024229  \n",
       "2 -0.017383 -0.017383 -0.017383  0.027538 -0.017383 -0.017383 -0.017383  \n",
       "3 -0.047465 -0.047465  0.023271 -0.047465 -0.047465 -0.047465 -0.003775  \n",
       "4  0.016883  0.016883 -0.021615 -0.021615 -0.021615 -0.021615 -0.021615  \n",
       "\n",
       "[5 rows x 53 columns]"
      ]
     },
     "execution_count": 127,
     "metadata": {},
     "output_type": "execute_result"
    }
   ],
   "source": [
    "train, test = csvToInput(\"photonclusters.csv\",\"backclusters.csv\")\n",
    "trainS = train\n",
    "testS = test\n",
    "train = train.drop(['sProb','cal_energy'],axis=1)\n",
    "test = test.drop(['sProb','cal_energy'],axis=1)\n",
    "train.head()"
   ]
  },
  {
   "cell_type": "markdown",
   "metadata": {},
   "source": [
    "# Initial Distribution Analysis"
   ]
  },
  {
   "cell_type": "code",
   "execution_count": 128,
   "metadata": {},
   "outputs": [
    {
     "data": {
      "text/plain": [
       "<matplotlib.axes._subplots.AxesSubplot at 0x1202a0f50>"
      ]
     },
     "execution_count": 128,
     "metadata": {},
     "output_type": "execute_result"
    },
    {
     "data": {
      "image/png": "[encoded data removed]",
      "text/plain": [
       "<Figure size 432x288 with 1 Axes>"
      ]
     },
     "metadata": {
      "needs_background": "light"
     },
     "output_type": "display_data"
    }
   ],
   "source": [
    "train['total_energy'].hist()"
   ]
  },
  {
   "cell_type": "code",
   "execution_count": 129,
   "metadata": {},
   "outputs": [
    {
     "data": {
      "text/plain": [
       "<matplotlib.axes._subplots.AxesSubplot at 0x1219f9810>"
      ]
     },
     "execution_count": 129,
     "metadata": {},
     "output_type": "execute_result"
    },
    {
     "data": {
      "image/png": "[encoded data removed]",
      "text/plain": [
       "<Figure size 432x288 with 1 Axes>"
      ]
     },
     "metadata": {
      "needs_background": "light"
     },
     "output_type": "display_data"
    }
   ],
   "source": [
    "test['isPhoton'].hist()"
   ]
  },
  {
   "cell_type": "code",
   "execution_count": 130,
   "metadata": {},
   "outputs": [
    {
     "data": {
      "text/plain": [
       "<matplotlib.axes._subplots.AxesSubplot at 0x12060fa90>"
      ]
     },
     "execution_count": 130,
     "metadata": {},
     "output_type": "execute_result"
    },
    {
     "data": {
      "image/png": "[encoded data removed]",
      "text/plain": [
       "<Figure size 432x288 with 1 Axes>"
      ]
     },
     "metadata": {
      "needs_background": "light"
     },
     "output_type": "display_data"
    }
   ],
   "source": [
    "train['isPhoton'].hist()"
   ]
  },
  {
   "cell_type": "markdown",
   "metadata": {},
   "source": [
    "Try to make some engineered features based off the symmetry of a photon."
   ]
  },
  {
   "cell_type": "markdown",
   "metadata": {},
   "source": [
    "# Feature Engineering"
   ]
  },
  {
   "cell_type": "code",
   "execution_count": 131,
   "metadata": {},
   "outputs": [],
   "source": [
    "def integrated_perimeter(df):\n",
    "    perimeter_values = [1,2,3,4,5,6,7,13,14,20,21,27,28,34,35,41,42,43,44,45,46,47,48]\n",
    "    name = 'tower'\n",
    "    df['integrated_perimeter'] = df['tower0']\n",
    "    #df.drop(['tower0'])\n",
    "    for i in perimeter_values:\n",
    "        title = name+str(i)\n",
    "        df['integrated_perimeter'] = df['integrated_perimeter']+df[title]\n",
    "        #df.drop([title])\n",
    "    return df\n",
    "        "
   ]
  },
  {
   "cell_type": "code",
   "execution_count": 132,
   "metadata": {},
   "outputs": [],
   "source": [
    "def max_finder(df):\n",
    "    perimeter_values = [9,10,11,12,15,19,22,26,29,33,36,37,38,39,40]\n",
    "    name = 'tower'\n",
    "    df['max_perimeter'] = df['tower8']\n",
    "    #df.drop(['tower0'])\n",
    "    for i in perimeter_values:\n",
    "        title = name+str(i)\n",
    "        df['max_perimeter'] = df['max_perimeter']+df[title]\n",
    "        #df.drop([title])\n",
    "    return df"
   ]
  },
  {
   "cell_type": "code",
   "execution_count": 133,
   "metadata": {},
   "outputs": [],
   "source": [
    "def asymmetry(df):\n",
    "    top = [8,9,10,11,12,15,16,17,18,19]    \n",
    "    bottom = [29,30,31,32,33,36,37,38,39,40]\n",
    "    left = [8,9,15,16,22,23,29,30,36,37,43,44]\n",
    "    right= [11,12,18,19,25,26,32,33,39,40]\n",
    "    series1 = pd.Series(0 for i in range(0,len(df['isPhoton'])))\n",
    "    series2 = pd.Series(0 for i in range(0,len(df['isPhoton'])))\n",
    "    series3 = pd.Series(0 for i in range(0,len(df['isPhoton'])))\n",
    "    series4 = pd.Series(0 for i in range(0,len(df['isPhoton'])))\n",
    "    name = 'tower'\n",
    "    for i,j,k,c in zip(top,bottom,left,right):\n",
    "        title = name+str(i)\n",
    "        series1 = series1 + df[title]\n",
    "        title = name+str(j)\n",
    "        series2 = series2 + df[title]\n",
    "        title = name+str(k)\n",
    "        series3 = series3 + df[title]\n",
    "        title = name+str(c)\n",
    "        series4 = series4 + df[title]\n",
    "    df['top_asymmetry'] = abs(series1-series2)\n",
    "    df['left_asymmetry']= abs(series3-series4)\n",
    "    return df"
   ]
  },
  {
   "cell_type": "code",
   "execution_count": 134,
   "metadata": {},
   "outputs": [],
   "source": [
    "def preprocess(train):\n",
    "    trainTransformed = pd.DataFrame()\n",
    "    for column in train:\n",
    "        trainTransformed[column]  = train[column].apply(to0)\n",
    "    #print(trainTransformed.head())\n",
    "    trainTransformed = integrated_perimeter(trainTransformed)\n",
    "    trainTransformed = asymmetry(trainTransformed)\n",
    "    trainTransformed = max_finder(trainTransformed)\n",
    "    trainTransformed = trainTransformed.drop(['tower0','tower1','tower2','tower3','tower4','tower5','tower6','tower7','tower8','tower9','tower10','tower11','tower12','tower13','tower14','tower15','tower19','tower20','tower21','tower22','tower26','tower27','tower28','tower29','tower33','tower34','tower35','tower36','tower40','tower41','tower42','tower43','tower44','tower45','tower46','tower47','tower48'],axis=1)    \n",
    "    df_temp = trainTransformed.drop(['isPhoton','total_energy'],axis=1)\n",
    "    for column in df_temp:\n",
    "        df_temp[column] = df_temp[column] / trainTransformed['total_energy']\n",
    "    trainTransformed = trainTransformed[['isPhoton','total_energy']]\n",
    "    trainTransformed = pd.concat([trainTransformed,df_temp.drop('Unnamed: 0',axis=1)],axis=1)\n",
    "    return trainTransformed"
   ]
  },
  {
   "cell_type": "code",
   "execution_count": 135,
   "metadata": {},
   "outputs": [
    {
     "data": {
      "text/html": [
       "<div>\n",
       "<style scoped>\n",
       "    .dataframe tbody tr th:only-of-type {\n",
       "        vertical-align: middle;\n",
       "    }\n",
       "\n",
       "    .dataframe tbody tr th {\n",
       "        vertical-align: top;\n",
       "    }\n",
       "\n",
       "    .dataframe thead th {\n",
       "        text-align: right;\n",
       "    }\n",
       "</style>\n",
       "<table border=\"1\" class=\"dataframe\">\n",
       "  <thead>\n",
       "    <tr style=\"text-align: right;\">\n",
       "      <th></th>\n",
       "      <th>isPhoton</th>\n",
       "      <th>total_energy</th>\n",
       "      <th>core_energy</th>\n",
       "      <th>tower16</th>\n",
       "      <th>tower17</th>\n",
       "      <th>tower18</th>\n",
       "      <th>tower23</th>\n",
       "      <th>tower24</th>\n",
       "      <th>tower25</th>\n",
       "      <th>tower30</th>\n",
       "      <th>tower31</th>\n",
       "      <th>tower32</th>\n",
       "      <th>tower37</th>\n",
       "      <th>tower38</th>\n",
       "      <th>tower39</th>\n",
       "      <th>integrated_perimeter</th>\n",
       "      <th>top_asymmetry</th>\n",
       "      <th>left_asymmetry</th>\n",
       "      <th>max_perimeter</th>\n",
       "    </tr>\n",
       "  </thead>\n",
       "  <tbody>\n",
       "    <tr>\n",
       "      <th>0</th>\n",
       "      <td>0.0</td>\n",
       "      <td>20.359209</td>\n",
       "      <td>1.009005</td>\n",
       "      <td>0.004379</td>\n",
       "      <td>0.004171</td>\n",
       "      <td>-0.001641</td>\n",
       "      <td>0.040291</td>\n",
       "      <td>0.527701</td>\n",
       "      <td>0.001992</td>\n",
       "      <td>0.037317</td>\n",
       "      <td>0.348048</td>\n",
       "      <td>0.005197</td>\n",
       "      <td>0.000846</td>\n",
       "      <td>0.013590</td>\n",
       "      <td>0.014833</td>\n",
       "      <td>-0.008593</td>\n",
       "      <td>0.428638</td>\n",
       "      <td>0.061936</td>\n",
       "      <td>0.024091</td>\n",
       "    </tr>\n",
       "    <tr>\n",
       "      <th>1</th>\n",
       "      <td>0.0</td>\n",
       "      <td>13.353674</td>\n",
       "      <td>0.967631</td>\n",
       "      <td>0.047459</td>\n",
       "      <td>0.173874</td>\n",
       "      <td>0.007824</td>\n",
       "      <td>0.015606</td>\n",
       "      <td>0.711607</td>\n",
       "      <td>0.018163</td>\n",
       "      <td>-0.001814</td>\n",
       "      <td>0.004896</td>\n",
       "      <td>0.010327</td>\n",
       "      <td>-0.001814</td>\n",
       "      <td>-0.001814</td>\n",
       "      <td>-0.001814</td>\n",
       "      <td>-0.042999</td>\n",
       "      <td>0.235463</td>\n",
       "      <td>0.031663</td>\n",
       "      <td>-0.003721</td>\n",
       "    </tr>\n",
       "    <tr>\n",
       "      <th>2</th>\n",
       "      <td>1.0</td>\n",
       "      <td>20.930527</td>\n",
       "      <td>1.010098</td>\n",
       "      <td>0.004635</td>\n",
       "      <td>0.006583</td>\n",
       "      <td>0.002687</td>\n",
       "      <td>0.186270</td>\n",
       "      <td>0.691904</td>\n",
       "      <td>0.004501</td>\n",
       "      <td>0.045312</td>\n",
       "      <td>0.029524</td>\n",
       "      <td>0.002123</td>\n",
       "      <td>0.001003</td>\n",
       "      <td>-0.000831</td>\n",
       "      <td>-0.000831</td>\n",
       "      <td>-0.015713</td>\n",
       "      <td>0.091670</td>\n",
       "      <td>0.261786</td>\n",
       "      <td>0.024369</td>\n",
       "    </tr>\n",
       "    <tr>\n",
       "      <th>3</th>\n",
       "      <td>0.0</td>\n",
       "      <td>13.955566</td>\n",
       "      <td>1.009153</td>\n",
       "      <td>0.025214</td>\n",
       "      <td>0.079095</td>\n",
       "      <td>0.001333</td>\n",
       "      <td>0.038480</td>\n",
       "      <td>0.833374</td>\n",
       "      <td>0.001928</td>\n",
       "      <td>0.008194</td>\n",
       "      <td>0.007747</td>\n",
       "      <td>-0.000608</td>\n",
       "      <td>-0.000569</td>\n",
       "      <td>-0.003401</td>\n",
       "      <td>-0.003401</td>\n",
       "      <td>-0.052845</td>\n",
       "      <td>0.071037</td>\n",
       "      <td>0.069408</td>\n",
       "      <td>0.009861</td>\n",
       "    </tr>\n",
       "    <tr>\n",
       "      <th>4</th>\n",
       "      <td>0.0</td>\n",
       "      <td>17.932652</td>\n",
       "      <td>1.005328</td>\n",
       "      <td>0.002533</td>\n",
       "      <td>0.021639</td>\n",
       "      <td>0.008585</td>\n",
       "      <td>0.009535</td>\n",
       "      <td>0.409346</td>\n",
       "      <td>0.173541</td>\n",
       "      <td>0.014715</td>\n",
       "      <td>0.348517</td>\n",
       "      <td>0.014123</td>\n",
       "      <td>0.001339</td>\n",
       "      <td>0.001220</td>\n",
       "      <td>-0.001502</td>\n",
       "      <td>-0.015038</td>\n",
       "      <td>0.350453</td>\n",
       "      <td>0.169372</td>\n",
       "      <td>0.004328</td>\n",
       "    </tr>\n",
       "  </tbody>\n",
       "</table>\n",
       "</div>"
      ],
      "text/plain": [
       "   isPhoton  total_energy  core_energy   tower16   tower17   tower18  \\\n",
       "0       0.0     20.359209     1.009005  0.004379  0.004171 -0.001641   \n",
       "1       0.0     13.353674     0.967631  0.047459  0.173874  0.007824   \n",
       "2       1.0     20.930527     1.010098  0.004635  0.006583  0.002687   \n",
       "3       0.0     13.955566     1.009153  0.025214  0.079095  0.001333   \n",
       "4       0.0     17.932652     1.005328  0.002533  0.021639  0.008585   \n",
       "\n",
       "    tower23   tower24   tower25   tower30   tower31   tower32   tower37  \\\n",
       "0  0.040291  0.527701  0.001992  0.037317  0.348048  0.005197  0.000846   \n",
       "1  0.015606  0.711607  0.018163 -0.001814  0.004896  0.010327 -0.001814   \n",
       "2  0.186270  0.691904  0.004501  0.045312  0.029524  0.002123  0.001003   \n",
       "3  0.038480  0.833374  0.001928  0.008194  0.007747 -0.000608 -0.000569   \n",
       "4  0.009535  0.409346  0.173541  0.014715  0.348517  0.014123  0.001339   \n",
       "\n",
       "    tower38   tower39  integrated_perimeter  top_asymmetry  left_asymmetry  \\\n",
       "0  0.013590  0.014833             -0.008593       0.428638        0.061936   \n",
       "1 -0.001814 -0.001814             -0.042999       0.235463        0.031663   \n",
       "2 -0.000831 -0.000831             -0.015713       0.091670        0.261786   \n",
       "3 -0.003401 -0.003401             -0.052845       0.071037        0.069408   \n",
       "4  0.001220 -0.001502             -0.015038       0.350453        0.169372   \n",
       "\n",
       "   max_perimeter  \n",
       "0       0.024091  \n",
       "1      -0.003721  \n",
       "2       0.024369  \n",
       "3       0.009861  \n",
       "4       0.004328  "
      ]
     },
     "execution_count": 135,
     "metadata": {},
     "output_type": "execute_result"
    }
   ],
   "source": [
    "train = preprocess(train)\n",
    "test = preprocess(test)\n",
    "#train = train.drop('total_energy',axis=1)\n",
    "#test = test.drop('total_energy',axis=1)\n",
    "train.head()"
   ]
  },
  {
   "cell_type": "markdown",
   "metadata": {},
   "source": [
    "# Feature Analysis"
   ]
  },
  {
   "cell_type": "code",
   "execution_count": 136,
   "metadata": {},
   "outputs": [
    {
     "data": {
      "image/png": "[encoded data removed]",
      "text/plain": [
       "<Figure size 432x288 with 1 Axes>"
      ]
     },
     "metadata": {
      "needs_background": "light"
     },
     "output_type": "display_data"
    }
   ],
   "source": [
    "groups = train.groupby(['isPhoton'])\n",
    "plt.hist([groups.get_group(0)['total_energy'].values,groups.get_group(1)['total_energy'].values], bins=20,density=True,histtype='step',label=[\"decay\",\"prompt\"])\n",
    "plt.xlabel(\"total_energy\")\n",
    "plt.ylabel(\"dN/dN\")\n",
    "plt.title(\"Single Particle Cluster Energy\")\n",
    "plt.legend()\n",
    "plt.show()"
   ]
  },
  {
   "cell_type": "code",
   "execution_count": 137,
   "metadata": {},
   "outputs": [
    {
     "data": {
      "image/png": "[encoded data removed]",
      "text/plain": [
       "<Figure size 432x288 with 1 Axes>"
      ]
     },
     "metadata": {
      "needs_background": "light"
     },
     "output_type": "display_data"
    }
   ],
   "source": [
    "groups = train.groupby(['isPhoton'])\n",
    "plt.hist([groups.get_group(0)['left_asymmetry'].values,groups.get_group(1)['left_asymmetry'].values], bins=20,density=True,histtype='step',label=[\"Decay\",\"Prompt\"])\n",
    "plt.xlabel(\"Left Asymmetry\")\n",
    "plt.ylabel(\"dN/dN\")\n",
    "plt.title(\"Unsubtracted Cluster Left Asymmetry\")\n",
    "plt.legend()\n",
    "plt.show()"
   ]
  },
  {
   "cell_type": "code",
   "execution_count": 138,
   "metadata": {},
   "outputs": [
    {
     "data": {
      "image/png": "[encoded data removed]",
      "text/plain": [
       "<Figure size 432x288 with 1 Axes>"
      ]
     },
     "metadata": {
      "needs_background": "light"
     },
     "output_type": "display_data"
    }
   ],
   "source": [
    "groups = train.groupby(['isPhoton'])\n",
    "plt.hist([groups.get_group(0)['top_asymmetry'].values,groups.get_group(1)['top_asymmetry'].values], bins=20,density=True,histtype='step',label=[\"Decay\",\"Prompt\"])\n",
    "plt.xlabel(\"Top Asymmetry\")\n",
    "plt.ylabel(\"dN/dN\")\n",
    "plt.title(\"Unsubtracted Cluster Top Asymmetry\")\n",
    "plt.legend()\n",
    "plt.show()"
   ]
  },
  {
   "cell_type": "code",
   "execution_count": 139,
   "metadata": {},
   "outputs": [
    {
     "data": {
      "image/png": "[encoded data removed]",
      "text/plain": [
       "<Figure size 432x288 with 1 Axes>"
      ]
     },
     "metadata": {
      "needs_background": "light"
     },
     "output_type": "display_data"
    }
   ],
   "source": [
    "groups = train.groupby(['isPhoton'])\n",
    "plt.hist2d(groups.get_group(0)['top_asymmetry'].values,\n",
    "           groups.get_group(0)['left_asymmetry'].values,\n",
    "           bins=20,density=True)\n",
    "plt.xlabel(\"Top Asymmetry\")\n",
    "plt.ylabel(\"Left Asymmetry\")\n",
    "plt.title(\"Pi0 Asymmetry\")\n",
    "plt.show()"
   ]
  },
  {
   "cell_type": "code",
   "execution_count": 140,
   "metadata": {},
   "outputs": [
    {
     "data": {
      "image/png": "[encoded data removed]",
      "text/plain": [
       "<Figure size 432x288 with 1 Axes>"
      ]
     },
     "metadata": {
      "needs_background": "light"
     },
     "output_type": "display_data"
    }
   ],
   "source": [
    "groups = train.groupby(['isPhoton'])\n",
    "plt.hist2d(groups.get_group(1)['top_asymmetry'].values,\n",
    "           groups.get_group(1)['left_asymmetry'].values,\n",
    "           bins=20,density=True)\n",
    "plt.xlabel(\"Top Asymmetry\")\n",
    "plt.ylabel(\"Left Asymmetry\")\n",
    "plt.title(\"Photon Asymmetry\")\n",
    "plt.show()"
   ]
  },
  {
   "cell_type": "code",
   "execution_count": 141,
   "metadata": {},
   "outputs": [
    {
     "data": {
      "image/png": "[encoded data removed]",
      "text/plain": [
       "<Figure size 432x288 with 1 Axes>"
      ]
     },
     "metadata": {
      "needs_background": "light"
     },
     "output_type": "display_data"
    }
   ],
   "source": [
    "groups = train.groupby(['isPhoton'])\n",
    "plt.hist([groups.get_group(0)['max_perimeter'].values,groups.get_group(1)['max_perimeter'].values], bins=20,density=True,histtype='step',label=[\"Decay\",\"Prompt\"])\n",
    "plt.xlabel(\"5x5 Perimeter Energy\")\n",
    "plt.ylabel(\"dN/dN\")\n",
    "plt.yscale('log')\n",
    "plt.legend()\n",
    "plt.show()"
   ]
  },
  {
   "cell_type": "code",
   "execution_count": 142,
   "metadata": {},
   "outputs": [
    {
     "data": {
      "image/png": "[encoded data removed]",
      "text/plain": [
       "<Figure size 432x288 with 1 Axes>"
      ]
     },
     "metadata": {
      "needs_background": "light"
     },
     "output_type": "display_data"
    }
   ],
   "source": [
    "groups = train.groupby(['isPhoton'])\n",
    "plt.hist([groups.get_group(0)['core_energy'].values,groups.get_group(1)['core_energy'].values], bins=20,density=True,histtype='step',label=[\"Decay\",\"Prompt\"])\n",
    "plt.xlabel(\"Core Energy\")\n",
    "plt.ylabel(\"dN/dN\")\n",
    "plt.yscale('log')\n",
    "plt.legend(loc=\"upper left\")\n",
    "plt.show()"
   ]
  },
  {
   "cell_type": "code",
   "execution_count": 143,
   "metadata": {},
   "outputs": [
    {
     "data": {
      "image/png": "[encoded data removed]",
      "text/plain": [
       "<Figure size 432x288 with 1 Axes>"
      ]
     },
     "metadata": {
      "needs_background": "light"
     },
     "output_type": "display_data"
    }
   ],
   "source": [
    "groups = train.groupby(['isPhoton'])\n",
    "plt.hist([groups.get_group(0)['tower24'].values,groups.get_group(1)['tower24'].values], bins=20,density=True,histtype='step',label=[\"Decay\",\"Prompt\"])\n",
    "plt.xlabel(\"Central Tower Energy\")\n",
    "plt.ylabel(\"dN/dN\")\n",
    "plt.legend(loc=\"upper left\")\n",
    "plt.show()"
   ]
  },
  {
   "cell_type": "code",
   "execution_count": 144,
   "metadata": {},
   "outputs": [
    {
     "name": "stdout",
     "output_type": "stream",
     "text": [
      "[11 12 13 14 15 16 17 18 19 20 21 22]\n",
      "[0.    0.125 0.25  0.5   0.625 0.75  1.    1.5   2.5  ]\n"
     ]
    },
    {
     "data": {
      "image/png": "[encoded data removed]",
      "text/plain": [
       "<Figure size 432x288 with 1 Axes>"
      ]
     },
     "metadata": {
      "needs_background": "light"
     },
     "output_type": "display_data"
    }
   ],
   "source": [
    "energybins=[11,12,13,14,15,16,17,18,19,20,21,22]\n",
    "ybins = [0,.125,.25,.5,.625,.75,1.,1.5,2.5]\n",
    "total_hist,x,y,i = plt.hist2d(train['total_energy'].values,train['max_perimeter'].values,[energybins,ybins])\n",
    "total_hist = np.array(total_hist)\n",
    "print(x)\n",
    "print(y)"
   ]
  },
  {
   "cell_type": "code",
   "execution_count": 145,
   "metadata": {},
   "outputs": [
    {
     "data": {
      "text/plain": [
       "<matplotlib.collections.QuadMesh at 0x120d57690>"
      ]
     },
     "execution_count": 145,
     "metadata": {},
     "output_type": "execute_result"
    },
    {
     "data": {
      "image/png": "[encoded data removed]",
      "text/plain": [
       "<Figure size 432x288 with 1 Axes>"
      ]
     },
     "metadata": {
      "needs_background": "light"
     },
     "output_type": "display_data"
    }
   ],
   "source": [
    "groups = train.groupby(['isPhoton'])\n",
    "prompt_hist,x,y,i = plt.hist2d(groups.get_group(1)['total_energy'].values,groups.get_group(1)['max_perimeter'].values,bins=[energybins,ybins])\n",
    "prompt_hist = np.array(prompt_hist)\n",
    "ratio = np.divide(prompt_hist,total_hist,out=np.zeros_like(prompt_hist),where = total_hist!=0)\n",
    "i"
   ]
  },
  {
   "cell_type": "code",
   "execution_count": 146,
   "metadata": {},
   "outputs": [
    {
     "data": {
      "image/png": "[encoded data removed]",
      "text/plain": [
       "<Figure size 432x288 with 1 Axes>"
      ]
     },
     "metadata": {
      "needs_background": "light"
     },
     "output_type": "display_data"
    }
   ],
   "source": [
    "groups = train.groupby(['isPhoton'])\n",
    "plt.hist([groups.get_group(0)['integrated_perimeter'].values,groups.get_group(1)['integrated_perimeter'].values], bins=30,density=True,histtype='step',label=[\"Decay\",\"Prompt\"])\n",
    "plt.xlabel(\"Integrated_Perimeter\")\n",
    "plt.ylabel(\"dN/dN\")\n",
    "plt.yscale('log')\n",
    "plt.title(\"Single Cluster 7x7\")\n",
    "plt.legend()\n",
    "plt.show()"
   ]
  },
  {
   "cell_type": "code",
   "execution_count": 147,
   "metadata": {},
   "outputs": [
    {
     "name": "stderr",
     "output_type": "stream",
     "text": [
      "/usr/local/lib/python3.7/site-packages/ipykernel_launcher.py:5: RuntimeWarning: invalid value encountered in double_scalars\n",
      "  \"\"\"\n"
     ]
    },
    {
     "data": {
      "text/plain": [
       "<matplotlib.legend.Legend at 0x120d9c190>"
      ]
     },
     "execution_count": 147,
     "metadata": {},
     "output_type": "execute_result"
    },
    {
     "data": {
      "image/png": "[encoded data removed]",
      "text/plain": [
       "<Figure size 432x288 with 1 Axes>"
      ]
     },
     "metadata": {
      "needs_background": "light"
     },
     "output_type": "display_data"
    }
   ],
   "source": [
    "#prompt = make2dHistTrend(pdata,x,y)\n",
    "dmeans = myBinnedStat(groups.get_group(0)['total_energy'],groups.get_group(0)['integrated_perimeter'],energybins)\n",
    "pmeans = myBinnedStat(groups.get_group(1)['total_energy'],groups.get_group(1)['integrated_perimeter'],energybins)\n",
    "plt.errorbar(energybins[0:len(energybins)-1],[m.n for m in dmeans],yerr=[m.s for m in dmeans])\n",
    "plt.errorbar(energybins[0:len(energybins)-1],[m.n for m in pmeans],yerr=[m.s for m in pmeans])\n",
    "plt.xlabel(\"Cluster Energy\")\n",
    "plt.ylabel(\"Mean 7x7 Perimeter Energy\")\n",
    "plt.legend([\"Decay\",\"Prompt\"])"
   ]
  },
  {
   "cell_type": "markdown",
   "metadata": {},
   "source": [
    "# Training"
   ]
  },
  {
   "cell_type": "markdown",
   "metadata": {},
   "source": [
    "knn = kNN(train,test)"
   ]
  },
  {
   "cell_type": "markdown",
   "metadata": {},
   "source": [
    "knn.score()"
   ]
  },
  {
   "cell_type": "markdown",
   "metadata": {},
   "source": [
    "knn.best_param()"
   ]
  },
  {
   "cell_type": "markdown",
   "metadata": {},
   "source": [
    "lda  = LDA(train,test)"
   ]
  },
  {
   "cell_type": "code",
   "execution_count": 148,
   "metadata": {},
   "outputs": [],
   "source": [
    "logistic  = Logistic(train,test)"
   ]
  },
  {
   "cell_type": "code",
   "execution_count": 149,
   "metadata": {},
   "outputs": [
    {
     "data": {
      "image/png": "[encoded data removed]",
      "text/plain": [
       "<Figure size 432x288 with 1 Axes>"
      ]
     },
     "metadata": {
      "needs_background": "light"
     },
     "output_type": "display_data"
    }
   ],
   "source": [
    "groups = test.groupby(['isPhoton'])\n",
    "plt.hist([logistic.estimate(groups.get_group(0).drop(['isPhoton'],axis=1))[:,1]  , logistic.estimate(groups.get_group(1).drop(['isPhoton'],axis=1))[:,1]], bins=20,density=True,histtype='step',label=[\"decay\",\"prompt\"])\n",
    "plt.xlabel(\"Logit Prob\")\n",
    "plt.ylabel(\"dN/dN\")\n",
    "plt.title(\"Subtracted Cluster Logistic Prob\")\n",
    "plt.legend()\n",
    "plt.show()"
   ]
  },
  {
   "cell_type": "code",
   "execution_count": 150,
   "metadata": {},
   "outputs": [
    {
     "name": "stdout",
     "output_type": "stream",
     "text": [
      "Logistic\n",
      "\t F1: 0.04789528484307639\n",
      "\t Precision: 0.32103688933200397\n",
      "\t Recall: 0.025878003696857894\n",
      "\t Kappa: 0.01634065541087404\n",
      "\t Matrix: [[465.804   2.724]\n",
      " [ 48.484   1.288]]\n"
     ]
    }
   ],
   "source": [
    "logistic.score()"
   ]
  },
  {
   "cell_type": "code",
   "execution_count": 151,
   "metadata": {},
   "outputs": [],
   "source": [
    "randomForest = RandomForest(train,test)"
   ]
  },
  {
   "cell_type": "code",
   "execution_count": 152,
   "metadata": {},
   "outputs": [
    {
     "name": "stdout",
     "output_type": "stream",
     "text": [
      "RandomForest\n",
      "\t F1: 0.3066360030663579\n",
      "\t Precision: 0.19342766436095105\n",
      "\t Recall: 0.7393715341959347\n",
      "\t Kappa: -0.02541794513673601\n",
      "\t Matrix: [[315.076 153.452]\n",
      " [ 12.972  36.8  ]]\n"
     ]
    }
   ],
   "source": [
    "randomForest.score()"
   ]
  },
  {
   "cell_type": "code",
   "execution_count": 153,
   "metadata": {},
   "outputs": [
    {
     "data": {
      "image/png": "[encoded data removed]",
      "text/plain": [
       "<Figure size 432x288 with 1 Axes>"
      ]
     },
     "metadata": {
      "needs_background": "light"
     },
     "output_type": "display_data"
    }
   ],
   "source": [
    "groups = test.groupby(['isPhoton'])\n",
    "plt.hist([randomForest.estimate(groups.get_group(0).drop(['isPhoton'],axis=1))[:,1]  , randomForest.estimate(groups.get_group(1).drop(['isPhoton'],axis=1))[:,1]], bins=20,density=True,histtype='step',label=[\"decay\",\"prompt\"])\n",
    "plt.xlabel(\"Forest Prob\")\n",
    "plt.ylabel(\"dN/dN\")\n",
    "plt.title(\"Subtracted Cluster Forest Prob\")\n",
    "plt.legend()\n",
    "plt.show()"
   ]
  },
  {
   "cell_type": "code",
   "execution_count": 154,
   "metadata": {},
   "outputs": [
    {
     "data": {
      "text/plain": [
       "Text(0.5, 1.0, 'Prompt Photons')"
      ]
     },
     "execution_count": 154,
     "metadata": {},
     "output_type": "execute_result"
    },
    {
     "data": {
      "image/png": "[encoded data removed]",
      "text/plain": [
       "<Figure size 432x288 with 1 Axes>"
      ]
     },
     "metadata": {
      "needs_background": "light"
     },
     "output_type": "display_data"
    }
   ],
   "source": [
    "groups = test.groupby(['isPhoton'])\n",
    "pdata, x,y,i = plt.hist2d(groups.get_group(1)['total_energy'], randomForest.estimate(groups.get_group(1).drop(['isPhoton'],axis=1))[:,1])\n",
    "plt.xlabel(\"Cluster Energy\")\n",
    "plt.ylabel(\"Forest Probability\")\n",
    "plt.title(\"Prompt Photons\")"
   ]
  },
  {
   "cell_type": "code",
   "execution_count": 155,
   "metadata": {},
   "outputs": [
    {
     "data": {
      "text/plain": [
       "<matplotlib.legend.Legend at 0x120f9eb10>"
      ]
     },
     "execution_count": 155,
     "metadata": {},
     "output_type": "execute_result"
    },
    {
     "data": {
      "image/png": "[encoded data removed]",
      "text/plain": [
       "<Figure size 432x288 with 1 Axes>"
      ]
     },
     "metadata": {
      "needs_background": "light"
     },
     "output_type": "display_data"
    }
   ],
   "source": [
    "#prompt = make2dHistTrend(pdata,x,y)\n",
    "energybins = [13,14,15,16,17,18,19,20]\n",
    "dmeans = myBinnedStat(groups.get_group(0)['total_energy'],groups.get_group(0)['max_perimeter'],energybins)\n",
    "pmeans = myBinnedStat(groups.get_group(1)['total_energy'],groups.get_group(1)['max_perimeter'],energybins)\n",
    "plt.errorbar(energybins[0:len(energybins)-1],[m.n for m in dmeans],yerr=[m.s for m in dmeans])\n",
    "plt.errorbar(energybins[0:len(energybins)-1],[m.n for m in pmeans],yerr=[m.s for m in pmeans])\n",
    "plt.xlabel(\"Cluster Energy\")\n",
    "plt.ylabel(\"Mean 5x5 Perimeter Energy\")\n",
    "plt.legend([\"Decay\",\"Prompt\"])"
   ]
  },
  {
   "cell_type": "code",
   "execution_count": 156,
   "metadata": {},
   "outputs": [
    {
     "data": {
      "text/plain": [
       "<matplotlib.legend.Legend at 0x120767ed0>"
      ]
     },
     "execution_count": 156,
     "metadata": {},
     "output_type": "execute_result"
    },
    {
     "data": {
      "image/png": "[encoded data removed]",
      "text/plain": [
       "<Figure size 432x288 with 1 Axes>"
      ]
     },
     "metadata": {
      "needs_background": "light"
     },
     "output_type": "display_data"
    }
   ],
   "source": [
    "#prompt = make2dHistTrend(pdata,x,y)\n",
    "energybins = [13,14,15,16,17,18,19,20,21]\n",
    "dmeans = myBinnedStat(groups.get_group(0)['total_energy'],groups.get_group(0)['core_energy'],energybins)\n",
    "pmeans = myBinnedStat(groups.get_group(1)['total_energy'],groups.get_group(1)['core_energy'],energybins)\n",
    "plt.errorbar(energybins[0:len(energybins)-1],[m.n for m in dmeans],yerr=[m.s for m in dmeans])\n",
    "plt.errorbar(energybins[0:len(energybins)-1],[m.n for m in pmeans],yerr=[m.s for m in pmeans])\n",
    "plt.xlabel(\"Cluster Energy\")\n",
    "plt.ylabel(\"Mean 5x5 Perimeter Energy\")\n",
    "plt.legend([\"Decay\",\"Prompt\"])"
   ]
  },
  {
   "cell_type": "code",
   "execution_count": 157,
   "metadata": {},
   "outputs": [
    {
     "data": {
      "text/plain": [
       "<matplotlib.legend.Legend at 0x1202bc390>"
      ]
     },
     "execution_count": 157,
     "metadata": {},
     "output_type": "execute_result"
    },
    {
     "data": {
      "image/png": "[encoded data removed]",
      "text/plain": [
       "<Figure size 432x288 with 1 Axes>"
      ]
     },
     "metadata": {
      "needs_background": "light"
     },
     "output_type": "display_data"
    }
   ],
   "source": [
    "dmeans = myBinnedStat(groups.get_group(0)['total_energy'],randomForest.estimate(groups.get_group(0).drop(['isPhoton'],axis=1))[:,1],energybins)\n",
    "pmeans = myBinnedStat(groups.get_group(1)['total_energy'],randomForest.estimate(groups.get_group(1).drop(['isPhoton'],axis=1))[:,1],energybins)\n",
    "plt.errorbar(energybins[0:len(energybins)-1],[m.n for m in dmeans],yerr=[m.s for m in dmeans])\n",
    "plt.errorbar(energybins[0:len(energybins)-1],[m.n for m in pmeans],yerr=[m.s for m in pmeans])\n",
    "plt.xlabel(\"Cluster Energy\")\n",
    "plt.ylabel(\"Mean Forest Prob\")\n",
    "plt.legend([\"Decay\",\"Prompt\"])"
   ]
  },
  {
   "cell_type": "code",
   "execution_count": 158,
   "metadata": {},
   "outputs": [
    {
     "name": "stdout",
     "output_type": "stream",
     "text": [
      "{'n_estimators': 100}\n"
     ]
    }
   ],
   "source": [
    "randomForest.best_param()"
   ]
  },
  {
   "cell_type": "code",
   "execution_count": null,
   "metadata": {},
   "outputs": [],
   "source": [
    "diagnoseForest(randomForest.classifier.best_estimator_,list(train.drop('isPhoton',axis=1)))"
   ]
  },
  {
   "cell_type": "code",
   "execution_count": null,
   "metadata": {},
   "outputs": [],
   "source": [
    "forestImportance(randomForest.classifier.best_estimator_,list(train.drop('isPhoton',axis=1)))"
   ]
  },
  {
   "cell_type": "code",
   "execution_count": 1384,
   "metadata": {},
   "outputs": [],
   "source": [
    "svc = SVC(train,test)"
   ]
  },
  {
   "cell_type": "code",
   "execution_count": 1394,
   "metadata": {},
   "outputs": [
    {
     "data": {
      "image/png": "[encoded data removed]",
      "text/plain": [
       "<Figure size 432x288 with 1 Axes>"
      ]
     },
     "metadata": {
      "needs_background": "light"
     },
     "output_type": "display_data"
    }
   ],
   "source": [
    "groups = test.groupby(['isPhoton'])\n",
    "plt.hist([svc.estimate(groups.get_group(0).drop(['isPhoton'],axis=1))[:,1]  , randomForest.estimate(groups.get_group(1).drop(['isPhoton'],axis=1))[:,1]], bins=20,density=True,histtype='step',label=[\"decay\",\"prompt\"])\n",
    "plt.xlabel(\"SVC Prob\")\n",
    "plt.ylabel(\"dN/dN\")\n",
    "plt.title(\"Subtracted Cluster SVC Prob\")\n",
    "plt.legend()\n",
    "plt.show()"
   ]
  },
  {
   "cell_type": "code",
   "execution_count": 1385,
   "metadata": {},
   "outputs": [
    {
     "name": "stdout",
     "output_type": "stream",
     "text": [
      "SVC\n",
      "\t F1: 0.0\n",
      "\t Precision: 0.0\n"
     ]
    },
    {
     "name": "stderr",
     "output_type": "stream",
     "text": [
      "/usr/local/lib/python3.7/site-packages/sklearn/metrics/_classification.py:1272: UndefinedMetricWarning: Precision is ill-defined and being set to 0.0 due to no predicted samples. Use `zero_division` parameter to control this behavior.\n",
      "  _warn_prf(average, modifier, msg_start, len(result))\n"
     ]
    },
    {
     "name": "stdout",
     "output_type": "stream",
     "text": [
      "\t Recall: 0.0\n",
      "\t Kappa: 0.0\n",
      "\t Matrix: [[1531.796    0.   ]\n",
      " [  66.7      0.   ]]\n"
     ]
    }
   ],
   "source": [
    "svc.score()"
   ]
  },
  {
   "cell_type": "code",
   "execution_count": 949,
   "metadata": {},
   "outputs": [],
   "source": [
    "bdt = BDT(train,test)"
   ]
  },
  {
   "cell_type": "code",
   "execution_count": null,
   "metadata": {
    "scrolled": true
   },
   "outputs": [],
   "source": [
    "bdt.score()"
   ]
  },
  {
   "cell_type": "code",
   "execution_count": null,
   "metadata": {},
   "outputs": [],
   "source": [
    "bdt.best_param()"
   ]
  },
  {
   "cell_type": "code",
   "execution_count": null,
   "metadata": {},
   "outputs": [],
   "source": [
    "groups = test.groupby(['isPhoton'])\n",
    "plt.hist([bdt.estimate(groups.get_group(0).drop(['isPhoton'],axis=1))[:,1]  , bdt.estimate(groups.get_group(1).drop(['isPhoton'],axis=1))[:,1]], bins=10,density=True,histtype='step',label=[\"decay\",\"prompt\"])\n",
    "plt.xlabel(\"BDT Prob\")\n",
    "plt.ylabel(\"dN/dN\")\n",
    "plt.title(\"Subtracted Cluster BDT Prob\")\n",
    "plt.legend()\n",
    "plt.show()"
   ]
  },
  {
   "cell_type": "code",
   "execution_count": null,
   "metadata": {},
   "outputs": [],
   "source": [
    "mlp = MLP(train,test)"
   ]
  },
  {
   "cell_type": "code",
   "execution_count": null,
   "metadata": {},
   "outputs": [],
   "source": [
    "groups = test.groupby(['isPhoton'])\n",
    "plt.hist([bdt.estimate(groups.get_group(0).drop(['isPhoton'],axis=1))[:,1]  , mlp.estimate(groups.get_group(1).drop(['isPhoton'],axis=1))[:,1]], bins=20,density=True,histtype='step',label=[\"decay\",\"prompt\"])\n",
    "plt.xlabel(\"MLP Prob\")\n",
    "plt.ylabel(\"dN/dN\")\n",
    "plt.title(\"Subtracted Cluster MLP Prob\")\n",
    "plt.legend()\n",
    "plt.show()"
   ]
  },
  {
   "cell_type": "code",
   "execution_count": null,
   "metadata": {},
   "outputs": [],
   "source": [
    "mlp.score()"
   ]
  },
  {
   "cell_type": "code",
   "execution_count": null,
   "metadata": {},
   "outputs": [],
   "source": [
    "mlp.best_param()"
   ]
  },
  {
   "cell_type": "code",
   "execution_count": 1392,
   "metadata": {},
   "outputs": [
    {
     "name": "stdout",
     "output_type": "stream",
     "text": [
      "Logistic\n",
      "RandomForest\n",
      "SVC\n"
     ]
    },
    {
     "data": {
      "image/png": "[encoded data removed]",
      "text/plain": [
       "<Figure size 432x288 with 1 Axes>"
      ]
     },
     "metadata": {
      "needs_background": "light"
     },
     "output_type": "display_data"
    }
   ],
   "source": [
    "algos = [logistic,randomForest,svc]\n",
    "plotRoc(algos)"
   ]
  },
  {
   "cell_type": "code",
   "execution_count": 1393,
   "metadata": {},
   "outputs": [
    {
     "name": "stdout",
     "output_type": "stream",
     "text": [
      "Logistic\n",
      "RandomForest\n",
      "SVC\n"
     ]
    },
    {
     "data": {
      "image/png": "[encoded data removed]",
      "text/plain": [
       "<Figure size 432x288 with 1 Axes>"
      ]
     },
     "metadata": {
      "needs_background": "light"
     },
     "output_type": "display_data"
    }
   ],
   "source": [
    "algos = [logistic,randomForest,svc]\n",
    "plotPRC(algos)"
   ]
  },
  {
   "cell_type": "code",
   "execution_count": null,
   "metadata": {},
   "outputs": [],
   "source": [
    "for algo in algos:\n",
    "    algo.score()"
   ]
  },
  {
   "cell_type": "code",
   "execution_count": 896,
   "metadata": {},
   "outputs": [],
   "source": [
    "def clusterMap(event):\n",
    "    cluster = []\n",
    "    for i in range(0,7):\n",
    "        row=[]\n",
    "        for j in range(0,7):\n",
    "            if event['tower'+str(7*i+j)] != -999:\n",
    "                row.append(event['tower'+str(7*i+j)])\n",
    "            else:\n",
    "                row.append(0)\n",
    "        cluster.append(row)\n",
    "    cluster = np.array(cluster)\n",
    "    fig, ax = plt.subplots()\n",
    "    p = ax.imshow(cluster,)\n",
    "    for i in range(0,7):\n",
    "        for j in range(0,7):\n",
    "            text = ax.text(j, i, round(cluster[i, j], 2),\n",
    "                       ha=\"center\", va=\"center\", color=\"w\")\n",
    "    ax.set_title(round(event['total_energy'],2))\n"
   ]
  },
  {
   "cell_type": "code",
   "execution_count": 1267,
   "metadata": {},
   "outputs": [],
   "source": [
    "def csvNoMix(signal):\n",
    "    df = pd.read_csv(signal)\n",
    "    df = df.groupby(['isPhoton']).get_group(1)\n",
    "    df = df.drop(['isPhoton'], axis=1)\n",
    "    df['pid'] = df['pid'].apply(removeCombined)\n",
    "    df = df.dropna()\n",
    "    df['pid'] = df['pid'].apply(pid2Type)\n",
    "    df = df.rename(columns = {'pid':'isPhoton'})\n",
    "    df = df[df['total_energy']<22]\n",
    "    df = df[df['total_energy']>13]\n",
    "    return df"
   ]
  },
  {
   "cell_type": "code",
   "execution_count": 898,
   "metadata": {},
   "outputs": [],
   "source": [
    "signal = csvNoMix(\"singleclusters.csv\")\n",
    "back = csvNoMix(\"sback.csv\")"
   ]
  },
  {
   "cell_type": "code",
   "execution_count": 899,
   "metadata": {},
   "outputs": [
    {
     "name": "stdout",
     "output_type": "stream",
     "text": [
      "Prompt Events\n",
      "forest\n",
      "[[0.8975 0.1025]\n",
      " [0.6425 0.3575]\n",
      " [0.1325 0.8675]\n",
      " [0.     1.    ]\n",
      " [0.0225 0.9775]\n",
      " [0.8475 0.1525]\n",
      " [0.145  0.855 ]]\n",
      "[0. 0. 1. 1. 1. 0. 1.]\n"
     ]
    },
    {
     "data": {
      "image/png": "[encoded data removed]",
      "text/plain": [
       "<Figure size 432x288 with 1 Axes>"
      ]
     },
     "metadata": {
      "needs_background": "light"
     },
     "output_type": "display_data"
    },
    {
     "data": {
      "image/png": "[encoded data removed]",
      "text/plain": [
       "<Figure size 432x288 with 1 Axes>"
      ]
     },
     "metadata": {
      "needs_background": "light"
     },
     "output_type": "display_data"
    },
    {
     "data": {
      "image/png": "[encoded data removed]",
      "text/plain": [
       "<Figure size 432x288 with 1 Axes>"
      ]
     },
     "metadata": {
      "needs_background": "light"
     },
     "output_type": "display_data"
    }
   ],
   "source": [
    "print(\"Prompt Events\")\n",
    "clusterMap(signal.iloc[6])\n",
    "clusterMap(signal.iloc[1])\n",
    "clusterMap(signal.iloc[2])\n",
    "\n",
    "signalp  = preprocess (signal)\n",
    "signalp = signalp.drop(['isPhoton','sProb','cal_energy'],axis=1)\n",
    "print(\"forest\")\n",
    "print(randomForest.classifier.predict_proba([signalp.iloc[i] for i in range(0,7)]))\n",
    "print(randomForest.predict([signalp.iloc[i] for i in range(0,7)]))\n",
    "\n"
   ]
  },
  {
   "cell_type": "code",
   "execution_count": 900,
   "metadata": {},
   "outputs": [
    {
     "name": "stdout",
     "output_type": "stream",
     "text": [
      "Decay Events\n"
     ]
    },
    {
     "data": {
      "text/plain": [
       "array([[0.9975, 0.0025],\n",
       "       [0.8475, 0.1525],\n",
       "       [0.8825, 0.1175]])"
      ]
     },
     "execution_count": 900,
     "metadata": {},
     "output_type": "execute_result"
    },
    {
     "data": {
      "image/png": "[encoded data removed]",
      "text/plain": [
       "<Figure size 432x288 with 1 Axes>"
      ]
     },
     "metadata": {
      "needs_background": "light"
     },
     "output_type": "display_data"
    },
    {
     "data": {
      "image/png": "[encoded data removed]",
      "text/plain": [
       "<Figure size 432x288 with 1 Axes>"
      ]
     },
     "metadata": {
      "needs_background": "light"
     },
     "output_type": "display_data"
    },
    {
     "data": {
      "image/png": "[encoded data removed]",
      "text/plain": [
       "<Figure size 432x288 with 1 Axes>"
      ]
     },
     "metadata": {
      "needs_background": "light"
     },
     "output_type": "display_data"
    }
   ],
   "source": [
    "print(\"Decay Events\")\n",
    "clusterMap(back.iloc[0])\n",
    "clusterMap(back.iloc[1])\n",
    "clusterMap(back.iloc[2])\n",
    "\n",
    "backp  = preprocess (back)\n",
    "backp = backp.drop(['isPhoton','sProb',\"cal_energy\"],axis=1)\n",
    "randomForest.classifier.predict_proba([backp.iloc[i] for i in range(0,3)])\n",
    "\n"
   ]
  },
  {
   "cell_type": "code",
   "execution_count": null,
   "metadata": {},
   "outputs": [],
   "source": []
  },
  {
   "cell_type": "code",
   "execution_count": 901,
   "metadata": {},
   "outputs": [
    {
     "ename": "TypeError",
     "evalue": "predict() missing 1 required positional argument: 'cluster'",
     "output_type": "error",
     "traceback": [
      "\u001b[0;31m---------------------------------------------------------------------------\u001b[0m",
      "\u001b[0;31mTypeError\u001b[0m                                 Traceback (most recent call last)",
      "\u001b[0;32m<ipython-input-901-e1febb81d437>\u001b[0m in \u001b[0;36m<module>\u001b[0;34m\u001b[0m\n\u001b[0;32m----> 1\u001b[0;31m \u001b[0mrandomForest\u001b[0m\u001b[0;34m.\u001b[0m\u001b[0mpredict\u001b[0m\u001b[0;34m(\u001b[0m\u001b[0;34m)\u001b[0m\u001b[0;34m\u001b[0m\u001b[0;34m\u001b[0m\u001b[0m\n\u001b[0m",
      "\u001b[0;31mTypeError\u001b[0m: predict() missing 1 required positional argument: 'cluster'"
     ]
    }
   ],
   "source": [
    "randomForest.predict()"
   ]
  }
 ],
 "metadata": {
  "kernelspec": {
   "display_name": "Python 3",
   "language": "python",
   "name": "python3"
  },
  "language_info": {
   "codemirror_mode": {
    "name": "ipython",
    "version": 3
   },
   "file_extension": ".py",
   "mimetype": "text/x-python",
   "name": "python",
   "nbconvert_exporter": "python",
   "pygments_lexer": "ipython3",
   "version": "3.7.6"
  }
 },
 "nbformat": 4,
 "nbformat_minor": 2
}
