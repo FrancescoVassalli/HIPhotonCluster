{
 "cells": [
  {
   "cell_type": "code",
   "execution_count": 124,
   "metadata": {},
   "outputs": [],
   "source": [
    "import pandas as pd\n",
    "import matplotlib.pyplot as plt\n",
    "import numpy as np\n",
    "from cycler import cycler\n",
    "from abc import ABC, abstractmethod\n",
    "from subprocess import call\n",
    "from IPython.display import Image\n",
    "from sklearn.model_selection import train_test_split as dataSplitter\n",
    "from sklearn.model_selection import GridSearchCV\n",
    "from sklearn.base import ClassifierMixin\n",
    "from sklearn.neighbors import KNeighborsClassifier as skKNN\n",
    "from sklearn.linear_model import LogisticRegression\n",
    "from sklearn.discriminant_analysis import LinearDiscriminantAnalysis as skLDA\n",
    "from sklearn.ensemble import AdaBoostClassifier\n",
    "from sklearn.ensemble import RandomForestClassifier\n",
    "from sklearn.neural_network import MLPClassifier\n",
    "from sklearn.metrics import roc_curve, auc\n",
    "from sklearn.preprocessing import StandardScaler\n",
    "from sklearn.tree import export_graphviz"
   ]
  },
  {
   "cell_type": "code",
   "execution_count": 125,
   "metadata": {},
   "outputs": [],
   "source": [
    "#in future version add roc inside here \n",
    "class Algo:\n",
    "\tdef __init__(self,trainData,testData):\n",
    "\t\tself.classifier  = ClassifierMixin()\n",
    "\t\tself.train(trainData)\n",
    "\t\tself.test = testData\n",
    "\t@abstractmethod\n",
    "\tdef train(self,data):\n",
    "\t\tpass\n",
    "\t@abstractmethod\n",
    "\tdef getName(self,data):\n",
    "\t\tpass\n",
    "\tdef score(self):\n",
    "\t\tprint(\"test score = \"+str(self.classifier.score(self.test.drop(['isPhoton'],axis=1),self.test['isPhoton'])))\n",
    "\tdef best_param(self):\n",
    "\t\tprint(self.classifier.best_params_)\n",
    "\tdef estimate(self,cluster):\n",
    "\t\treturn self.classifier.predict_proba(cluster)\n",
    "\tdef make_roc(self):\n",
    "\t\t#print(self.estimate(self.test.drop(['isPhoton'],axis=1))[:,1])\n",
    "\t\treturn roc_curve(self.test['isPhoton'],self.estimate(self.test.drop(['isPhoton'],axis=1))[:,1])"
   ]
  },
  {
   "cell_type": "code",
   "execution_count": 126,
   "metadata": {},
   "outputs": [],
   "source": [
    "class Sasha(Algo):\n",
    "    def __intit__(self,trainData,testData):\n",
    "        Algo.__init__(trainData,testData)\n",
    "    def train(self,data):\n",
    "        #does nothing algo comes pretrained\n",
    "        return\n",
    "    def getName(self):\n",
    "        return \"Sasha\"\n",
    "    def estimate(self,cluster):\n",
    "        estimates = cluster['sProb'].values\n",
    "        return estimates\n",
    "    def make_roc(self):\n",
    "        return roc_curve(self.test['isPhoton'],self.estimate(self.test))"
   ]
  },
  {
   "cell_type": "code",
   "execution_count": 127,
   "metadata": {},
   "outputs": [],
   "source": [
    "class kNN(Algo):\n",
    "\tdef __intit__(self,trainData,testData):\n",
    "\t\tAlgo.__init__(trainData,testData)\n",
    "\tdef train(self,data):\n",
    "        #split data and score\n",
    "\t\tself.classifier = GridSearchCV(skKNN(),{'n_neighbors':[24,32,38]},cv=5).fit(data.drop(['isPhoton'],axis=1),data['isPhoton'])\n",
    "\tdef getName(self):\n",
    "\t\treturn \"kNN\""
   ]
  },
  {
   "cell_type": "code",
   "execution_count": 128,
   "metadata": {},
   "outputs": [],
   "source": [
    "class LDA(Algo):\n",
    "\tdef __intit__(self,trainData,testData):\n",
    "\t\tAlgo.__init__(trainData,testData)\n",
    "\tdef train(self,data):\n",
    "        #split data and score\n",
    "\t\tself.classifier = GridSearchCV(skLDA(solver='lsqr'),{'tol':[1e-4,1e-5,1e-3]},cv=5).fit(data.drop(['isPhoton'],axis=1),data['isPhoton'])\n",
    "\tdef getName(self):\n",
    "\t\treturn \"LDA\""
   ]
  },
  {
   "cell_type": "code",
   "execution_count": 129,
   "metadata": {},
   "outputs": [],
   "source": [
    "class Logistic(Algo):\n",
    "\tdef __intit__(self,trainData,testData):\n",
    "\t\tAlgo.__init__(trainData,testData)\n",
    "\n",
    "\tdef train(self,data):\n",
    "        #split data and score\n",
    "\t\tself.classifier = GridSearchCV(LogisticRegression(penalty='l1',solver='liblinear',max_iter=1000),{'tol':[1e-4,1e-5,1e-4],'C':[.1,1,10]},cv=5).fit(data.drop(['isPhoton'],axis=1),data['isPhoton'])\n",
    "\tdef getName(self):\n",
    "\t\treturn \"Logistic\""
   ]
  },
  {
   "cell_type": "code",
   "execution_count": 130,
   "metadata": {},
   "outputs": [],
   "source": [
    "class BDT(Algo):\n",
    "\tdef __intit__(self,trainData,testData):\n",
    "\t\tAlgo.__init__(trainData,testData)\n",
    "\tdef train(self,data):\n",
    "        #split data and score\n",
    "\t\tself.classifier = GridSearchCV(AdaBoostClassifier(),{'n_estimators':[10000],'learning_rate':[.1,1,.01]},cv=5).fit(data.drop(['isPhoton'],axis=1),data['isPhoton'])\n",
    "\tdef getName(self):\n",
    "\t\treturn \"BDT\""
   ]
  },
  {
   "cell_type": "code",
   "execution_count": 131,
   "metadata": {},
   "outputs": [],
   "source": [
    "class RandomForest(Algo):\n",
    "\tdef __intit__(self,trainData,testData):\n",
    "\t\tAlgo.__init__(trainData,testData)\n",
    "\tdef train(self,data):\n",
    "        #split data and score\n",
    "\t\tself.classifier = GridSearchCV(RandomForestClassifier(),{'n_estimators':[500]},cv=5).fit(data.drop(['isPhoton'],axis=1),data['isPhoton'])\n",
    "\tdef getName(self):\n",
    "\t\treturn \"RandomForest\""
   ]
  },
  {
   "cell_type": "code",
   "execution_count": 132,
   "metadata": {},
   "outputs": [],
   "source": [
    "class MLP(Algo):\n",
    "\tdef __intit__(self,trainData,testData):\n",
    "\t\ttrainData, testData = scaler(trainData,testData)\n",
    "\t\tAlgo.__init__(trainData,testData)\n",
    "\t\tself.name=\"MLP\"\n",
    "\tdef scaler(self,train,test):\n",
    "\t\t_scaler = StandardScaler()\n",
    "\t\t_scaler.fit_transform(train)\n",
    "\t\t_scaler.transform(test)\n",
    "\t\treturn train, test\n",
    "\tdef train(self,data):\n",
    "        #split data and score\n",
    "\t\tself.classifier = GridSearchCV(MLPClassifier(early_stopping=True),{'alpha':[1e-4,1e-3,1e-5],'learning_rate_init':[1e-2,1e-3,1e-1],'epsilon':[1e-9,1e-8,1e-10],'hidden_layer_sizes':[[17,17]]},cv=5).fit(data.drop(['isPhoton'],axis=1),data['isPhoton'])\n",
    "\tdef getName(self):\n",
    "\t\treturn \"MLP\""
   ]
  },
  {
   "cell_type": "code",
   "execution_count": 134,
   "metadata": {},
   "outputs": [],
   "source": [
    "def plotRoc(algos):\n",
    "    fpr = dict()\n",
    "    tpr = dict()\n",
    "    roc_auc = dict()\n",
    "    plt.figure()\n",
    "    plt.rc('axes', prop_cycle=(cycler('color', ['r', 'g', 'b', 'y'])))\n",
    "    lw = len(algos) + 1\n",
    "    for algo in algos:\n",
    "        print(algo.getName())\n",
    "        fpr[algo], tpr[algo],_ = algo.make_roc()\n",
    "        roc_auc[algo] = auc(fpr[algo],tpr[algo])\n",
    "        plt.plot(fpr[algo], tpr[algo],\n",
    "         lw=lw, label=algo.getName()+' (area = %0.2f)' % roc_auc[algo])\n",
    "    plt.plot([0, 1], [0, 1], color='navy', lw=lw, linestyle='--')\n",
    "    plt.xlim([0.0, 1.0])\n",
    "    plt.ylim([0.0, 1.05])\n",
    "    plt.xlabel('False Positive Rate')\n",
    "    plt.ylabel('True Positive Rate')\n",
    "    plt.legend(loc=\"lower right\")\n",
    "    plt.show()"
   ]
  },
  {
   "cell_type": "code",
   "execution_count": 135,
   "metadata": {},
   "outputs": [],
   "source": [
    "def diagnoseForest(model,names):\n",
    "    index = 0\n",
    "    #for estimator in model.estimators_:\n",
    "    estimator = model.estimators_[5]\n",
    "    title = 'tree'+str(index)+'.dot'\n",
    "    export_graphviz(estimator, out_file=title, \n",
    "                feature_names = names,\n",
    "                class_names = ['Jet','Photon'],\n",
    "                rounded = True, proportion = False, \n",
    "                precision = 2, filled = True)\n",
    "    newTitle = 'tree'+str(index)+'.png'\n",
    "        #call(['dot','-Tpng', title, '-o', newTitle, '-Gdpi=600'])\n",
    "    Image(filename = newTitle)\n",
    "    index = index+1"
   ]
  },
  {
   "cell_type": "code",
   "execution_count": 163,
   "metadata": {},
   "outputs": [],
   "source": [
    "def csvToInput(path):\n",
    "    df = pd.read_csv(path)\n",
    "    df = df[df['total_energy']>5]\n",
    "    train, test = dataSplitter(df.values,test_size=.2,shuffle=True)\n",
    "    train = pd.DataFrame(columns=df.columns,data=train)\n",
    "    test = pd.DataFrame(columns=df.columns,data=test)\n",
    "    return train,test"
   ]
  },
  {
   "cell_type": "code",
   "execution_count": 164,
   "metadata": {},
   "outputs": [
    {
     "data": {
      "text/html": [
       "<div>\n",
       "<style scoped>\n",
       "    .dataframe tbody tr th:only-of-type {\n",
       "        vertical-align: middle;\n",
       "    }\n",
       "\n",
       "    .dataframe tbody tr th {\n",
       "        vertical-align: top;\n",
       "    }\n",
       "\n",
       "    .dataframe thead th {\n",
       "        text-align: right;\n",
       "    }\n",
       "</style>\n",
       "<table border=\"1\" class=\"dataframe\">\n",
       "  <thead>\n",
       "    <tr style=\"text-align: right;\">\n",
       "      <th></th>\n",
       "      <th>Unnamed: 0</th>\n",
       "      <th>isPhoton</th>\n",
       "      <th>total_energy</th>\n",
       "      <th>cal_energy</th>\n",
       "      <th>core_energy</th>\n",
       "      <th>pid</th>\n",
       "      <th>tower0</th>\n",
       "      <th>tower1</th>\n",
       "      <th>tower2</th>\n",
       "      <th>tower3</th>\n",
       "      <th>...</th>\n",
       "      <th>tower39</th>\n",
       "      <th>tower40</th>\n",
       "      <th>tower41</th>\n",
       "      <th>tower42</th>\n",
       "      <th>tower43</th>\n",
       "      <th>tower44</th>\n",
       "      <th>tower45</th>\n",
       "      <th>tower46</th>\n",
       "      <th>tower47</th>\n",
       "      <th>tower48</th>\n",
       "    </tr>\n",
       "  </thead>\n",
       "  <tbody>\n",
       "    <tr>\n",
       "      <td>0</td>\n",
       "      <td>50787.0</td>\n",
       "      <td>1.0</td>\n",
       "      <td>17.715618</td>\n",
       "      <td>1330.509033</td>\n",
       "      <td>18.375801</td>\n",
       "      <td>22.0</td>\n",
       "      <td>-999.000000</td>\n",
       "      <td>0.072356</td>\n",
       "      <td>0.051075</td>\n",
       "      <td>0.242607</td>\n",
       "      <td>...</td>\n",
       "      <td>-999.000000</td>\n",
       "      <td>-999.000000</td>\n",
       "      <td>-999.0</td>\n",
       "      <td>-999.000000</td>\n",
       "      <td>0.035873</td>\n",
       "      <td>0.040094</td>\n",
       "      <td>-999.000000</td>\n",
       "      <td>0.052755</td>\n",
       "      <td>-999.000000</td>\n",
       "      <td>-999.000000</td>\n",
       "    </tr>\n",
       "    <tr>\n",
       "      <td>1</td>\n",
       "      <td>31308.0</td>\n",
       "      <td>1.0</td>\n",
       "      <td>18.667053</td>\n",
       "      <td>1310.804810</td>\n",
       "      <td>17.862467</td>\n",
       "      <td>-998.0</td>\n",
       "      <td>0.135852</td>\n",
       "      <td>-999.000000</td>\n",
       "      <td>-999.000000</td>\n",
       "      <td>-999.000000</td>\n",
       "      <td>...</td>\n",
       "      <td>-999.000000</td>\n",
       "      <td>-999.000000</td>\n",
       "      <td>-999.0</td>\n",
       "      <td>-999.000000</td>\n",
       "      <td>0.250210</td>\n",
       "      <td>0.053011</td>\n",
       "      <td>-999.000000</td>\n",
       "      <td>-999.000000</td>\n",
       "      <td>-999.000000</td>\n",
       "      <td>0.078456</td>\n",
       "    </tr>\n",
       "    <tr>\n",
       "      <td>2</td>\n",
       "      <td>35753.0</td>\n",
       "      <td>1.0</td>\n",
       "      <td>11.727903</td>\n",
       "      <td>983.750305</td>\n",
       "      <td>11.629573</td>\n",
       "      <td>22.0</td>\n",
       "      <td>-999.000000</td>\n",
       "      <td>-999.000000</td>\n",
       "      <td>-999.000000</td>\n",
       "      <td>-999.000000</td>\n",
       "      <td>...</td>\n",
       "      <td>0.070736</td>\n",
       "      <td>0.037448</td>\n",
       "      <td>-999.0</td>\n",
       "      <td>-999.000000</td>\n",
       "      <td>-999.000000</td>\n",
       "      <td>-999.000000</td>\n",
       "      <td>0.068708</td>\n",
       "      <td>0.070790</td>\n",
       "      <td>0.260257</td>\n",
       "      <td>0.097857</td>\n",
       "    </tr>\n",
       "    <tr>\n",
       "      <td>3</td>\n",
       "      <td>82090.0</td>\n",
       "      <td>1.0</td>\n",
       "      <td>10.094037</td>\n",
       "      <td>1285.877563</td>\n",
       "      <td>10.094633</td>\n",
       "      <td>22.0</td>\n",
       "      <td>-999.000000</td>\n",
       "      <td>-999.000000</td>\n",
       "      <td>-999.000000</td>\n",
       "      <td>-999.000000</td>\n",
       "      <td>...</td>\n",
       "      <td>-999.000000</td>\n",
       "      <td>-999.000000</td>\n",
       "      <td>-999.0</td>\n",
       "      <td>0.091735</td>\n",
       "      <td>0.055468</td>\n",
       "      <td>-999.000000</td>\n",
       "      <td>0.115202</td>\n",
       "      <td>-999.000000</td>\n",
       "      <td>-999.000000</td>\n",
       "      <td>0.068268</td>\n",
       "    </tr>\n",
       "    <tr>\n",
       "      <td>4</td>\n",
       "      <td>30705.0</td>\n",
       "      <td>1.0</td>\n",
       "      <td>13.001238</td>\n",
       "      <td>1008.516541</td>\n",
       "      <td>13.276737</td>\n",
       "      <td>22.0</td>\n",
       "      <td>0.254429</td>\n",
       "      <td>-999.000000</td>\n",
       "      <td>0.054521</td>\n",
       "      <td>-999.000000</td>\n",
       "      <td>...</td>\n",
       "      <td>0.074377</td>\n",
       "      <td>-999.000000</td>\n",
       "      <td>-999.0</td>\n",
       "      <td>-999.000000</td>\n",
       "      <td>-999.000000</td>\n",
       "      <td>-999.000000</td>\n",
       "      <td>-999.000000</td>\n",
       "      <td>-999.000000</td>\n",
       "      <td>-999.000000</td>\n",
       "      <td>-999.000000</td>\n",
       "    </tr>\n",
       "  </tbody>\n",
       "</table>\n",
       "<p>5 rows × 55 columns</p>\n",
       "</div>"
      ],
      "text/plain": [
       "   Unnamed: 0  isPhoton  total_energy   cal_energy  core_energy    pid  \\\n",
       "0     50787.0       1.0     17.715618  1330.509033    18.375801   22.0   \n",
       "1     31308.0       1.0     18.667053  1310.804810    17.862467 -998.0   \n",
       "2     35753.0       1.0     11.727903   983.750305    11.629573   22.0   \n",
       "3     82090.0       1.0     10.094037  1285.877563    10.094633   22.0   \n",
       "4     30705.0       1.0     13.001238  1008.516541    13.276737   22.0   \n",
       "\n",
       "       tower0      tower1      tower2      tower3  ...     tower39  \\\n",
       "0 -999.000000    0.072356    0.051075    0.242607  ... -999.000000   \n",
       "1    0.135852 -999.000000 -999.000000 -999.000000  ... -999.000000   \n",
       "2 -999.000000 -999.000000 -999.000000 -999.000000  ...    0.070736   \n",
       "3 -999.000000 -999.000000 -999.000000 -999.000000  ... -999.000000   \n",
       "4    0.254429 -999.000000    0.054521 -999.000000  ...    0.074377   \n",
       "\n",
       "      tower40  tower41     tower42     tower43     tower44     tower45  \\\n",
       "0 -999.000000   -999.0 -999.000000    0.035873    0.040094 -999.000000   \n",
       "1 -999.000000   -999.0 -999.000000    0.250210    0.053011 -999.000000   \n",
       "2    0.037448   -999.0 -999.000000 -999.000000 -999.000000    0.068708   \n",
       "3 -999.000000   -999.0    0.091735    0.055468 -999.000000    0.115202   \n",
       "4 -999.000000   -999.0 -999.000000 -999.000000 -999.000000 -999.000000   \n",
       "\n",
       "      tower46     tower47     tower48  \n",
       "0    0.052755 -999.000000 -999.000000  \n",
       "1 -999.000000 -999.000000    0.078456  \n",
       "2    0.070790    0.260257    0.097857  \n",
       "3 -999.000000 -999.000000    0.068268  \n",
       "4 -999.000000 -999.000000 -999.000000  \n",
       "\n",
       "[5 rows x 55 columns]"
      ]
     },
     "execution_count": 164,
     "metadata": {},
     "output_type": "execute_result"
    }
   ],
   "source": [
    "train, test = csvToInput(\"photonClusters.csv\")\n",
    "trainS = train\n",
    "testS = test\n",
    "train = train.drop(['sProb'],axis=1)\n",
    "test = test.drop(['sProb'],axis=1)\n",
    "train.head()"
   ]
  },
  {
   "cell_type": "code",
   "execution_count": 165,
   "metadata": {},
   "outputs": [
    {
     "data": {
      "text/plain": [
       "<matplotlib.axes._subplots.AxesSubplot at 0x1a29e14bd0>"
      ]
     },
     "execution_count": 165,
     "metadata": {},
     "output_type": "execute_result"
    },
    {
     "data": {
      "image/png": "[encoded data removed]",
      "text/plain": [
       "<Figure size 432x288 with 1 Axes>"
      ]
     },
     "metadata": {
      "needs_background": "light"
     },
     "output_type": "display_data"
    }
   ],
   "source": [
    "train['total_energy'].hist()"
   ]
  },
  {
   "cell_type": "code",
   "execution_count": 166,
   "metadata": {},
   "outputs": [
    {
     "data": {
      "text/plain": [
       "<matplotlib.axes._subplots.AxesSubplot at 0x1a29e9de90>"
      ]
     },
     "execution_count": 166,
     "metadata": {},
     "output_type": "execute_result"
    },
    {
     "data": {
      "image/png": "[encoded data removed]",
      "text/plain": [
       "<Figure size 432x288 with 1 Axes>"
      ]
     },
     "metadata": {
      "needs_background": "light"
     },
     "output_type": "display_data"
    }
   ],
   "source": [
    "train['isPhoton'].hist()"
   ]
  },
  {
   "cell_type": "code",
   "execution_count": 167,
   "metadata": {},
   "outputs": [],
   "source": [
    "sasha = Sasha(trainS,testS)"
   ]
  },
  {
   "cell_type": "code",
   "execution_count": 139,
   "metadata": {},
   "outputs": [],
   "source": [
    "def toNA(val):\n",
    "    if val==-999:\n",
    "        return np.nan\n",
    "    else:\n",
    "        return val"
   ]
  },
  {
   "cell_type": "code",
   "execution_count": 140,
   "metadata": {},
   "outputs": [],
   "source": [
    "def to0(val):\n",
    "    if val==-999:\n",
    "        return 0\n",
    "    else:\n",
    "        return val"
   ]
  },
  {
   "cell_type": "markdown",
   "metadata": {},
   "source": [
    "Try to make some engineered features based off the symmetry of a photon."
   ]
  },
  {
   "cell_type": "code",
   "execution_count": 141,
   "metadata": {},
   "outputs": [],
   "source": [
    "def integrated_perimeter(df):\n",
    "    perimeter_values = [1,2,3,4,5,6,7,13,14,20,21,27,28,34,35,41,42,43,44,45,46,47,48]\n",
    "    name = 'tower'\n",
    "    df['integrated_perimeter'] = df['tower0']\n",
    "    #df.drop(['tower0'])\n",
    "    for i in perimeter_values:\n",
    "        title = name+str(i)\n",
    "        df['integrated_perimeter'] = df['integrated_perimeter']+df[title]\n",
    "        #df.drop([title])\n",
    "    return df\n",
    "        "
   ]
  },
  {
   "cell_type": "code",
   "execution_count": 142,
   "metadata": {},
   "outputs": [],
   "source": [
    "def max_finder(df):\n",
    "    perimeter_values = [8,9,10,11,12,15,19,22,26,29,33,36,37,38,39,40]\n",
    "    name = 'tower'\n",
    "    df['max_perimeter'] = df['tower8']\n",
    "    #df.drop(['tower0'])\n",
    "    for i in perimeter_values:\n",
    "        title = name+str(i)\n",
    "        df['max_perimeter'] = df['max_perimeter']+df[title]\n",
    "        #df.drop([title])\n",
    "    return df"
   ]
  },
  {
   "cell_type": "code",
   "execution_count": 143,
   "metadata": {},
   "outputs": [],
   "source": [
    "def asymmetry(df):\n",
    "    top = [8,9,10,11,12,15,16,17,18,19]    \n",
    "    bottom = [29,30,31,32,33,36,37,38,39,40]\n",
    "    left = [8,9,15,16,22,23,29,30,36,37,43,44]\n",
    "    right= [11,12,18,19,25,26,32,33,39,40]\n",
    "    series1 = pd.Series(0 for i in range(0,len(df['isPhoton'])))\n",
    "    series2 = pd.Series(0 for i in range(0,len(df['isPhoton'])))\n",
    "    series3 = pd.Series(0 for i in range(0,len(df['isPhoton'])))\n",
    "    series4 = pd.Series(0 for i in range(0,len(df['isPhoton'])))\n",
    "    name = 'tower'\n",
    "    for i,j,k,c in zip(top,bottom,left,right):\n",
    "        title = name+str(i)\n",
    "        series1 = series1 + df[title]\n",
    "        title = name+str(j)\n",
    "        series2 = series2 + df[title]\n",
    "        title = name+str(k)\n",
    "        series3 = series3 + df[title]\n",
    "        title = name+str(c)\n",
    "        series4 = series4 + df[title]\n",
    "    df['asymmetry'] = abs(series1-series2) + abs(series3-series4)\n",
    "    return df"
   ]
  },
  {
   "cell_type": "code",
   "execution_count": 144,
   "metadata": {},
   "outputs": [],
   "source": [
    "def preprocess(train):\n",
    "    trainTransformed = pd.DataFrame()\n",
    "    for column in train:\n",
    "        trainTransformed[column]  = train[column].apply(to0)\n",
    "    #print(trainTransformed.head())\n",
    "    trainTransformed = integrated_perimeter(trainTransformed)\n",
    "    trainTransformed = asymmetry(trainTransformed)\n",
    "    trainTransformed = max_finder(trainTransformed)\n",
    "    trainTransformed = trainTransformed.drop(['tower0','tower1','tower2','tower3','tower4','tower5','tower6','tower7','tower8','tower9','tower10','tower11','tower12','tower13','tower14','tower15','tower19','tower20','tower21','tower22','tower26','tower27','tower28','tower29','tower33','tower34','tower35','tower36','tower40','tower41','tower42','tower43','tower44','tower45','tower46','tower47','tower48'],axis=1)    \n",
    "    df_temp = trainTransformed.drop(['isPhoton','total_energy'],axis=1)\n",
    "    for column in df_temp:\n",
    "        df_temp[column] = df_temp[column] / trainTransformed['total_energy']\n",
    "    trainTransformed = trainTransformed[['isPhoton','total_energy']]\n",
    "    trainTransformed = pd.concat([trainTransformed,df_temp.drop('Unnamed: 0',axis=1)],axis=1)\n",
    "    return trainTransformed"
   ]
  },
  {
   "cell_type": "code",
   "execution_count": 145,
   "metadata": {},
   "outputs": [
    {
     "data": {
      "text/html": [
       "<div>\n",
       "<style scoped>\n",
       "    .dataframe tbody tr th:only-of-type {\n",
       "        vertical-align: middle;\n",
       "    }\n",
       "\n",
       "    .dataframe tbody tr th {\n",
       "        vertical-align: top;\n",
       "    }\n",
       "\n",
       "    .dataframe thead th {\n",
       "        text-align: right;\n",
       "    }\n",
       "</style>\n",
       "<table border=\"1\" class=\"dataframe\">\n",
       "  <thead>\n",
       "    <tr style=\"text-align: right;\">\n",
       "      <th></th>\n",
       "      <th>Unnamed: 0</th>\n",
       "      <th>isPhoton</th>\n",
       "      <th>total_energy</th>\n",
       "      <th>cal_energy</th>\n",
       "      <th>core_energy</th>\n",
       "      <th>pid</th>\n",
       "      <th>tower0</th>\n",
       "      <th>tower1</th>\n",
       "      <th>tower2</th>\n",
       "      <th>tower3</th>\n",
       "      <th>...</th>\n",
       "      <th>tower39</th>\n",
       "      <th>tower40</th>\n",
       "      <th>tower41</th>\n",
       "      <th>tower42</th>\n",
       "      <th>tower43</th>\n",
       "      <th>tower44</th>\n",
       "      <th>tower45</th>\n",
       "      <th>tower46</th>\n",
       "      <th>tower47</th>\n",
       "      <th>tower48</th>\n",
       "    </tr>\n",
       "  </thead>\n",
       "  <tbody>\n",
       "    <tr>\n",
       "      <td>0</td>\n",
       "      <td>9041.0</td>\n",
       "      <td>0.0</td>\n",
       "      <td>1.050987</td>\n",
       "      <td>-22.756577</td>\n",
       "      <td>0.954665</td>\n",
       "      <td>-999.0</td>\n",
       "      <td>-999.000000</td>\n",
       "      <td>-999.000000</td>\n",
       "      <td>-999.000000</td>\n",
       "      <td>-999.000000</td>\n",
       "      <td>...</td>\n",
       "      <td>0.066576</td>\n",
       "      <td>-0.038126</td>\n",
       "      <td>0.016319</td>\n",
       "      <td>-0.036177</td>\n",
       "      <td>0.031019</td>\n",
       "      <td>0.012120</td>\n",
       "      <td>0.157011</td>\n",
       "      <td>0.081416</td>\n",
       "      <td>0.140212</td>\n",
       "      <td>0.165410</td>\n",
       "    </tr>\n",
       "    <tr>\n",
       "      <td>1</td>\n",
       "      <td>7153.0</td>\n",
       "      <td>0.0</td>\n",
       "      <td>1.052995</td>\n",
       "      <td>-26.646767</td>\n",
       "      <td>1.108415</td>\n",
       "      <td>-999.0</td>\n",
       "      <td>-999.000000</td>\n",
       "      <td>-999.000000</td>\n",
       "      <td>-999.000000</td>\n",
       "      <td>-999.000000</td>\n",
       "      <td>...</td>\n",
       "      <td>-0.054077</td>\n",
       "      <td>0.492466</td>\n",
       "      <td>-0.054077</td>\n",
       "      <td>-0.054077</td>\n",
       "      <td>-0.054077</td>\n",
       "      <td>-0.054077</td>\n",
       "      <td>-0.054077</td>\n",
       "      <td>-0.054077</td>\n",
       "      <td>-0.054077</td>\n",
       "      <td>0.021308</td>\n",
       "    </tr>\n",
       "    <tr>\n",
       "      <td>2</td>\n",
       "      <td>27347.0</td>\n",
       "      <td>1.0</td>\n",
       "      <td>2.117241</td>\n",
       "      <td>-29.737200</td>\n",
       "      <td>2.120330</td>\n",
       "      <td>-998.0</td>\n",
       "      <td>-0.034258</td>\n",
       "      <td>0.034382</td>\n",
       "      <td>-0.034258</td>\n",
       "      <td>0.008642</td>\n",
       "      <td>...</td>\n",
       "      <td>0.010762</td>\n",
       "      <td>0.018816</td>\n",
       "      <td>-0.037560</td>\n",
       "      <td>0.184560</td>\n",
       "      <td>0.018979</td>\n",
       "      <td>0.087635</td>\n",
       "      <td>0.035134</td>\n",
       "      <td>-0.037560</td>\n",
       "      <td>-0.037560</td>\n",
       "      <td>-0.037560</td>\n",
       "    </tr>\n",
       "    <tr>\n",
       "      <td>3</td>\n",
       "      <td>23557.0</td>\n",
       "      <td>0.0</td>\n",
       "      <td>1.095466</td>\n",
       "      <td>-41.177776</td>\n",
       "      <td>1.153122</td>\n",
       "      <td>-999.0</td>\n",
       "      <td>-999.000000</td>\n",
       "      <td>-999.000000</td>\n",
       "      <td>-999.000000</td>\n",
       "      <td>-999.000000</td>\n",
       "      <td>...</td>\n",
       "      <td>-0.044348</td>\n",
       "      <td>-0.044348</td>\n",
       "      <td>-0.044348</td>\n",
       "      <td>-0.044348</td>\n",
       "      <td>-0.044348</td>\n",
       "      <td>-0.044348</td>\n",
       "      <td>-0.044348</td>\n",
       "      <td>-0.044348</td>\n",
       "      <td>-0.044348</td>\n",
       "      <td>-0.044348</td>\n",
       "    </tr>\n",
       "    <tr>\n",
       "      <td>4</td>\n",
       "      <td>37149.0</td>\n",
       "      <td>1.0</td>\n",
       "      <td>1.280003</td>\n",
       "      <td>-28.100325</td>\n",
       "      <td>1.211319</td>\n",
       "      <td>111.0</td>\n",
       "      <td>-0.027630</td>\n",
       "      <td>-0.027630</td>\n",
       "      <td>-0.027630</td>\n",
       "      <td>-0.027630</td>\n",
       "      <td>...</td>\n",
       "      <td>-0.037022</td>\n",
       "      <td>-0.037022</td>\n",
       "      <td>0.055248</td>\n",
       "      <td>-0.038057</td>\n",
       "      <td>-0.038057</td>\n",
       "      <td>-0.038057</td>\n",
       "      <td>-0.038057</td>\n",
       "      <td>0.015588</td>\n",
       "      <td>-0.038057</td>\n",
       "      <td>0.073525</td>\n",
       "    </tr>\n",
       "  </tbody>\n",
       "</table>\n",
       "<p>5 rows × 55 columns</p>\n",
       "</div>"
      ],
      "text/plain": [
       "   Unnamed: 0  isPhoton  total_energy  cal_energy  core_energy    pid  \\\n",
       "0      9041.0       0.0      1.050987  -22.756577     0.954665 -999.0   \n",
       "1      7153.0       0.0      1.052995  -26.646767     1.108415 -999.0   \n",
       "2     27347.0       1.0      2.117241  -29.737200     2.120330 -998.0   \n",
       "3     23557.0       0.0      1.095466  -41.177776     1.153122 -999.0   \n",
       "4     37149.0       1.0      1.280003  -28.100325     1.211319  111.0   \n",
       "\n",
       "       tower0      tower1      tower2      tower3  ...   tower39   tower40  \\\n",
       "0 -999.000000 -999.000000 -999.000000 -999.000000  ...  0.066576 -0.038126   \n",
       "1 -999.000000 -999.000000 -999.000000 -999.000000  ... -0.054077  0.492466   \n",
       "2   -0.034258    0.034382   -0.034258    0.008642  ...  0.010762  0.018816   \n",
       "3 -999.000000 -999.000000 -999.000000 -999.000000  ... -0.044348 -0.044348   \n",
       "4   -0.027630   -0.027630   -0.027630   -0.027630  ... -0.037022 -0.037022   \n",
       "\n",
       "    tower41   tower42   tower43   tower44   tower45   tower46   tower47  \\\n",
       "0  0.016319 -0.036177  0.031019  0.012120  0.157011  0.081416  0.140212   \n",
       "1 -0.054077 -0.054077 -0.054077 -0.054077 -0.054077 -0.054077 -0.054077   \n",
       "2 -0.037560  0.184560  0.018979  0.087635  0.035134 -0.037560 -0.037560   \n",
       "3 -0.044348 -0.044348 -0.044348 -0.044348 -0.044348 -0.044348 -0.044348   \n",
       "4  0.055248 -0.038057 -0.038057 -0.038057 -0.038057  0.015588 -0.038057   \n",
       "\n",
       "    tower48  \n",
       "0  0.165410  \n",
       "1  0.021308  \n",
       "2 -0.037560  \n",
       "3 -0.044348  \n",
       "4  0.073525  \n",
       "\n",
       "[5 rows x 55 columns]"
      ]
     },
     "execution_count": 145,
     "metadata": {},
     "output_type": "execute_result"
    }
   ],
   "source": [
    "train.head()"
   ]
  },
  {
   "cell_type": "code",
   "execution_count": 168,
   "metadata": {},
   "outputs": [],
   "source": [
    "train = preprocess(train)\n",
    "test = preprocess(test)"
   ]
  },
  {
   "cell_type": "code",
   "execution_count": 147,
   "metadata": {},
   "outputs": [
    {
     "data": {
      "text/html": [
       "<div>\n",
       "<style scoped>\n",
       "    .dataframe tbody tr th:only-of-type {\n",
       "        vertical-align: middle;\n",
       "    }\n",
       "\n",
       "    .dataframe tbody tr th {\n",
       "        vertical-align: top;\n",
       "    }\n",
       "\n",
       "    .dataframe thead th {\n",
       "        text-align: right;\n",
       "    }\n",
       "</style>\n",
       "<table border=\"1\" class=\"dataframe\">\n",
       "  <thead>\n",
       "    <tr style=\"text-align: right;\">\n",
       "      <th></th>\n",
       "      <th>isPhoton</th>\n",
       "      <th>total_energy</th>\n",
       "      <th>cal_energy</th>\n",
       "      <th>core_energy</th>\n",
       "      <th>pid</th>\n",
       "      <th>tower16</th>\n",
       "      <th>tower17</th>\n",
       "      <th>tower18</th>\n",
       "      <th>tower23</th>\n",
       "      <th>tower24</th>\n",
       "      <th>tower25</th>\n",
       "      <th>tower30</th>\n",
       "      <th>tower31</th>\n",
       "      <th>tower32</th>\n",
       "      <th>tower37</th>\n",
       "      <th>tower38</th>\n",
       "      <th>tower39</th>\n",
       "      <th>integrated_perimeter</th>\n",
       "      <th>asymmetry</th>\n",
       "      <th>max_perimeter</th>\n",
       "    </tr>\n",
       "  </thead>\n",
       "  <tbody>\n",
       "    <tr>\n",
       "      <td>0</td>\n",
       "      <td>0.0</td>\n",
       "      <td>1.050987</td>\n",
       "      <td>-21.652584</td>\n",
       "      <td>0.908351</td>\n",
       "      <td>0.000000</td>\n",
       "      <td>-0.036276</td>\n",
       "      <td>0.009509</td>\n",
       "      <td>-0.036276</td>\n",
       "      <td>-0.036276</td>\n",
       "      <td>0.578838</td>\n",
       "      <td>0.039369</td>\n",
       "      <td>0.222742</td>\n",
       "      <td>0.061354</td>\n",
       "      <td>-0.036276</td>\n",
       "      <td>-0.036276</td>\n",
       "      <td>-0.036276</td>\n",
       "      <td>0.063346</td>\n",
       "      <td>1.028172</td>\n",
       "      <td>0.479897</td>\n",
       "      <td>0.168500</td>\n",
       "    </tr>\n",
       "    <tr>\n",
       "      <td>1</td>\n",
       "      <td>0.0</td>\n",
       "      <td>1.052995</td>\n",
       "      <td>-25.305698</td>\n",
       "      <td>1.052632</td>\n",
       "      <td>0.000000</td>\n",
       "      <td>-0.035894</td>\n",
       "      <td>0.005644</td>\n",
       "      <td>0.015534</td>\n",
       "      <td>-0.051355</td>\n",
       "      <td>0.882472</td>\n",
       "      <td>0.117528</td>\n",
       "      <td>-0.051355</td>\n",
       "      <td>-0.051355</td>\n",
       "      <td>-0.051355</td>\n",
       "      <td>-0.051355</td>\n",
       "      <td>-0.051355</td>\n",
       "      <td>-0.051355</td>\n",
       "      <td>-0.533653</td>\n",
       "      <td>0.492834</td>\n",
       "      <td>0.559677</td>\n",
       "    </tr>\n",
       "    <tr>\n",
       "      <td>2</td>\n",
       "      <td>1.0</td>\n",
       "      <td>2.117241</td>\n",
       "      <td>-14.045260</td>\n",
       "      <td>1.001459</td>\n",
       "      <td>-471.368184</td>\n",
       "      <td>0.013294</td>\n",
       "      <td>0.012345</td>\n",
       "      <td>-0.012333</td>\n",
       "      <td>0.060752</td>\n",
       "      <td>0.577093</td>\n",
       "      <td>0.159464</td>\n",
       "      <td>0.048828</td>\n",
       "      <td>0.158189</td>\n",
       "      <td>0.025053</td>\n",
       "      <td>-0.017740</td>\n",
       "      <td>0.005083</td>\n",
       "      <td>0.005083</td>\n",
       "      <td>0.031457</td>\n",
       "      <td>0.211404</td>\n",
       "      <td>0.250448</td>\n",
       "    </tr>\n",
       "    <tr>\n",
       "      <td>3</td>\n",
       "      <td>0.0</td>\n",
       "      <td>1.095466</td>\n",
       "      <td>-37.589274</td>\n",
       "      <td>1.052632</td>\n",
       "      <td>0.000000</td>\n",
       "      <td>-0.031071</td>\n",
       "      <td>-0.031071</td>\n",
       "      <td>-0.031071</td>\n",
       "      <td>-0.040483</td>\n",
       "      <td>0.830401</td>\n",
       "      <td>-0.040483</td>\n",
       "      <td>-0.040483</td>\n",
       "      <td>0.169599</td>\n",
       "      <td>0.024451</td>\n",
       "      <td>-0.040483</td>\n",
       "      <td>0.009217</td>\n",
       "      <td>-0.040483</td>\n",
       "      <td>-0.431917</td>\n",
       "      <td>1.088828</td>\n",
       "      <td>0.132843</td>\n",
       "    </tr>\n",
       "    <tr>\n",
       "      <td>4</td>\n",
       "      <td>1.0</td>\n",
       "      <td>1.280003</td>\n",
       "      <td>-21.953324</td>\n",
       "      <td>0.946341</td>\n",
       "      <td>86.718534</td>\n",
       "      <td>0.094743</td>\n",
       "      <td>0.248491</td>\n",
       "      <td>0.091401</td>\n",
       "      <td>0.036036</td>\n",
       "      <td>0.427456</td>\n",
       "      <td>0.135973</td>\n",
       "      <td>-0.028923</td>\n",
       "      <td>-0.028923</td>\n",
       "      <td>-0.028923</td>\n",
       "      <td>-0.028923</td>\n",
       "      <td>-0.028923</td>\n",
       "      <td>-0.028923</td>\n",
       "      <td>1.066638</td>\n",
       "      <td>1.109114</td>\n",
       "      <td>-0.170389</td>\n",
       "    </tr>\n",
       "  </tbody>\n",
       "</table>\n",
       "</div>"
      ],
      "text/plain": [
       "   isPhoton  total_energy  cal_energy  core_energy         pid   tower16  \\\n",
       "0       0.0      1.050987  -21.652584     0.908351    0.000000 -0.036276   \n",
       "1       0.0      1.052995  -25.305698     1.052632    0.000000 -0.035894   \n",
       "2       1.0      2.117241  -14.045260     1.001459 -471.368184  0.013294   \n",
       "3       0.0      1.095466  -37.589274     1.052632    0.000000 -0.031071   \n",
       "4       1.0      1.280003  -21.953324     0.946341   86.718534  0.094743   \n",
       "\n",
       "    tower17   tower18   tower23   tower24   tower25   tower30   tower31  \\\n",
       "0  0.009509 -0.036276 -0.036276  0.578838  0.039369  0.222742  0.061354   \n",
       "1  0.005644  0.015534 -0.051355  0.882472  0.117528 -0.051355 -0.051355   \n",
       "2  0.012345 -0.012333  0.060752  0.577093  0.159464  0.048828  0.158189   \n",
       "3 -0.031071 -0.031071 -0.040483  0.830401 -0.040483 -0.040483  0.169599   \n",
       "4  0.248491  0.091401  0.036036  0.427456  0.135973 -0.028923 -0.028923   \n",
       "\n",
       "    tower32   tower37   tower38   tower39  integrated_perimeter  asymmetry  \\\n",
       "0 -0.036276 -0.036276 -0.036276  0.063346              1.028172   0.479897   \n",
       "1 -0.051355 -0.051355 -0.051355 -0.051355             -0.533653   0.492834   \n",
       "2  0.025053 -0.017740  0.005083  0.005083              0.031457   0.211404   \n",
       "3  0.024451 -0.040483  0.009217 -0.040483             -0.431917   1.088828   \n",
       "4 -0.028923 -0.028923 -0.028923 -0.028923              1.066638   1.109114   \n",
       "\n",
       "   max_perimeter  \n",
       "0       0.168500  \n",
       "1       0.559677  \n",
       "2       0.250448  \n",
       "3       0.132843  \n",
       "4      -0.170389  "
      ]
     },
     "execution_count": 147,
     "metadata": {},
     "output_type": "execute_result"
    }
   ],
   "source": [
    "train.head()"
   ]
  },
  {
   "cell_type": "code",
   "execution_count": 148,
   "metadata": {},
   "outputs": [
    {
     "data": {
      "image/png": "[encoded data removed]",
      "text/plain": [
       "<Figure size 432x288 with 1 Axes>"
      ]
     },
     "metadata": {
      "needs_background": "light"
     },
     "output_type": "display_data"
    }
   ],
   "source": [
    "groups = train.groupby(['isPhoton'])\n",
    "plt.hist([groups.get_group(0)['asymmetry'].values,groups.get_group(1)['asymmetry'].values], bins=20,density=True,histtype='step',label=[\"non-photon\",\"photon\"])\n",
    "plt.xlabel(\"Asymmetry\")\n",
    "plt.ylabel(\"dN/dN\")\n",
    "plt.title(\"Unsubtracted Cluster Asymmetry\")\n",
    "plt.legend()\n",
    "plt.show()"
   ]
  },
  {
   "cell_type": "code",
   "execution_count": 160,
   "metadata": {},
   "outputs": [
    {
     "data": {
      "image/png": "[encoded data removed]",
      "text/plain": [
       "<Figure size 432x288 with 1 Axes>"
      ]
     },
     "metadata": {
      "needs_background": "light"
     },
     "output_type": "display_data"
    }
   ],
   "source": [
    "groups = train.groupby(['isPhoton'])\n",
    "plt.hist([groups.get_group(0)['total_energy'].values,groups.get_group(1)['total_energy'].values], bins=20,density=True,histtype='step',label=[\"non-photon\",\"photon\"])\n",
    "plt.xlabel(\"total_energy\")\n",
    "plt.ylabel(\"dN/dN\")\n",
    "plt.title(\"Subtracted Cluster total_energy\")\n",
    "plt.legend()\n",
    "plt.show()"
   ]
  },
  {
   "cell_type": "code",
   "execution_count": 149,
   "metadata": {},
   "outputs": [
    {
     "data": {
      "image/png": "[encoded data removed]",
      "text/plain": [
       "<Figure size 432x288 with 1 Axes>"
      ]
     },
     "metadata": {
      "needs_background": "light"
     },
     "output_type": "display_data"
    }
   ],
   "source": [
    "groups = train.groupby(['isPhoton'])\n",
    "plt.hist([groups.get_group(0)['integrated_perimeter'].values,groups.get_group(1)['integrated_perimeter'].values], bins=20,density=True,histtype='step',label=[\"Non-Photon\",\"Photon\"])\n",
    "plt.xlabel(\"Integrated_Perimeter\")\n",
    "plt.ylabel(\"dN/dN\")\n",
    "plt.title(\"Unsubtracted Cluster Integrated_Perimeter\")\n",
    "plt.legend()\n",
    "plt.show()"
   ]
  },
  {
   "cell_type": "code",
   "execution_count": 150,
   "metadata": {},
   "outputs": [
    {
     "data": {
      "image/png": "[encoded data removed]",
      "text/plain": [
       "<Figure size 432x288 with 1 Axes>"
      ]
     },
     "metadata": {
      "needs_background": "light"
     },
     "output_type": "display_data"
    }
   ],
   "source": [
    "groups = train.groupby(['isPhoton'])\n",
    "plt.hist([groups.get_group(0)['max_perimeter'].values,groups.get_group(1)['max_perimeter'].values], bins=20,density=True,histtype='step',label=[\"Non-Photon\",\"Photon\"])\n",
    "plt.xlabel(\"Max_Perimeter\")\n",
    "plt.ylabel(\"dN/dN\")\n",
    "plt.title(\"Unsubtracted Cluster Max_Perimeter\")\n",
    "plt.legend()\n",
    "plt.show()"
   ]
  },
  {
   "cell_type": "code",
   "execution_count": 169,
   "metadata": {},
   "outputs": [],
   "source": [
    "knn = kNN(train,test)"
   ]
  },
  {
   "cell_type": "code",
   "execution_count": 152,
   "metadata": {},
   "outputs": [
    {
     "name": "stdout",
     "output_type": "stream",
     "text": [
      "test score = 1.0\n"
     ]
    }
   ],
   "source": [
    "knn.score()"
   ]
  },
  {
   "cell_type": "code",
   "execution_count": 153,
   "metadata": {},
   "outputs": [
    {
     "name": "stdout",
     "output_type": "stream",
     "text": [
      "{'n_neighbors': 24}\n"
     ]
    }
   ],
   "source": [
    "knn.best_param()"
   ]
  },
  {
   "cell_type": "code",
   "execution_count": 172,
   "metadata": {},
   "outputs": [],
   "source": [
    "lda  = LDA(train,test)"
   ]
  },
  {
   "cell_type": "markdown",
   "metadata": {},
   "source": [
    "logistic  = Logistic(train,test)"
   ]
  },
  {
   "cell_type": "markdown",
   "metadata": {},
   "source": [
    "logistic.score()"
   ]
  },
  {
   "cell_type": "markdown",
   "metadata": {},
   "source": [
    "logistic.best_param()"
   ]
  },
  {
   "cell_type": "code",
   "execution_count": 170,
   "metadata": {},
   "outputs": [],
   "source": [
    "bdt = BDT(train,test)"
   ]
  },
  {
   "cell_type": "code",
   "execution_count": null,
   "metadata": {},
   "outputs": [],
   "source": [
    "bdt.score()"
   ]
  },
  {
   "cell_type": "code",
   "execution_count": null,
   "metadata": {},
   "outputs": [],
   "source": [
    "bdt.best_param()"
   ]
  },
  {
   "cell_type": "code",
   "execution_count": 171,
   "metadata": {},
   "outputs": [],
   "source": [
    "randomForest = RandomForest(train,test)"
   ]
  },
  {
   "cell_type": "code",
   "execution_count": null,
   "metadata": {},
   "outputs": [],
   "source": [
    "randomForest.score()"
   ]
  },
  {
   "cell_type": "code",
   "execution_count": null,
   "metadata": {},
   "outputs": [],
   "source": [
    "randomForest.best_param()"
   ]
  },
  {
   "cell_type": "code",
   "execution_count": 49,
   "metadata": {},
   "outputs": [],
   "source": [
    "mlp = MLP(train,test)"
   ]
  },
  {
   "cell_type": "code",
   "execution_count": null,
   "metadata": {},
   "outputs": [],
   "source": [
    "mlp.score()"
   ]
  },
  {
   "cell_type": "code",
   "execution_count": null,
   "metadata": {},
   "outputs": [],
   "source": [
    "mlp.best_param()"
   ]
  },
  {
   "cell_type": "code",
   "execution_count": 159,
   "metadata": {},
   "outputs": [
    {
     "name": "stdout",
     "output_type": "stream",
     "text": [
      "Sasha\n",
      "kNN\n",
      "LDA\n"
     ]
    },
    {
     "data": {
      "image/png": "[encoded data removed]",
      "text/plain": [
       "<Figure size 432x288 with 1 Axes>"
      ]
     },
     "metadata": {
      "needs_background": "light"
     },
     "output_type": "display_data"
    }
   ],
   "source": [
    "algos = [sasha,knn,lda]\n",
    "plotRoc(algos)"
   ]
  },
  {
   "cell_type": "code",
   "execution_count": null,
   "metadata": {},
   "outputs": [],
   "source": []
  }
 ],
 "metadata": {
  "kernelspec": {
   "display_name": "Python 3",
   "language": "python",
   "name": "python3"
  },
  "language_info": {
   "codemirror_mode": {
    "name": "ipython",
    "version": 3
   },
   "file_extension": ".py",
   "mimetype": "text/x-python",
   "name": "python",
   "nbconvert_exporter": "python",
   "pygments_lexer": "ipython3",
   "version": "3.7.4"
  }
 },
 "nbformat": 4,
 "nbformat_minor": 2
}
