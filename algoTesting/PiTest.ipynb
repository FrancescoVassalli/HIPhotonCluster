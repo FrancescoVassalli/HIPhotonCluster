{
 "cells": [
  {
   "cell_type": "code",
   "execution_count": 3,
   "metadata": {},
   "outputs": [],
   "source": [
    "import pandas as pd\n",
    "import matplotlib.pyplot as plt\n",
    "import numpy as np\n",
    "from cycler import cycler\n",
    "from abc import ABC, abstractmethod\n",
    "from subprocess import call\n",
    "from IPython.display import Image\n",
    "from sklearn.model_selection import train_test_split as dataSplitter\n",
    "from sklearn.model_selection import GridSearchCV\n",
    "from sklearn.base import ClassifierMixin\n",
    "from sklearn.neighbors import KNeighborsClassifier as skKNN\n",
    "from sklearn.linear_model import LogisticRegression\n",
    "from sklearn.discriminant_analysis import LinearDiscriminantAnalysis as skLDA\n",
    "from sklearn.ensemble import AdaBoostClassifier\n",
    "from sklearn.ensemble import RandomForestClassifier\n",
    "from sklearn.neural_network import MLPClassifier\n",
    "from sklearn.metrics import roc_curve, auc\n",
    "from sklearn.preprocessing import StandardScaler\n",
    "from sklearn.tree import export_graphviz"
   ]
  },
  {
   "cell_type": "code",
   "execution_count": 158,
   "metadata": {},
   "outputs": [],
   "source": [
    "#in future version add roc inside here \n",
    "class Algo:\n",
    "\tdef __init__(self,trainData,testData):\n",
    "\t\tself.classifier  = ClassifierMixin()\n",
    "\t\tself.train(trainData)\n",
    "\t\tself.test = testData\n",
    "\t@abstractmethod\n",
    "\tdef train(self,data):\n",
    "\t\tpass\n",
    "\t@abstractmethod\n",
    "\tdef getName(self,data):\n",
    "\t\tpass\n",
    "\tdef score(self):\n",
    "\t\tprint(\"test score = \"+str(self.classifier.score(self.test.drop(['isPhoton'],axis=1),self.test['isPhoton'])))\n",
    "\tdef best_param(self):\n",
    "\t\tprint(self.classifier.best_params_)\n",
    "\tdef estimate(self,cluster):\n",
    "\t\treturn self.classifier.predict_proba(cluster)\n",
    "\tdef make_roc(self):\n",
    "\t\t#print(self.estimate(self.test.drop(['isPhoton'],axis=1))[:,1])\n",
    "\t\treturn roc_curve(self.test['isPhoton'],self.estimate(self.test.drop(['isPhoton'],axis=1))[:,1])"
   ]
  },
  {
   "cell_type": "code",
   "execution_count": 159,
   "metadata": {},
   "outputs": [],
   "source": [
    "class Sasha(Algo):\n",
    "    def __intit__(self,trainData,testData):\n",
    "        Algo.__init__(trainData,testData)\n",
    "    def train(self,data):\n",
    "        #does nothing algo comes pretrained\n",
    "        return\n",
    "    def getName(self):\n",
    "        return \"Sasha\"\n",
    "    def estimate(self,cluster):\n",
    "        estimates = cluster['sProb'].values\n",
    "        return estimates\n",
    "    def make_roc(self):\n",
    "        return roc_curve(self.test['isPhoton'],self.estimate(self.test))"
   ]
  },
  {
   "cell_type": "code",
   "execution_count": 160,
   "metadata": {},
   "outputs": [],
   "source": [
    "class kNN(Algo):\n",
    "\tdef __intit__(self,trainData,testData):\n",
    "\t\tAlgo.__init__(trainData,testData)\n",
    "\tdef train(self,data):\n",
    "        #split data and score\n",
    "\t\tself.classifier = GridSearchCV(skKNN(),{'n_neighbors':[24,32,38]},cv=5).fit(data.drop(['isPhoton'],axis=1),data['isPhoton'])\n",
    "\tdef getName(self):\n",
    "\t\treturn \"kNN\""
   ]
  },
  {
   "cell_type": "code",
   "execution_count": 161,
   "metadata": {},
   "outputs": [],
   "source": [
    "class LDA(Algo):\n",
    "\tdef __intit__(self,trainData,testData):\n",
    "\t\tAlgo.__init__(trainData,testData)\n",
    "\tdef train(self,data):\n",
    "        #split data and score\n",
    "\t\tself.classifier = GridSearchCV(skLDA(solver='lsqr'),{'tol':[1e-4,1e-5,1e-3]},cv=5).fit(data.drop(['isPhoton'],axis=1),data['isPhoton'])\n",
    "\tdef getName(self):\n",
    "\t\treturn \"LDA\""
   ]
  },
  {
   "cell_type": "code",
   "execution_count": 162,
   "metadata": {},
   "outputs": [],
   "source": [
    "class Logistic(Algo):\n",
    "\tdef __intit__(self,trainData,testData):\n",
    "\t\tAlgo.__init__(trainData,testData)\n",
    "\n",
    "\tdef train(self,data):\n",
    "        #split data and score\n",
    "\t\tself.classifier = GridSearchCV(LogisticRegression(penalty='l1',solver='liblinear',max_iter=1000),{'tol':[1e-4,1e-5,1e-4],'C':[.1,1,10]},cv=5).fit(data.drop(['isPhoton'],axis=1),data['isPhoton'])\n",
    "\tdef getName(self):\n",
    "\t\treturn \"Logistic\""
   ]
  },
  {
   "cell_type": "code",
   "execution_count": 163,
   "metadata": {},
   "outputs": [],
   "source": [
    "class BDT(Algo):\n",
    "\tdef __intit__(self,trainData,testData):\n",
    "\t\tAlgo.__init__(trainData,testData)\n",
    "\tdef train(self,data):\n",
    "        #split data and score\n",
    "\t\tself.classifier = GridSearchCV(AdaBoostClassifier(),{'n_estimators':[10000],'learning_rate':[.1,1,.01]},cv=5).fit(data.drop(['isPhoton'],axis=1),data['isPhoton'])\n",
    "\tdef getName(self):\n",
    "\t\treturn \"BDT\""
   ]
  },
  {
   "cell_type": "code",
   "execution_count": 164,
   "metadata": {},
   "outputs": [],
   "source": [
    "class RandomForest(Algo):\n",
    "\tdef __intit__(self,trainData,testData):\n",
    "\t\tAlgo.__init__(trainData,testData)\n",
    "\tdef train(self,data):\n",
    "        #split data and score\n",
    "\t\tself.classifier = GridSearchCV(RandomForestClassifier(),{'n_estimators':[500]},cv=5).fit(data.drop(['isPhoton'],axis=1),data['isPhoton'])\n",
    "\tdef getName(self):\n",
    "\t\treturn \"RandomForest\""
   ]
  },
  {
   "cell_type": "code",
   "execution_count": 165,
   "metadata": {},
   "outputs": [],
   "source": [
    "class MLP(Algo):\n",
    "\tdef __intit__(self,trainData,testData):\n",
    "\t\ttrainData, testData = scaler(trainData,testData)\n",
    "\t\tAlgo.__init__(trainData,testData)\n",
    "\t\tself.name=\"MLP\"\n",
    "\tdef scaler(self,train,test):\n",
    "\t\t_scaler = StandardScaler()\n",
    "\t\t_scaler.fit_transform(train)\n",
    "\t\t_scaler.transform(test)\n",
    "\t\treturn train, test\n",
    "\tdef train(self,data):\n",
    "        #split data and score\n",
    "\t\tself.classifier = GridSearchCV(MLPClassifier(early_stopping=True),{'alpha':[1e-4],'learning_rate_init':[1e-2],'epsilon':[1e-9],'hidden_layer_sizes':[9,3]},cv=5).fit(data.drop(['isPhoton'],axis=1),data['isPhoton'])\n",
    "\tdef getName(self):\n",
    "\t\treturn \"MLP\""
   ]
  },
  {
   "cell_type": "code",
   "execution_count": 24,
   "metadata": {},
   "outputs": [],
   "source": [
    "def pid2Type(val):\n",
    "    if abs(val) in [311,313,421,423,511,513,111,113,130,221,331]:\n",
    "        return 0\n",
    "    else:\n",
    "        return 1"
   ]
  },
  {
   "cell_type": "code",
   "execution_count": 25,
   "metadata": {},
   "outputs": [],
   "source": [
    "def removeCombined(val):\n",
    "    if val == -998:\n",
    "        return np.nan\n",
    "    else:\n",
    "        return val"
   ]
  },
  {
   "cell_type": "code",
   "execution_count": 167,
   "metadata": {},
   "outputs": [],
   "source": [
    "def plotRoc(algos):\n",
    "    fpr = dict()\n",
    "    tpr = dict()\n",
    "    roc_auc = dict()\n",
    "    plt.figure()\n",
    "    plt.rc('axes', prop_cycle=(cycler('color', ['r', 'g', 'b', 'y'])))\n",
    "    lw = len(algos) + 1\n",
    "    for algo in algos:\n",
    "        print(algo.getName())\n",
    "        fpr[algo], tpr[algo],_ = algo.make_roc()\n",
    "        roc_auc[algo] = auc(fpr[algo],tpr[algo])\n",
    "        plt.plot(fpr[algo], tpr[algo],\n",
    "         lw=lw, label=algo.getName()+' (area = %0.2f)' % roc_auc[algo])\n",
    "    plt.plot([0, 1], [0, 1], color='navy', lw=lw, linestyle='--')\n",
    "    plt.xlim([0.0, 1.0])\n",
    "    plt.ylim([0.0, 1.05])\n",
    "    plt.xlabel('False Positive Rate')\n",
    "    plt.ylabel('True Positive Rate')\n",
    "    plt.legend(loc=\"lower right\")\n",
    "    plt.show()"
   ]
  },
  {
   "cell_type": "code",
   "execution_count": 195,
   "metadata": {},
   "outputs": [],
   "source": [
    "def diagnoseForest(model,names):\n",
    "    index = 0\n",
    "    #for estimator in model.estimators_:\n",
    "    estimator = model.estimators_[5]\n",
    "    title = 'tree'+str(index)+'.dot'\n",
    "    export_graphviz(estimator, out_file=title, \n",
    "                feature_names = names,\n",
    "                class_names = ['Jet','Photon'],\n",
    "                rounded = True, proportion = False, \n",
    "                precision = 2, filled = True)\n",
    "    newTitle = 'tree'+str(index)+'.png'\n",
    "        #call(['dot','-Tpng', title, '-o', newTitle, '-Gdpi=600'])\n",
    "    Image(filename = newTitle)\n",
    "    index = index+1"
   ]
  },
  {
   "cell_type": "code",
   "execution_count": 37,
   "metadata": {},
   "outputs": [],
   "source": [
    "def csvToInput(path):\n",
    "    df = pd.read_csv(path)\n",
    "    df = df.groupby(['isPhoton']).get_group(1)\n",
    "    df= df.drop(['isPhoton'], axis=1)\n",
    "    df['pid'] = df['pid'].apply(removeCombined)\n",
    "    df = df.dropna()\n",
    "    df['pid'] = df['pid'].apply(pid2Type)\n",
    "    df = df.rename(columns = {'pid':'isPhoton'})\n",
    "    #groups = df.groupby(['pid'])\n",
    "    #photons = groups.get_group(22)\n",
    "    #photons['total_energy'].hist()\n",
    "    #return photons\n",
    "    train, test = dataSplitter(df.values,test_size=.2,shuffle=True)\n",
    "    train = pd.DataFrame(columns=df.columns,data=train)\n",
    "    test = pd.DataFrame(columns=df.columns,data=test)\n",
    "    return train,test"
   ]
  },
  {
   "cell_type": "code",
   "execution_count": 38,
   "metadata": {},
   "outputs": [
    {
     "data": {
      "text/html": [
       "<div>\n",
       "<style scoped>\n",
       "    .dataframe tbody tr th:only-of-type {\n",
       "        vertical-align: middle;\n",
       "    }\n",
       "\n",
       "    .dataframe tbody tr th {\n",
       "        vertical-align: top;\n",
       "    }\n",
       "\n",
       "    .dataframe thead th {\n",
       "        text-align: right;\n",
       "    }\n",
       "</style>\n",
       "<table border=\"1\" class=\"dataframe\">\n",
       "  <thead>\n",
       "    <tr style=\"text-align: right;\">\n",
       "      <th></th>\n",
       "      <th>Unnamed: 0</th>\n",
       "      <th>total_energy</th>\n",
       "      <th>core_energy</th>\n",
       "      <th>isPhoton</th>\n",
       "      <th>tower0</th>\n",
       "      <th>tower1</th>\n",
       "      <th>tower2</th>\n",
       "      <th>tower3</th>\n",
       "      <th>tower4</th>\n",
       "      <th>tower5</th>\n",
       "      <th>...</th>\n",
       "      <th>tower39</th>\n",
       "      <th>tower40</th>\n",
       "      <th>tower41</th>\n",
       "      <th>tower42</th>\n",
       "      <th>tower43</th>\n",
       "      <th>tower44</th>\n",
       "      <th>tower45</th>\n",
       "      <th>tower46</th>\n",
       "      <th>tower47</th>\n",
       "      <th>tower48</th>\n",
       "    </tr>\n",
       "  </thead>\n",
       "  <tbody>\n",
       "    <tr>\n",
       "      <td>0</td>\n",
       "      <td>11498.0</td>\n",
       "      <td>2.072108</td>\n",
       "      <td>1.930127</td>\n",
       "      <td>1.0</td>\n",
       "      <td>0.001451</td>\n",
       "      <td>0.061867</td>\n",
       "      <td>-0.036813</td>\n",
       "      <td>-0.036813</td>\n",
       "      <td>-0.036813</td>\n",
       "      <td>-0.000563</td>\n",
       "      <td>...</td>\n",
       "      <td>-999.000000</td>\n",
       "      <td>-999.000000</td>\n",
       "      <td>-999.000000</td>\n",
       "      <td>-0.043685</td>\n",
       "      <td>0.001358</td>\n",
       "      <td>-0.043685</td>\n",
       "      <td>-0.007222</td>\n",
       "      <td>-0.043685</td>\n",
       "      <td>-0.002932</td>\n",
       "      <td>-0.043685</td>\n",
       "    </tr>\n",
       "    <tr>\n",
       "      <td>1</td>\n",
       "      <td>1475.0</td>\n",
       "      <td>1.161900</td>\n",
       "      <td>1.223052</td>\n",
       "      <td>0.0</td>\n",
       "      <td>0.004494</td>\n",
       "      <td>-0.040306</td>\n",
       "      <td>-0.040306</td>\n",
       "      <td>0.017295</td>\n",
       "      <td>-0.040306</td>\n",
       "      <td>-0.040306</td>\n",
       "      <td>...</td>\n",
       "      <td>-0.035931</td>\n",
       "      <td>-0.035931</td>\n",
       "      <td>0.190784</td>\n",
       "      <td>0.017247</td>\n",
       "      <td>-0.042188</td>\n",
       "      <td>-0.001857</td>\n",
       "      <td>0.301686</td>\n",
       "      <td>0.293196</td>\n",
       "      <td>0.083050</td>\n",
       "      <td>-0.042188</td>\n",
       "    </tr>\n",
       "    <tr>\n",
       "      <td>2</td>\n",
       "      <td>747.0</td>\n",
       "      <td>1.324122</td>\n",
       "      <td>1.278924</td>\n",
       "      <td>0.0</td>\n",
       "      <td>-0.039538</td>\n",
       "      <td>-0.039538</td>\n",
       "      <td>-0.039538</td>\n",
       "      <td>-0.039538</td>\n",
       "      <td>-0.039538</td>\n",
       "      <td>-0.039538</td>\n",
       "      <td>...</td>\n",
       "      <td>-0.039634</td>\n",
       "      <td>-0.039634</td>\n",
       "      <td>-0.039634</td>\n",
       "      <td>-0.039634</td>\n",
       "      <td>-0.039634</td>\n",
       "      <td>-0.039634</td>\n",
       "      <td>-0.039634</td>\n",
       "      <td>-0.039634</td>\n",
       "      <td>-0.039634</td>\n",
       "      <td>-0.039634</td>\n",
       "    </tr>\n",
       "    <tr>\n",
       "      <td>3</td>\n",
       "      <td>2632.0</td>\n",
       "      <td>2.347334</td>\n",
       "      <td>2.133390</td>\n",
       "      <td>1.0</td>\n",
       "      <td>-0.036888</td>\n",
       "      <td>-0.036888</td>\n",
       "      <td>0.005758</td>\n",
       "      <td>-0.036888</td>\n",
       "      <td>-0.036888</td>\n",
       "      <td>-0.036888</td>\n",
       "      <td>...</td>\n",
       "      <td>-0.038528</td>\n",
       "      <td>-0.038528</td>\n",
       "      <td>-0.002284</td>\n",
       "      <td>-0.038528</td>\n",
       "      <td>0.319647</td>\n",
       "      <td>0.076600</td>\n",
       "      <td>0.004112</td>\n",
       "      <td>-0.038528</td>\n",
       "      <td>0.059544</td>\n",
       "      <td>0.085128</td>\n",
       "    </tr>\n",
       "    <tr>\n",
       "      <td>4</td>\n",
       "      <td>2136.0</td>\n",
       "      <td>1.233440</td>\n",
       "      <td>1.298358</td>\n",
       "      <td>0.0</td>\n",
       "      <td>-0.037424</td>\n",
       "      <td>0.041835</td>\n",
       "      <td>-0.037424</td>\n",
       "      <td>-0.037424</td>\n",
       "      <td>-0.037424</td>\n",
       "      <td>0.097530</td>\n",
       "      <td>...</td>\n",
       "      <td>-0.034116</td>\n",
       "      <td>-0.034116</td>\n",
       "      <td>-0.034116</td>\n",
       "      <td>0.419314</td>\n",
       "      <td>0.045020</td>\n",
       "      <td>-0.034116</td>\n",
       "      <td>-0.034116</td>\n",
       "      <td>-0.034116</td>\n",
       "      <td>-0.034116</td>\n",
       "      <td>-0.034116</td>\n",
       "    </tr>\n",
       "  </tbody>\n",
       "</table>\n",
       "<p>5 rows × 53 columns</p>\n",
       "</div>"
      ],
      "text/plain": [
       "   Unnamed: 0  total_energy  core_energy  isPhoton    tower0    tower1  \\\n",
       "0     11498.0      2.072108     1.930127       1.0  0.001451  0.061867   \n",
       "1      1475.0      1.161900     1.223052       0.0  0.004494 -0.040306   \n",
       "2       747.0      1.324122     1.278924       0.0 -0.039538 -0.039538   \n",
       "3      2632.0      2.347334     2.133390       1.0 -0.036888 -0.036888   \n",
       "4      2136.0      1.233440     1.298358       0.0 -0.037424  0.041835   \n",
       "\n",
       "     tower2    tower3    tower4    tower5  ...     tower39     tower40  \\\n",
       "0 -0.036813 -0.036813 -0.036813 -0.000563  ... -999.000000 -999.000000   \n",
       "1 -0.040306  0.017295 -0.040306 -0.040306  ...   -0.035931   -0.035931   \n",
       "2 -0.039538 -0.039538 -0.039538 -0.039538  ...   -0.039634   -0.039634   \n",
       "3  0.005758 -0.036888 -0.036888 -0.036888  ...   -0.038528   -0.038528   \n",
       "4 -0.037424 -0.037424 -0.037424  0.097530  ...   -0.034116   -0.034116   \n",
       "\n",
       "      tower41   tower42   tower43   tower44   tower45   tower46   tower47  \\\n",
       "0 -999.000000 -0.043685  0.001358 -0.043685 -0.007222 -0.043685 -0.002932   \n",
       "1    0.190784  0.017247 -0.042188 -0.001857  0.301686  0.293196  0.083050   \n",
       "2   -0.039634 -0.039634 -0.039634 -0.039634 -0.039634 -0.039634 -0.039634   \n",
       "3   -0.002284 -0.038528  0.319647  0.076600  0.004112 -0.038528  0.059544   \n",
       "4   -0.034116  0.419314  0.045020 -0.034116 -0.034116 -0.034116 -0.034116   \n",
       "\n",
       "    tower48  \n",
       "0 -0.043685  \n",
       "1 -0.042188  \n",
       "2 -0.039634  \n",
       "3  0.085128  \n",
       "4 -0.034116  \n",
       "\n",
       "[5 rows x 53 columns]"
      ]
     },
     "execution_count": 38,
     "metadata": {},
     "output_type": "execute_result"
    }
   ],
   "source": [
    "train, test = csvToInput(\"photonClusters.csv\")\n",
    "trainS = train\n",
    "testS = test\n",
    "train = train.drop(['sProb'],axis=1)\n",
    "test = test.drop(['sProb'],axis=1)\n",
    "train.head()"
   ]
  },
  {
   "cell_type": "code",
   "execution_count": 39,
   "metadata": {},
   "outputs": [
    {
     "data": {
      "text/plain": [
       "<matplotlib.axes._subplots.AxesSubplot at 0x1296bc510>"
      ]
     },
     "execution_count": 39,
     "metadata": {},
     "output_type": "execute_result"
    },
    {
     "data": {
      "image/png": "[encoded data removed]",
      "text/plain": [
       "<Figure size 432x288 with 1 Axes>"
      ]
     },
     "metadata": {
      "needs_background": "light"
     },
     "output_type": "display_data"
    }
   ],
   "source": [
    "train['total_energy'].hist()"
   ]
  },
  {
   "cell_type": "code",
   "execution_count": 40,
   "metadata": {},
   "outputs": [
    {
     "ename": "NameError",
     "evalue": "name 'Sasha' is not defined",
     "output_type": "error",
     "traceback": [
      "\u001b[0;31m---------------------------------------------------------------------------\u001b[0m",
      "\u001b[0;31mNameError\u001b[0m                                 Traceback (most recent call last)",
      "\u001b[0;32m<ipython-input-40-97b173ac0191>\u001b[0m in \u001b[0;36m<module>\u001b[0;34m\u001b[0m\n\u001b[0;32m----> 1\u001b[0;31m \u001b[0msasha\u001b[0m \u001b[0;34m=\u001b[0m \u001b[0mSasha\u001b[0m\u001b[0;34m(\u001b[0m\u001b[0mtrainS\u001b[0m\u001b[0;34m,\u001b[0m\u001b[0mtestS\u001b[0m\u001b[0;34m)\u001b[0m\u001b[0;34m\u001b[0m\u001b[0;34m\u001b[0m\u001b[0m\n\u001b[0m",
      "\u001b[0;31mNameError\u001b[0m: name 'Sasha' is not defined"
     ]
    }
   ],
   "source": [
    "sasha = Sasha(trainS,testS)"
   ]
  },
  {
   "cell_type": "code",
   "execution_count": 171,
   "metadata": {},
   "outputs": [],
   "source": [
    "def toNA(val):\n",
    "    if val==-999:\n",
    "        return np.nan\n",
    "    else:\n",
    "        return val"
   ]
  },
  {
   "cell_type": "code",
   "execution_count": 172,
   "metadata": {},
   "outputs": [],
   "source": [
    "def to0(val):\n",
    "    if val==-999:\n",
    "        return 0\n",
    "    else:\n",
    "        return val"
   ]
  },
  {
   "cell_type": "markdown",
   "metadata": {},
   "source": [
    "Try to make some engineered features based off the symmetry of a photon."
   ]
  },
  {
   "cell_type": "code",
   "execution_count": 173,
   "metadata": {},
   "outputs": [],
   "source": [
    "def integrated_perimeter(df):\n",
    "    perimeter_values = [1,2,3,4,5,6,7,13,14,20,21,27,28,34,35,41,42,43,44,45,46,47,48]\n",
    "    name = 'tower'\n",
    "    df['integrated_perimeter'] = df['tower0']\n",
    "    #df.drop(['tower0'])\n",
    "    for i in perimeter_values:\n",
    "        title = name+str(i)\n",
    "        df['integrated_perimeter'] = df['integrated_perimeter']+df[title]\n",
    "        #df.drop([title])\n",
    "    return df\n",
    "        "
   ]
  },
  {
   "cell_type": "code",
   "execution_count": 174,
   "metadata": {},
   "outputs": [],
   "source": [
    "def max_finder(df):\n",
    "    perimeter_values = [8,9,10,11,12,15,19,22,26,29,33,36,37,38,39,40]\n",
    "    name = 'tower'\n",
    "    df['integrated_perimeter'] = df['tower0']\n",
    "    #df.drop(['tower0'])\n",
    "    for i in perimeter_values:\n",
    "        title = name+str(i)\n",
    "        df['max_perimeter'] = df['integrated_perimeter']+df[title]\n",
    "        #df.drop([title])\n",
    "    return df"
   ]
  },
  {
   "cell_type": "code",
   "execution_count": 175,
   "metadata": {},
   "outputs": [],
   "source": [
    "def asymmetry(df):\n",
    "    top = [8,9,10,11,12,15,16,17,18,19]    \n",
    "    bottom = [29,30,31,32,33,36,37,38,39,40]\n",
    "    left = [8,9,15,16,22,23,29,30,36,37,43,44]\n",
    "    right= [11,12,18,19,25,26,32,33,39,40]\n",
    "    series1 = pd.Series(0 for i in range(0,len(df['isPhoton'])))\n",
    "    series2 = pd.Series(0 for i in range(0,len(df['isPhoton'])))\n",
    "    series3 = pd.Series(0 for i in range(0,len(df['isPhoton'])))\n",
    "    series4 = pd.Series(0 for i in range(0,len(df['isPhoton'])))\n",
    "    name = 'tower'\n",
    "    for i,j,k,c in zip(top,bottom,left,right):\n",
    "        title = name+str(i)\n",
    "        series1 = series1 + df[title]\n",
    "        title = name+str(j)\n",
    "        series2 = series2 + df[title]\n",
    "        title = name+str(k)\n",
    "        series3 = series3 + df[title]\n",
    "        title = name+str(c)\n",
    "        series4 = series4 + df[title]\n",
    "    df['asymmetry'] = abs(series1-series2) + abs(series3-series4)\n",
    "    return df"
   ]
  },
  {
   "cell_type": "code",
   "execution_count": 176,
   "metadata": {},
   "outputs": [],
   "source": [
    "def preprocess(train):\n",
    "    trainTransformed = pd.DataFrame()\n",
    "    for column in train:\n",
    "        trainTransformed  = train[column].apply(to0)\n",
    "    trainTransformed = integrated_perimeter(train)\n",
    "    trainTransformed = asymmetry(trainTransformed)\n",
    "    trainTransformed = max_finder(trainTransformed)\n",
    "    trainTransformed = trainTransformed.drop(['tower0','tower1','tower2','tower3','tower4','tower5','tower6','tower7','tower8','tower9','tower10','tower11','tower12','tower13','tower14','tower15','tower19','tower20','tower21','tower22','tower26','tower27','tower28','tower29','tower33','tower34','tower35','tower36','tower40','tower41','tower42','tower43','tower44','tower45','tower46','tower47','tower48'],axis=1)    \n",
    "    df_temp = trainTransformed.drop(['isPhoton','total_energy'],axis=1)\n",
    "    for column in df_temp:\n",
    "        df_temp[column] = df_temp[column] / trainTransformed['total_energy']\n",
    "    trainTransformed = trainTransformed[['isPhoton','total_energy']]\n",
    "    trainTransformed = pd.concat([trainTransformed,df_temp.drop('Unnamed: 0',axis=1)],axis=1)\n",
    "    return trainTransformed"
   ]
  },
  {
   "cell_type": "code",
   "execution_count": 177,
   "metadata": {},
   "outputs": [],
   "source": [
    "train = preprocess(train)\n",
    "test = preprocess(test)"
   ]
  },
  {
   "cell_type": "code",
   "execution_count": 178,
   "metadata": {},
   "outputs": [],
   "source": [
    "knn = kNN(train,test)"
   ]
  },
  {
   "cell_type": "code",
   "execution_count": null,
   "metadata": {},
   "outputs": [],
   "source": [
    "knn.score()"
   ]
  },
  {
   "cell_type": "code",
   "execution_count": null,
   "metadata": {},
   "outputs": [],
   "source": [
    "knn.best_param()"
   ]
  },
  {
   "cell_type": "code",
   "execution_count": 180,
   "metadata": {},
   "outputs": [],
   "source": [
    "lda  = LDA(train,test)"
   ]
  },
  {
   "cell_type": "markdown",
   "metadata": {},
   "source": [
    "logistic  = Logistic(train,test)"
   ]
  },
  {
   "cell_type": "markdown",
   "metadata": {},
   "source": [
    "logistic.score()"
   ]
  },
  {
   "cell_type": "markdown",
   "metadata": {},
   "source": [
    "logistic.best_param()"
   ]
  },
  {
   "cell_type": "code",
   "execution_count": null,
   "metadata": {},
   "outputs": [],
   "source": [
    "bdt = BDT(train,test)"
   ]
  },
  {
   "cell_type": "code",
   "execution_count": null,
   "metadata": {},
   "outputs": [],
   "source": [
    "bdt.score()"
   ]
  },
  {
   "cell_type": "code",
   "execution_count": null,
   "metadata": {},
   "outputs": [],
   "source": [
    "bdt.best_param()"
   ]
  },
  {
   "cell_type": "code",
   "execution_count": 183,
   "metadata": {},
   "outputs": [],
   "source": [
    "randomForest = RandomForest(train,test)"
   ]
  },
  {
   "cell_type": "code",
   "execution_count": null,
   "metadata": {},
   "outputs": [],
   "source": [
    "randomForest.score()"
   ]
  },
  {
   "cell_type": "code",
   "execution_count": null,
   "metadata": {},
   "outputs": [],
   "source": [
    "randomForest.best_param()"
   ]
  },
  {
   "cell_type": "code",
   "execution_count": null,
   "metadata": {},
   "outputs": [],
   "source": [
    "mlp = MLP(train,test)"
   ]
  },
  {
   "cell_type": "code",
   "execution_count": null,
   "metadata": {},
   "outputs": [],
   "source": [
    "mlp.score()"
   ]
  },
  {
   "cell_type": "code",
   "execution_count": null,
   "metadata": {},
   "outputs": [],
   "source": [
    "mlp.best_param()"
   ]
  }
 ],
 "metadata": {
  "kernelspec": {
   "display_name": "Python 3",
   "language": "python",
   "name": "python3"
  },
  "language_info": {
   "codemirror_mode": {
    "name": "ipython",
    "version": 3
   },
   "file_extension": ".py",
   "mimetype": "text/x-python",
   "name": "python",
   "nbconvert_exporter": "python",
   "pygments_lexer": "ipython3",
   "version": "3.7.6"
  }
 },
 "nbformat": 4,
 "nbformat_minor": 2
}
