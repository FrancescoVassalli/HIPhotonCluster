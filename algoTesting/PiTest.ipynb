{
 "cells": [
  {
   "cell_type": "code",
   "execution_count": 311,
   "metadata": {},
   "outputs": [],
   "source": [
    "import pandas as pd\n",
    "import matplotlib.pyplot as plt\n",
    "import numpy as np\n",
    "from cycler import cycler\n",
    "from abc import ABC, abstractmethod\n",
    "from subprocess import call\n",
    "from IPython.display import Image\n",
    "from sklearn.model_selection import train_test_split as dataSplitter\n",
    "from sklearn.model_selection import GridSearchCV\n",
    "from sklearn.base import ClassifierMixin\n",
    "from sklearn.neighbors import KNeighborsClassifier as skKNN\n",
    "from sklearn.linear_model import LogisticRegression\n",
    "from sklearn.discriminant_analysis import LinearDiscriminantAnalysis as skLDA\n",
    "from sklearn.ensemble import AdaBoostClassifier\n",
    "from sklearn.ensemble import RandomForestClassifier\n",
    "from sklearn.neural_network import MLPClassifier\n",
    "from sklearn.metrics import roc_curve, auc\n",
    "from sklearn.preprocessing import StandardScaler\n",
    "from sklearn.tree import export_graphviz"
   ]
  },
  {
   "cell_type": "code",
   "execution_count": 312,
   "metadata": {},
   "outputs": [],
   "source": [
    "#in future version add roc inside here \n",
    "class Algo:\n",
    "\tdef __init__(self,trainData,testData):\n",
    "\t\tself.classifier  = ClassifierMixin()\n",
    "\t\tself.train(trainData)\n",
    "\t\tself.test = testData\n",
    "\t@abstractmethod\n",
    "\tdef train(self,data):\n",
    "\t\tpass\n",
    "\t@abstractmethod\n",
    "\tdef getName(self,data):\n",
    "\t\tpass\n",
    "\tdef score(self):\n",
    "\t\tprint(\"test score = \"+str(self.classifier.score(self.test.drop(['isPhoton'],axis=1),self.test['isPhoton'])))\n",
    "\tdef best_param(self):\n",
    "\t\tprint(self.classifier.best_params_)\n",
    "\tdef estimate(self,cluster):\n",
    "\t\treturn self.classifier.predict_proba(cluster)\n",
    "\tdef make_roc(self):\n",
    "\t\t#print(self.estimate(self.test.drop(['isPhoton'],axis=1))[:,1])\n",
    "\t\treturn roc_curve(self.test['isPhoton'],self.estimate(self.test.drop(['isPhoton'],axis=1))[:,1])"
   ]
  },
  {
   "cell_type": "code",
   "execution_count": 313,
   "metadata": {},
   "outputs": [],
   "source": [
    "class Sasha(Algo):\n",
    "    def __intit__(self,trainData,testData):\n",
    "        Algo.__init__(trainData,testData)\n",
    "    def train(self,data):\n",
    "        #does nothing algo comes pretrained\n",
    "        return\n",
    "    def getName(self):\n",
    "        return \"Sasha\"\n",
    "    def estimate(self,cluster):\n",
    "        estimates = cluster['sProb'].values\n",
    "        return estimates\n",
    "    def make_roc(self):\n",
    "        return roc_curve(self.test['isPhoton'],self.estimate(self.test))"
   ]
  },
  {
   "cell_type": "code",
   "execution_count": 314,
   "metadata": {},
   "outputs": [],
   "source": [
    "class kNN(Algo):\n",
    "\tdef __intit__(self,trainData,testData):\n",
    "\t\tAlgo.__init__(trainData,testData)\n",
    "\tdef train(self,data):\n",
    "        #split data and score\n",
    "\t\tself.classifier = GridSearchCV(skKNN(),{'n_neighbors':[24,32,38]},cv=5).fit(data.drop(['isPhoton'],axis=1),data['isPhoton'])\n",
    "\tdef getName(self):\n",
    "\t\treturn \"kNN\""
   ]
  },
  {
   "cell_type": "code",
   "execution_count": 315,
   "metadata": {},
   "outputs": [],
   "source": [
    "class LDA(Algo):\n",
    "\tdef __intit__(self,trainData,testData):\n",
    "\t\tAlgo.__init__(trainData,testData)\n",
    "\tdef train(self,data):\n",
    "        #split data and score\n",
    "\t\tself.classifier = GridSearchCV(skLDA(solver='lsqr'),{'tol':[1e-4,1e-5,1e-3]},cv=5).fit(data.drop(['isPhoton'],axis=1),data['isPhoton'])\n",
    "\tdef getName(self):\n",
    "\t\treturn \"LDA\""
   ]
  },
  {
   "cell_type": "code",
   "execution_count": 316,
   "metadata": {},
   "outputs": [],
   "source": [
    "class Logistic(Algo):\n",
    "\tdef __intit__(self,trainData,testData):\n",
    "\t\tAlgo.__init__(trainData,testData)\n",
    "\n",
    "\tdef train(self,data):\n",
    "        #split data and score\n",
    "\t\tself.classifier = GridSearchCV(LogisticRegression(penalty='l1',solver='liblinear',max_iter=1000,class_weight={1: .005, 0:.995}),{'tol':[1e-4,1e-5,1e-4],'C':[.1,1,10]},cv=5).fit(data.drop(['isPhoton'],axis=1),data['isPhoton'])\n",
    "\tdef getName(self):\n",
    "\t\treturn \"Logistic\""
   ]
  },
  {
   "cell_type": "code",
   "execution_count": 317,
   "metadata": {},
   "outputs": [],
   "source": [
    "class BDT(Algo):\n",
    "\tdef __intit__(self,trainData,testData):\n",
    "\t\tAlgo.__init__(trainData,testData)\n",
    "\tdef train(self,data):\n",
    "        #split data and score\n",
    "\t\tself.classifier = GridSearchCV(AdaBoostClassifier(),{'n_estimators':[10000,1000],'learning_rate':[.1,1,.01]},cv=5).fit(data.drop(['isPhoton'],axis=1),data['isPhoton'])\n",
    "\tdef getName(self):\n",
    "\t\treturn \"BDT\""
   ]
  },
  {
   "cell_type": "code",
   "execution_count": 318,
   "metadata": {},
   "outputs": [],
   "source": [
    "class RandomForest(Algo):\n",
    "\tdef __intit__(self,trainData,testData):\n",
    "\t\tAlgo.__init__(trainData,testData)\n",
    "\tdef train(self,data):\n",
    "        #split data and score\n",
    "\t\tself.classifier = GridSearchCV(RandomForestClassifier(class_weight={1:.005,0:.995}),{'n_estimators':[250,500]},cv=5).fit(data.drop(['isPhoton'],axis=1),data['isPhoton'])\n",
    "\tdef getName(self):\n",
    "\t\treturn \"RandomForest\""
   ]
  },
  {
   "cell_type": "code",
   "execution_count": 319,
   "metadata": {},
   "outputs": [],
   "source": [
    "class MLP(Algo):\n",
    "\tdef __intit__(self,trainData,testData):\n",
    "\t\ttrainData, testData = scaler(trainData,testData)\n",
    "\t\tAlgo.__init__(trainData,testData)\n",
    "\t\tself.name=\"MLP\"\n",
    "\tdef scaler(self,train,test):\n",
    "\t\t_scaler = StandardScaler()\n",
    "\t\t_scaler.fit_transform(train)\n",
    "\t\t_scaler.transform(test)\n",
    "\t\treturn train, test\n",
    "\tdef train(self,data):\n",
    "        #split data and score\n",
    "\t\tself.classifier = GridSearchCV(MLPClassifier(early_stopping=True,warm_start=True),{'alpha':[1e-4,1e-3,1e-5],'learning_rate_init':[1e-2,1e-3,1e-1],'epsilon':[1e-9,1e-8,1e-10],'hidden_layer_sizes':[[17,17]]},cv=5).fit(data.drop(['isPhoton'],axis=1),data['isPhoton'])\n",
    "\tdef getName(self):\n",
    "\t\treturn \"MLP\""
   ]
  },
  {
   "cell_type": "code",
   "execution_count": 320,
   "metadata": {},
   "outputs": [],
   "source": [
    "def pid2Type(val):\n",
    "    if abs(val) in [311,313,421,423,511,513,111,113,130,221,331]:\n",
    "        return 0\n",
    "    else:\n",
    "        return 1"
   ]
  },
  {
   "cell_type": "code",
   "execution_count": 321,
   "metadata": {},
   "outputs": [],
   "source": [
    "def plotRoc(algos):\n",
    "    fpr = dict()\n",
    "    tpr = dict()\n",
    "    roc_auc = dict()\n",
    "    plt.figure()\n",
    "    plt.rc('axes', prop_cycle=(cycler('color', ['r', 'g', 'b', 'y','c','k'])))\n",
    "    lw = len(algos) + 1\n",
    "    for algo in algos:\n",
    "        print(algo.getName())\n",
    "        fpr[algo], tpr[algo],_ = algo.make_roc()\n",
    "        roc_auc[algo] = auc(fpr[algo],tpr[algo])\n",
    "        plt.plot(fpr[algo], tpr[algo],\n",
    "         lw=lw, label=algo.getName()+' (area = %0.2f)' % roc_auc[algo])\n",
    "    plt.plot([0, 1], [0, 1], color='navy', lw=lw, linestyle='--')\n",
    "    plt.xlim([0.0, 1.0])\n",
    "    plt.ylim([0.0, 1.05])\n",
    "    plt.xlabel('False Positive Rate')\n",
    "    plt.ylabel('True Positive Rate')\n",
    "    plt.legend(loc=\"lower right\")\n",
    "    plt.show()"
   ]
  },
  {
   "cell_type": "code",
   "execution_count": 322,
   "metadata": {},
   "outputs": [],
   "source": [
    "def diagnoseForest(model,names):\n",
    "    index = 0\n",
    "    #for estimator in model.estimators_:\n",
    "    estimator = model.estimators_[5]\n",
    "    title = 'tree'+str(index)+'.dot'\n",
    "    export_graphviz(estimator, out_file=title, \n",
    "                feature_names = names,\n",
    "                class_names = ['Jet','Photon'],\n",
    "                rounded = True, proportion = False, \n",
    "                precision = 2, filled = True)\n",
    "    newTitle = 'tree'+str(index)+'.png'\n",
    "        #call(['dot','-Tpng', title, '-o', newTitle, '-Gdpi=600'])\n",
    "    Image(filename = newTitle)\n",
    "    index = index+1"
   ]
  },
  {
   "cell_type": "code",
   "execution_count": 323,
   "metadata": {},
   "outputs": [],
   "source": [
    "def removeCombined(val):\n",
    "    if val == -998:\n",
    "        return np.nan\n",
    "    else:\n",
    "        return val"
   ]
  },
  {
   "cell_type": "code",
   "execution_count": 324,
   "metadata": {},
   "outputs": [],
   "source": [
    "def csvToInput(signal,back):\n",
    "    dfs = pd.read_csv(signal)\n",
    "    dfb = pd.read_csv(back)\n",
    "    df = dfs.append(dfb)\n",
    "    df = df.groupby(['isPhoton']).get_group(1)\n",
    "    df= df.drop(['isPhoton'], axis=1)\n",
    "    df['pid'] = df['pid'].apply(removeCombined)\n",
    "    df = df.dropna()\n",
    "    df['pid'] = df['pid'].apply(pid2Type)\n",
    "    df = df.rename(columns = {'pid':'isPhoton'})\n",
    "    df = df[df['total_energy']<8]\n",
    "    #groups = df.groupby(['pid'])\n",
    "    #photons = groups.get_group(22)\n",
    "    #photons['total_energy'].hist()\n",
    "    #return photons\n",
    "    train, test = dataSplitter(df.values,test_size=.2,shuffle=True)\n",
    "    train = pd.DataFrame(columns=df.columns,data=train)\n",
    "    test = pd.DataFrame(columns=df.columns,data=test)\n",
    "    return train,test"
   ]
  },
  {
   "cell_type": "code",
   "execution_count": 325,
   "metadata": {},
   "outputs": [
    {
     "data": {
      "text/html": [
       "<div>\n",
       "<style scoped>\n",
       "    .dataframe tbody tr th:only-of-type {\n",
       "        vertical-align: middle;\n",
       "    }\n",
       "\n",
       "    .dataframe tbody tr th {\n",
       "        vertical-align: top;\n",
       "    }\n",
       "\n",
       "    .dataframe thead th {\n",
       "        text-align: right;\n",
       "    }\n",
       "</style>\n",
       "<table border=\"1\" class=\"dataframe\">\n",
       "  <thead>\n",
       "    <tr style=\"text-align: right;\">\n",
       "      <th></th>\n",
       "      <th>Unnamed: 0</th>\n",
       "      <th>total_energy</th>\n",
       "      <th>cal_energy</th>\n",
       "      <th>core_energy</th>\n",
       "      <th>isPhoton</th>\n",
       "      <th>tower0</th>\n",
       "      <th>tower1</th>\n",
       "      <th>tower2</th>\n",
       "      <th>tower3</th>\n",
       "      <th>tower4</th>\n",
       "      <th>...</th>\n",
       "      <th>tower39</th>\n",
       "      <th>tower40</th>\n",
       "      <th>tower41</th>\n",
       "      <th>tower42</th>\n",
       "      <th>tower43</th>\n",
       "      <th>tower44</th>\n",
       "      <th>tower45</th>\n",
       "      <th>tower46</th>\n",
       "      <th>tower47</th>\n",
       "      <th>tower48</th>\n",
       "    </tr>\n",
       "  </thead>\n",
       "  <tbody>\n",
       "    <tr>\n",
       "      <td>0</td>\n",
       "      <td>108.0</td>\n",
       "      <td>5.193055</td>\n",
       "      <td>1175.814453</td>\n",
       "      <td>5.436582</td>\n",
       "      <td>1.0</td>\n",
       "      <td>-0.025683</td>\n",
       "      <td>0.077113</td>\n",
       "      <td>-0.025683</td>\n",
       "      <td>-0.025683</td>\n",
       "      <td>-0.025683</td>\n",
       "      <td>...</td>\n",
       "      <td>-0.030984</td>\n",
       "      <td>-0.030984</td>\n",
       "      <td>-0.030984</td>\n",
       "      <td>-0.030984</td>\n",
       "      <td>-0.030984</td>\n",
       "      <td>-0.030984</td>\n",
       "      <td>-0.030984</td>\n",
       "      <td>-0.030984</td>\n",
       "      <td>-0.030984</td>\n",
       "      <td>-0.030984</td>\n",
       "    </tr>\n",
       "    <tr>\n",
       "      <td>1</td>\n",
       "      <td>2781.0</td>\n",
       "      <td>6.686915</td>\n",
       "      <td>1267.572876</td>\n",
       "      <td>6.887921</td>\n",
       "      <td>0.0</td>\n",
       "      <td>-0.036684</td>\n",
       "      <td>-0.036684</td>\n",
       "      <td>-0.036684</td>\n",
       "      <td>-0.036684</td>\n",
       "      <td>-0.036684</td>\n",
       "      <td>...</td>\n",
       "      <td>0.134705</td>\n",
       "      <td>0.094067</td>\n",
       "      <td>-0.023568</td>\n",
       "      <td>-0.023568</td>\n",
       "      <td>-0.023568</td>\n",
       "      <td>-0.023568</td>\n",
       "      <td>0.023486</td>\n",
       "      <td>0.459805</td>\n",
       "      <td>0.068401</td>\n",
       "      <td>-0.023568</td>\n",
       "    </tr>\n",
       "    <tr>\n",
       "      <td>2</td>\n",
       "      <td>5067.0</td>\n",
       "      <td>5.704792</td>\n",
       "      <td>1108.897217</td>\n",
       "      <td>5.975634</td>\n",
       "      <td>0.0</td>\n",
       "      <td>0.012490</td>\n",
       "      <td>-0.030178</td>\n",
       "      <td>-0.030178</td>\n",
       "      <td>0.014623</td>\n",
       "      <td>-0.030178</td>\n",
       "      <td>...</td>\n",
       "      <td>1.747716</td>\n",
       "      <td>-0.031947</td>\n",
       "      <td>-0.031947</td>\n",
       "      <td>-0.021448</td>\n",
       "      <td>-0.021448</td>\n",
       "      <td>0.027809</td>\n",
       "      <td>-0.021448</td>\n",
       "      <td>-0.021448</td>\n",
       "      <td>-0.021448</td>\n",
       "      <td>-0.021448</td>\n",
       "    </tr>\n",
       "    <tr>\n",
       "      <td>3</td>\n",
       "      <td>3975.0</td>\n",
       "      <td>7.015643</td>\n",
       "      <td>1130.351929</td>\n",
       "      <td>7.290638</td>\n",
       "      <td>0.0</td>\n",
       "      <td>-0.026796</td>\n",
       "      <td>-0.026796</td>\n",
       "      <td>-0.026796</td>\n",
       "      <td>-0.026796</td>\n",
       "      <td>-0.026796</td>\n",
       "      <td>...</td>\n",
       "      <td>0.093579</td>\n",
       "      <td>-0.025291</td>\n",
       "      <td>-0.025291</td>\n",
       "      <td>-0.016230</td>\n",
       "      <td>-0.016230</td>\n",
       "      <td>-0.016230</td>\n",
       "      <td>0.026547</td>\n",
       "      <td>-0.016230</td>\n",
       "      <td>0.020130</td>\n",
       "      <td>0.050074</td>\n",
       "    </tr>\n",
       "    <tr>\n",
       "      <td>4</td>\n",
       "      <td>201.0</td>\n",
       "      <td>6.579020</td>\n",
       "      <td>1315.149292</td>\n",
       "      <td>6.757054</td>\n",
       "      <td>1.0</td>\n",
       "      <td>-0.042349</td>\n",
       "      <td>-0.042349</td>\n",
       "      <td>-0.042349</td>\n",
       "      <td>-0.042349</td>\n",
       "      <td>-0.000708</td>\n",
       "      <td>...</td>\n",
       "      <td>-0.044308</td>\n",
       "      <td>-0.044308</td>\n",
       "      <td>-0.044308</td>\n",
       "      <td>0.012306</td>\n",
       "      <td>-0.044308</td>\n",
       "      <td>-0.044308</td>\n",
       "      <td>-0.044308</td>\n",
       "      <td>-0.044308</td>\n",
       "      <td>-0.044308</td>\n",
       "      <td>-0.044308</td>\n",
       "    </tr>\n",
       "  </tbody>\n",
       "</table>\n",
       "<p>5 rows × 54 columns</p>\n",
       "</div>"
      ],
      "text/plain": [
       "   Unnamed: 0  total_energy   cal_energy  core_energy  isPhoton    tower0  \\\n",
       "0       108.0      5.193055  1175.814453     5.436582       1.0 -0.025683   \n",
       "1      2781.0      6.686915  1267.572876     6.887921       0.0 -0.036684   \n",
       "2      5067.0      5.704792  1108.897217     5.975634       0.0  0.012490   \n",
       "3      3975.0      7.015643  1130.351929     7.290638       0.0 -0.026796   \n",
       "4       201.0      6.579020  1315.149292     6.757054       1.0 -0.042349   \n",
       "\n",
       "     tower1    tower2    tower3    tower4  ...   tower39   tower40   tower41  \\\n",
       "0  0.077113 -0.025683 -0.025683 -0.025683  ... -0.030984 -0.030984 -0.030984   \n",
       "1 -0.036684 -0.036684 -0.036684 -0.036684  ...  0.134705  0.094067 -0.023568   \n",
       "2 -0.030178 -0.030178  0.014623 -0.030178  ...  1.747716 -0.031947 -0.031947   \n",
       "3 -0.026796 -0.026796 -0.026796 -0.026796  ...  0.093579 -0.025291 -0.025291   \n",
       "4 -0.042349 -0.042349 -0.042349 -0.000708  ... -0.044308 -0.044308 -0.044308   \n",
       "\n",
       "    tower42   tower43   tower44   tower45   tower46   tower47   tower48  \n",
       "0 -0.030984 -0.030984 -0.030984 -0.030984 -0.030984 -0.030984 -0.030984  \n",
       "1 -0.023568 -0.023568 -0.023568  0.023486  0.459805  0.068401 -0.023568  \n",
       "2 -0.021448 -0.021448  0.027809 -0.021448 -0.021448 -0.021448 -0.021448  \n",
       "3 -0.016230 -0.016230 -0.016230  0.026547 -0.016230  0.020130  0.050074  \n",
       "4  0.012306 -0.044308 -0.044308 -0.044308 -0.044308 -0.044308 -0.044308  \n",
       "\n",
       "[5 rows x 54 columns]"
      ]
     },
     "execution_count": 325,
     "metadata": {},
     "output_type": "execute_result"
    }
   ],
   "source": [
    "train, test = csvToInput(\"photonClusters.csv\",\"backclusters.csv\")\n",
    "trainS = train\n",
    "testS = test\n",
    "train = train.drop(['sProb'],axis=1)\n",
    "test = test.drop(['sProb'],axis=1)\n",
    "train.head()"
   ]
  },
  {
   "cell_type": "code",
   "execution_count": 326,
   "metadata": {},
   "outputs": [
    {
     "data": {
      "text/plain": [
       "<matplotlib.axes._subplots.AxesSubplot at 0x1a2902d4d0>"
      ]
     },
     "execution_count": 326,
     "metadata": {},
     "output_type": "execute_result"
    },
    {
     "data": {
      "image/png": "[encoded data removed]",
      "text/plain": [
       "<Figure size 432x288 with 1 Axes>"
      ]
     },
     "metadata": {
      "needs_background": "light"
     },
     "output_type": "display_data"
    }
   ],
   "source": [
    "train['total_energy'].hist()"
   ]
  },
  {
   "cell_type": "code",
   "execution_count": 327,
   "metadata": {},
   "outputs": [
    {
     "data": {
      "text/plain": [
       "<matplotlib.axes._subplots.AxesSubplot at 0x1a2b679350>"
      ]
     },
     "execution_count": 327,
     "metadata": {},
     "output_type": "execute_result"
    },
    {
     "data": {
      "image/png": "[encoded data removed]",
      "text/plain": [
       "<Figure size 432x288 with 1 Axes>"
      ]
     },
     "metadata": {
      "needs_background": "light"
     },
     "output_type": "display_data"
    }
   ],
   "source": [
    "train['isPhoton'].hist()"
   ]
  },
  {
   "cell_type": "code",
   "execution_count": 328,
   "metadata": {},
   "outputs": [],
   "source": [
    "sasha = Sasha(trainS,testS)"
   ]
  },
  {
   "cell_type": "code",
   "execution_count": 329,
   "metadata": {},
   "outputs": [],
   "source": [
    "def toNA(val):\n",
    "    if val==-999:\n",
    "        return np.nan\n",
    "    else:\n",
    "        return val"
   ]
  },
  {
   "cell_type": "code",
   "execution_count": 330,
   "metadata": {},
   "outputs": [],
   "source": [
    "def to0(val):\n",
    "    if val==-999:\n",
    "        return 0\n",
    "    else:\n",
    "        return val"
   ]
  },
  {
   "cell_type": "markdown",
   "metadata": {},
   "source": [
    "Try to make some engineered features based off the symmetry of a photon."
   ]
  },
  {
   "cell_type": "code",
   "execution_count": 368,
   "metadata": {},
   "outputs": [],
   "source": [
    "def integrated_perimeter(df):\n",
    "    perimeter_values = [1,2,3,4,5,6,7,13,14,20,21,27,28,34,35,41,42,43,44,45,46,47,48]\n",
    "    name = 'tower'\n",
    "    df['integrated_perimeter'] = df['tower0']\n",
    "    #df.drop(['tower0'])\n",
    "    for i in perimeter_values:\n",
    "        title = name+str(i)\n",
    "        df['integrated_perimeter'] = df['integrated_perimeter']+df[title]\n",
    "        #df.drop([title])\n",
    "    return df\n",
    "        "
   ]
  },
  {
   "cell_type": "code",
   "execution_count": 369,
   "metadata": {},
   "outputs": [],
   "source": [
    "def max_finder(df):\n",
    "    perimeter_values = [9,10,11,12,15,19,22,26,29,33,36,37,38,39,40]\n",
    "    name = 'tower'\n",
    "    df['max_perimeter'] = df['tower8']\n",
    "    #df.drop(['tower0'])\n",
    "    for i in perimeter_values:\n",
    "        title = name+str(i)\n",
    "        df['max_perimeter'] = df['max_perimeter']+df[title]\n",
    "        #df.drop([title])\n",
    "    return df"
   ]
  },
  {
   "cell_type": "code",
   "execution_count": 333,
   "metadata": {},
   "outputs": [],
   "source": [
    "def asymmetry(df):\n",
    "    top = [8,9,10,11,12,15,16,17,18,19]    \n",
    "    bottom = [29,30,31,32,33,36,37,38,39,40]\n",
    "    left = [8,9,15,16,22,23,29,30,36,37,43,44]\n",
    "    right= [11,12,18,19,25,26,32,33,39,40]\n",
    "    series1 = pd.Series(0 for i in range(0,len(df['isPhoton'])))\n",
    "    series2 = pd.Series(0 for i in range(0,len(df['isPhoton'])))\n",
    "    series3 = pd.Series(0 for i in range(0,len(df['isPhoton'])))\n",
    "    series4 = pd.Series(0 for i in range(0,len(df['isPhoton'])))\n",
    "    name = 'tower'\n",
    "    for i,j,k,c in zip(top,bottom,left,right):\n",
    "        title = name+str(i)\n",
    "        series1 = series1 + df[title]\n",
    "        title = name+str(j)\n",
    "        series2 = series2 + df[title]\n",
    "        title = name+str(k)\n",
    "        series3 = series3 + df[title]\n",
    "        title = name+str(c)\n",
    "        series4 = series4 + df[title]\n",
    "    df['asymmetry'] = abs(series1-series2) + abs(series3-series4)\n",
    "    return df"
   ]
  },
  {
   "cell_type": "code",
   "execution_count": 334,
   "metadata": {},
   "outputs": [],
   "source": [
    "def preprocess(train):\n",
    "    trainTransformed = pd.DataFrame()\n",
    "    for column in train:\n",
    "        trainTransformed[column]  = train[column].apply(to0)\n",
    "    #print(trainTransformed.head())\n",
    "    trainTransformed = integrated_perimeter(trainTransformed)\n",
    "    trainTransformed = asymmetry(trainTransformed)\n",
    "    trainTransformed = max_finder(trainTransformed)\n",
    "    trainTransformed = trainTransformed.drop(['tower0','tower1','tower2','tower3','tower4','tower5','tower6','tower7','tower8','tower9','tower10','tower11','tower12','tower13','tower14','tower15','tower19','tower20','tower21','tower22','tower26','tower27','tower28','tower29','tower33','tower34','tower35','tower36','tower40','tower41','tower42','tower43','tower44','tower45','tower46','tower47','tower48'],axis=1)    \n",
    "    df_temp = trainTransformed.drop(['isPhoton','total_energy'],axis=1)\n",
    "    for column in df_temp:\n",
    "        df_temp[column] = df_temp[column] / trainTransformed['total_energy']\n",
    "    trainTransformed = trainTransformed[['isPhoton','total_energy']]\n",
    "    trainTransformed = pd.concat([trainTransformed,df_temp.drop('Unnamed: 0',axis=1)],axis=1)\n",
    "    return trainTransformed"
   ]
  },
  {
   "cell_type": "code",
   "execution_count": 335,
   "metadata": {},
   "outputs": [],
   "source": [
    "train = preprocess(train)\n",
    "test = preprocess(test)\n",
    "#train = train.drop('total_energy',axis=1)\n",
    "#test = test.drop('total_energy',axis=1)"
   ]
  },
  {
   "cell_type": "code",
   "execution_count": 361,
   "metadata": {},
   "outputs": [
    {
     "data": {
      "image/png": "[encoded data removed]",
      "text/plain": [
       "<Figure size 432x288 with 1 Axes>"
      ]
     },
     "metadata": {
      "needs_background": "light"
     },
     "output_type": "display_data"
    }
   ],
   "source": [
    "groups = testS.groupby(['isPhoton'])\n",
    "plt.hist([groups.get_group(0)['sProb'].values,groups.get_group(1)['sProb'].values], bins=20,density=True,histtype='step',label=[\"decay\",\"prompt\"])\n",
    "plt.xlabel(\"Sasha Prob\")\n",
    "plt.ylabel(\"dN/dN\")\n",
    "plt.title(\"Subtracted Cluster Sasha Prob\")\n",
    "plt.legend()\n",
    "plt.show()"
   ]
  },
  {
   "cell_type": "code",
   "execution_count": null,
   "metadata": {},
   "outputs": [],
   "source": [
    "groups = train.groupby(['isPhoton'])\n",
    "plt.hist([groups.get_group(0)['total_energy'].values,groups.get_group(1)['total_energy'].values], bins=20,density=True,histtype='step',label=[\"decay\",\"prompt\"])\n",
    "plt.xlabel(\"total_energy\")\n",
    "plt.ylabel(\"dN/dN\")\n",
    "plt.title(\"Subtracted Cluster total_energy\")\n",
    "plt.legend()\n",
    "plt.show()"
   ]
  },
  {
   "cell_type": "code",
   "execution_count": 337,
   "metadata": {},
   "outputs": [
    {
     "data": {
      "image/png": "[encoded data removed]",
      "text/plain": [
       "<Figure size 432x288 with 1 Axes>"
      ]
     },
     "metadata": {
      "needs_background": "light"
     },
     "output_type": "display_data"
    }
   ],
   "source": [
    "groups = train.groupby(['isPhoton'])\n",
    "plt.hist([groups.get_group(0)['asymmetry'].values,groups.get_group(1)['asymmetry'].values], bins=20,density=True,histtype='step',label=[\"Decay\",\"Prompt\"])\n",
    "plt.xlabel(\"Asymmetry\")\n",
    "plt.ylabel(\"dN/dN\")\n",
    "plt.title(\"Unsubtracted Cluster Asymmetry\")\n",
    "plt.legend()\n",
    "plt.show()"
   ]
  },
  {
   "cell_type": "code",
   "execution_count": 338,
   "metadata": {},
   "outputs": [
    {
     "data": {
      "image/png": "[encoded data removed]",
      "text/plain": [
       "<Figure size 432x288 with 1 Axes>"
      ]
     },
     "metadata": {
      "needs_background": "light"
     },
     "output_type": "display_data"
    }
   ],
   "source": [
    "groups = train.groupby(['isPhoton'])\n",
    "plt.hist([groups.get_group(0)['max_perimeter'].values,groups.get_group(1)['max_perimeter'].values], bins=20,density=True,histtype='step',label=[\"Decay\",\"Prompt\"])\n",
    "plt.xlabel(\"Max_Perimeter\")\n",
    "plt.ylabel(\"dN/dN\")\n",
    "plt.title(\"Unsubtracted Cluster Max_Perimeter\")\n",
    "plt.legend()\n",
    "plt.show()"
   ]
  },
  {
   "cell_type": "code",
   "execution_count": 339,
   "metadata": {},
   "outputs": [
    {
     "data": {
      "image/png": "[encoded data removed]",
      "text/plain": [
       "<Figure size 432x288 with 1 Axes>"
      ]
     },
     "metadata": {
      "needs_background": "light"
     },
     "output_type": "display_data"
    }
   ],
   "source": [
    "groups = train.groupby(['isPhoton'])\n",
    "plt.hist([groups.get_group(0)['integrated_perimeter'].values,groups.get_group(1)['integrated_perimeter'].values], bins=20,density=True,histtype='step',label=[\"Decay\",\"Prompt\"])\n",
    "plt.xlabel(\"Integrated_Perimeter\")\n",
    "plt.ylabel(\"dN/dN\")\n",
    "plt.title(\"Unsubtracted Cluster Integrated_Perimeter\")\n",
    "plt.legend()\n",
    "plt.show()"
   ]
  },
  {
   "cell_type": "code",
   "execution_count": 340,
   "metadata": {},
   "outputs": [],
   "source": [
    "knn = kNN(train,test)"
   ]
  },
  {
   "cell_type": "code",
   "execution_count": 26,
   "metadata": {},
   "outputs": [
    {
     "name": "stdout",
     "output_type": "stream",
     "text": [
      "test score = 0.8994708994708994\n"
     ]
    }
   ],
   "source": [
    "knn.score()"
   ]
  },
  {
   "cell_type": "code",
   "execution_count": 27,
   "metadata": {},
   "outputs": [
    {
     "name": "stdout",
     "output_type": "stream",
     "text": [
      "{'n_neighbors': 32}\n"
     ]
    }
   ],
   "source": [
    "knn.best_param()"
   ]
  },
  {
   "cell_type": "code",
   "execution_count": 181,
   "metadata": {},
   "outputs": [],
   "source": [
    "lda  = LDA(train,test)"
   ]
  },
  {
   "cell_type": "code",
   "execution_count": 341,
   "metadata": {},
   "outputs": [],
   "source": [
    "logistic  = Logistic(train,test)"
   ]
  },
  {
   "cell_type": "code",
   "execution_count": 363,
   "metadata": {},
   "outputs": [
    {
     "data": {
      "image/png": "[encoded data removed]",
      "text/plain": [
       "<Figure size 432x288 with 1 Axes>"
      ]
     },
     "metadata": {
      "needs_background": "light"
     },
     "output_type": "display_data"
    }
   ],
   "source": [
    "groups = test.groupby(['isPhoton'])\n",
    "plt.hist([logistic.estimate(groups.get_group(0).drop(['isPhoton'],axis=1))[:,1]  , logistic.estimate(groups.get_group(1).drop(['isPhoton'],axis=1))[:,1]], bins=20,density=True,histtype='step',label=[\"decay\",\"prompt\"])\n",
    "plt.xlabel(\"Forest Prob\")\n",
    "plt.ylabel(\"dN/dN\")\n",
    "plt.title(\"Subtracted Cluster Forest Prob\")\n",
    "plt.legend()\n",
    "plt.show()"
   ]
  },
  {
   "cell_type": "markdown",
   "metadata": {},
   "source": [
    "logistic.score()"
   ]
  },
  {
   "cell_type": "markdown",
   "metadata": {},
   "source": [
    "logistic.best_param()"
   ]
  },
  {
   "cell_type": "code",
   "execution_count": 31,
   "metadata": {},
   "outputs": [],
   "source": [
    "bdt = BDT(train,test)"
   ]
  },
  {
   "cell_type": "code",
   "execution_count": 88,
   "metadata": {},
   "outputs": [
    {
     "name": "stdout",
     "output_type": "stream",
     "text": [
      "test score = 0.8751529987760098\n"
     ]
    }
   ],
   "source": [
    "bdt.score()"
   ]
  },
  {
   "cell_type": "code",
   "execution_count": 89,
   "metadata": {},
   "outputs": [
    {
     "name": "stdout",
     "output_type": "stream",
     "text": [
      "{'learning_rate': 0.01, 'n_estimators': 10000}\n"
     ]
    }
   ],
   "source": [
    "bdt.best_param()"
   ]
  },
  {
   "cell_type": "code",
   "execution_count": 342,
   "metadata": {},
   "outputs": [],
   "source": [
    "randomForest = RandomForest(train,test)"
   ]
  },
  {
   "cell_type": "code",
   "execution_count": 362,
   "metadata": {},
   "outputs": [
    {
     "data": {
      "image/png": "[encoded data removed]",
      "text/plain": [
       "<Figure size 432x288 with 1 Axes>"
      ]
     },
     "metadata": {
      "needs_background": "light"
     },
     "output_type": "display_data"
    }
   ],
   "source": [
    "groups = test.groupby(['isPhoton'])\n",
    "plt.hist([randomForest.estimate(groups.get_group(0).drop(['isPhoton'],axis=1))[:,1]  , randomForest.estimate(groups.get_group(1).drop(['isPhoton'],axis=1))[:,1]], bins=20,density=True,histtype='step',label=[\"decay\",\"prompt\"])\n",
    "plt.xlabel(\"Forest Prob\")\n",
    "plt.ylabel(\"dN/dN\")\n",
    "plt.title(\"Subtracted Cluster Forest Prob\")\n",
    "plt.legend()\n",
    "plt.show()"
   ]
  },
  {
   "cell_type": "code",
   "execution_count": null,
   "metadata": {},
   "outputs": [],
   "source": [
    "randomForest.score()"
   ]
  },
  {
   "cell_type": "code",
   "execution_count": null,
   "metadata": {},
   "outputs": [],
   "source": [
    "randomForest.best_param()"
   ]
  },
  {
   "cell_type": "code",
   "execution_count": 32,
   "metadata": {},
   "outputs": [
    {
     "name": "stderr",
     "output_type": "stream",
     "text": [
      "/Users/francescovassalli/opt/anaconda3/lib/python3.7/site-packages/sklearn/model_selection/_search.py:814: DeprecationWarning: The default of the `iid` parameter will change from True to False in version 0.22 and will be removed in 0.24. This will change numeric results when test-set sizes are unequal.\n",
      "  DeprecationWarning)\n"
     ]
    }
   ],
   "source": [
    "mlp = MLP(train,test)"
   ]
  },
  {
   "cell_type": "code",
   "execution_count": 80,
   "metadata": {},
   "outputs": [
    {
     "name": "stdout",
     "output_type": "stream",
     "text": [
      "test score = 0.8531211750305998\n"
     ]
    }
   ],
   "source": [
    "mlp.score()"
   ]
  },
  {
   "cell_type": "code",
   "execution_count": 81,
   "metadata": {},
   "outputs": [
    {
     "name": "stdout",
     "output_type": "stream",
     "text": [
      "{'alpha': 0.0001, 'epsilon': 1e-09, 'hidden_layer_sizes': [17, 17], 'learning_rate_init': 0.1}\n"
     ]
    }
   ],
   "source": [
    "mlp.best_param()"
   ]
  },
  {
   "cell_type": "code",
   "execution_count": 343,
   "metadata": {},
   "outputs": [
    {
     "name": "stdout",
     "output_type": "stream",
     "text": [
      "Sasha\n",
      "Logistic\n",
      "RandomForest\n"
     ]
    },
    {
     "data": {
      "image/png": "[encoded data removed]",
      "text/plain": [
       "<Figure size 432x288 with 1 Axes>"
      ]
     },
     "metadata": {
      "needs_background": "light"
     },
     "output_type": "display_data"
    }
   ],
   "source": [
    "algos = [sasha,logistic,randomForest]\n",
    "plotRoc(algos)"
   ]
  },
  {
   "cell_type": "code",
   "execution_count": 353,
   "metadata": {},
   "outputs": [],
   "source": [
    "def csvNoMix(signal):\n",
    "    df = pd.read_csv(signal)\n",
    "    df = df.groupby(['isPhoton']).get_group(1)\n",
    "    df= df.drop(['isPhoton'], axis=1)\n",
    "    df['pid'] = df['pid'].apply(removeCombined)\n",
    "    df = df.dropna()\n",
    "    df['pid'] = df['pid'].apply(pid2Type)\n",
    "    df = df.rename(columns = {'pid':'isPhoton'})\n",
    "    return df"
   ]
  },
  {
   "cell_type": "code",
   "execution_count": 354,
   "metadata": {},
   "outputs": [
    {
     "name": "stdout",
     "output_type": "stream",
     "text": [
      "signal:\n",
      "[1.7455637445321342e-05, 0.0005456036229997991, 0.13701723480080819, 0.020960131605279528, 0.023136687004074712, 0.011674597675222075, 1.177049779305089e-05, 0.05539063467501217, 2.5607499727417933e-07, 0.0044445302321118665]\n",
      "back:\n",
      "[2.645831659217101e-06, 0.000328680518208286, 0.006175663222086786, 0.005846973736862665, 0.0002593079898764799, 0.0017275806131623868, 6.338373671508257e-06, 7.690306873732315e-07, 0.0017237043687913583, 0.08381515989706609]\n"
     ]
    }
   ],
   "source": [
    "signal = preprocess(csvNoMix(\"photonclusters.csv\"))\n",
    "back = preprocess(csvNoMix(\"backclusters.csv\"))\n",
    "nclusters =10\n",
    "#get the sasha prob for the first nclusters\n",
    "print(\"signal:\")\n",
    "print(\"prob:\")\n",
    "print([signal['sProb'].iloc[i] for i in range(0,nclusters)])\n",
    "print(\"back:\")\n",
    "print([back['sProb'].iloc[i] for i in range(0,nclusters)])"
   ]
  },
  {
   "cell_type": "code",
   "execution_count": 364,
   "metadata": {},
   "outputs": [
    {
     "data": {
      "text/html": [
       "<div>\n",
       "<style scoped>\n",
       "    .dataframe tbody tr th:only-of-type {\n",
       "        vertical-align: middle;\n",
       "    }\n",
       "\n",
       "    .dataframe tbody tr th {\n",
       "        vertical-align: top;\n",
       "    }\n",
       "\n",
       "    .dataframe thead th {\n",
       "        text-align: right;\n",
       "    }\n",
       "</style>\n",
       "<table border=\"1\" class=\"dataframe\">\n",
       "  <thead>\n",
       "    <tr style=\"text-align: right;\">\n",
       "      <th></th>\n",
       "      <th>total_energy</th>\n",
       "      <th>cal_energy</th>\n",
       "      <th>core_energy</th>\n",
       "      <th>tower16</th>\n",
       "      <th>tower17</th>\n",
       "      <th>tower18</th>\n",
       "      <th>tower23</th>\n",
       "      <th>tower24</th>\n",
       "      <th>tower25</th>\n",
       "      <th>tower30</th>\n",
       "      <th>tower31</th>\n",
       "      <th>tower32</th>\n",
       "      <th>tower37</th>\n",
       "      <th>tower38</th>\n",
       "      <th>tower39</th>\n",
       "      <th>integrated_perimeter</th>\n",
       "      <th>asymmetry</th>\n",
       "      <th>max_perimeter</th>\n",
       "    </tr>\n",
       "  </thead>\n",
       "  <tbody>\n",
       "    <tr>\n",
       "      <td>0</td>\n",
       "      <td>5.410728</td>\n",
       "      <td>184.411351</td>\n",
       "      <td>1.036015</td>\n",
       "      <td>0.004150</td>\n",
       "      <td>0.008810</td>\n",
       "      <td>0.002985</td>\n",
       "      <td>0.045281</td>\n",
       "      <td>0.927803</td>\n",
       "      <td>0.007636</td>\n",
       "      <td>0.015786</td>\n",
       "      <td>0.011129</td>\n",
       "      <td>0.000263</td>\n",
       "      <td>-0.006092</td>\n",
       "      <td>-0.006092</td>\n",
       "      <td>-0.006092</td>\n",
       "      <td>-0.096576</td>\n",
       "      <td>0.043134</td>\n",
       "      <td>-0.055527</td>\n",
       "    </tr>\n",
       "    <tr>\n",
       "      <td>1</td>\n",
       "      <td>7.919887</td>\n",
       "      <td>128.803140</td>\n",
       "      <td>1.052632</td>\n",
       "      <td>0.001013</td>\n",
       "      <td>0.005039</td>\n",
       "      <td>0.004234</td>\n",
       "      <td>0.022216</td>\n",
       "      <td>0.878397</td>\n",
       "      <td>0.071869</td>\n",
       "      <td>-0.004357</td>\n",
       "      <td>0.027518</td>\n",
       "      <td>0.006893</td>\n",
       "      <td>0.000196</td>\n",
       "      <td>-0.004357</td>\n",
       "      <td>-0.004357</td>\n",
       "      <td>0.064620</td>\n",
       "      <td>0.093506</td>\n",
       "      <td>-0.045028</td>\n",
       "    </tr>\n",
       "    <tr>\n",
       "      <td>2</td>\n",
       "      <td>5.788734</td>\n",
       "      <td>226.055574</td>\n",
       "      <td>1.052632</td>\n",
       "      <td>0.033773</td>\n",
       "      <td>0.023800</td>\n",
       "      <td>-0.007967</td>\n",
       "      <td>0.294188</td>\n",
       "      <td>0.598190</td>\n",
       "      <td>-0.007967</td>\n",
       "      <td>0.012050</td>\n",
       "      <td>0.037998</td>\n",
       "      <td>-0.007967</td>\n",
       "      <td>-0.006673</td>\n",
       "      <td>0.001112</td>\n",
       "      <td>0.055232</td>\n",
       "      <td>-0.020772</td>\n",
       "      <td>0.402866</td>\n",
       "      <td>0.000523</td>\n",
       "    </tr>\n",
       "    <tr>\n",
       "      <td>3</td>\n",
       "      <td>9.740494</td>\n",
       "      <td>121.894488</td>\n",
       "      <td>0.995552</td>\n",
       "      <td>-0.003187</td>\n",
       "      <td>-0.003187</td>\n",
       "      <td>0.007135</td>\n",
       "      <td>0.009285</td>\n",
       "      <td>0.842478</td>\n",
       "      <td>0.040135</td>\n",
       "      <td>0.015849</td>\n",
       "      <td>0.053920</td>\n",
       "      <td>0.007097</td>\n",
       "      <td>-0.003092</td>\n",
       "      <td>-0.003092</td>\n",
       "      <td>-0.003092</td>\n",
       "      <td>0.008186</td>\n",
       "      <td>0.148982</td>\n",
       "      <td>0.092307</td>\n",
       "    </tr>\n",
       "    <tr>\n",
       "      <td>5</td>\n",
       "      <td>9.846825</td>\n",
       "      <td>133.048150</td>\n",
       "      <td>1.019654</td>\n",
       "      <td>0.014535</td>\n",
       "      <td>0.310701</td>\n",
       "      <td>0.061896</td>\n",
       "      <td>-0.000038</td>\n",
       "      <td>0.574935</td>\n",
       "      <td>0.006606</td>\n",
       "      <td>-0.003629</td>\n",
       "      <td>-0.003629</td>\n",
       "      <td>-0.003629</td>\n",
       "      <td>-0.003629</td>\n",
       "      <td>-0.003629</td>\n",
       "      <td>-0.003629</td>\n",
       "      <td>-0.058904</td>\n",
       "      <td>0.513649</td>\n",
       "      <td>-0.011200</td>\n",
       "    </tr>\n",
       "  </tbody>\n",
       "</table>\n",
       "</div>"
      ],
      "text/plain": [
       "   total_energy  cal_energy  core_energy   tower16   tower17   tower18  \\\n",
       "0      5.410728  184.411351     1.036015  0.004150  0.008810  0.002985   \n",
       "1      7.919887  128.803140     1.052632  0.001013  0.005039  0.004234   \n",
       "2      5.788734  226.055574     1.052632  0.033773  0.023800 -0.007967   \n",
       "3      9.740494  121.894488     0.995552 -0.003187 -0.003187  0.007135   \n",
       "5      9.846825  133.048150     1.019654  0.014535  0.310701  0.061896   \n",
       "\n",
       "    tower23   tower24   tower25   tower30   tower31   tower32   tower37  \\\n",
       "0  0.045281  0.927803  0.007636  0.015786  0.011129  0.000263 -0.006092   \n",
       "1  0.022216  0.878397  0.071869 -0.004357  0.027518  0.006893  0.000196   \n",
       "2  0.294188  0.598190 -0.007967  0.012050  0.037998 -0.007967 -0.006673   \n",
       "3  0.009285  0.842478  0.040135  0.015849  0.053920  0.007097 -0.003092   \n",
       "5 -0.000038  0.574935  0.006606 -0.003629 -0.003629 -0.003629 -0.003629   \n",
       "\n",
       "    tower38   tower39  integrated_perimeter  asymmetry  max_perimeter  \n",
       "0 -0.006092 -0.006092             -0.096576   0.043134      -0.055527  \n",
       "1 -0.004357 -0.004357              0.064620   0.093506      -0.045028  \n",
       "2  0.001112  0.055232             -0.020772   0.402866       0.000523  \n",
       "3 -0.003092 -0.003092              0.008186   0.148982       0.092307  \n",
       "5 -0.003629 -0.003629             -0.058904   0.513649      -0.011200  "
      ]
     },
     "execution_count": 364,
     "metadata": {},
     "output_type": "execute_result"
    }
   ],
   "source": [
    "signal.head()"
   ]
  },
  {
   "cell_type": "code",
   "execution_count": 370,
   "metadata": {},
   "outputs": [
    {
     "name": "stdout",
     "output_type": "stream",
     "text": [
      "asym:\n",
      "[0.043133999805677566, 0.09350603843961595, 0.40286562861618785, 0.14898232343288362, 0.5136489935848595, 0.18383315405004266, 0.06100968419894535, 0.3447855373505382, 0.1082670673410034, 0.13825895008367092]\n",
      "max:\n",
      "[-0.05552725878901431, -0.04502830670382437, 0.0005231290171399163, 0.09230657596580576, -0.01119962172258809, -0.005281680282221093, -0.0384889556530171, 0.00220723376970592, -0.01821049346384403, 0.03859305801754024]\n",
      "integrated_perimeter:\n",
      "[-0.09657632323499267, 0.06462017538270644, -0.020772074412373588, 0.008186094210964095, -0.0589042764651757, 0.29710672261725785, -0.0413376194702346, -0.02396746220464026, 0.1740410397605262, 0.04384235237289592]\n",
      "\n",
      "asym:\n",
      "[0.5873030207062431, 0.4799264791228473, 0.49136204604885103, 0.16674906439030582, 0.5049201857834423, 0.26924596165839926, 0.36587972292406035, 0.5695021492066654, 0.24062934534313457, 0.36591127616149405]\n",
      "max:\n",
      "[0.03401821804204429, 0.030104391551713593, 0.012774170824587623, 0.022744100132018972, 0.02939257869148548, 0.0379622795914416, 0.04438475796316952, 0.3069925924674722, 0.10079201865176088, 0.14197668546625786]\n",
      "integrated_perimeter:\n",
      "[0.011479707592283762, 0.031114275259914833, -0.00791786615015609, 0.012782230544220027, 0.03889220947010054, 0.03737667538688178, -0.008563645441955089, -0.027864449024091784, 0.14022804517056434, -0.06829673463119826]\n"
     ]
    }
   ],
   "source": [
    "print(\"asym:\")\n",
    "print([signal['asymmetry'].iloc[i] for i in range(0,nclusters)])\n",
    "print(\"max:\")\n",
    "print([signal['max_perimeter'].iloc[i] for i in range(0,nclusters)])\n",
    "print(\"integrated_perimeter:\")\n",
    "print([signal['integrated_perimeter'].iloc[i] for i in range(0,nclusters)])\n",
    "print()\n",
    "print(\"asym:\")\n",
    "print([back['asymmetry'].iloc[i] for i in range(0,nclusters)])\n",
    "print(\"max:\")\n",
    "print([back['max_perimeter'].iloc[i] for i in range(0,nclusters)])\n",
    "print(\"integrated_perimeter:\")\n",
    "print([back['integrated_perimeter'].iloc[i] for i in range(0,nclusters)])"
   ]
  },
  {
   "cell_type": "code",
   "execution_count": 355,
   "metadata": {},
   "outputs": [],
   "source": [
    "signal = signal.drop(['isPhoton','sProb'],axis=1)\n",
    "back = back.drop(['isPhoton','sProb'],axis=1)"
   ]
  },
  {
   "cell_type": "code",
   "execution_count": 358,
   "metadata": {},
   "outputs": [
    {
     "data": {
      "text/plain": [
       "array([[0.512, 0.488],\n",
       "       [0.136, 0.864],\n",
       "       [0.244, 0.756],\n",
       "       [0.232, 0.768],\n",
       "       [0.172, 0.828],\n",
       "       [0.188, 0.812],\n",
       "       [0.112, 0.888],\n",
       "       [0.276, 0.724],\n",
       "       [0.34 , 0.66 ],\n",
       "       [0.104, 0.896]])"
      ]
     },
     "execution_count": 358,
     "metadata": {},
     "output_type": "execute_result"
    }
   ],
   "source": [
    "randomForest.classifier.predict_proba([signal.iloc[i] for i in range(0,nclusters)])"
   ]
  },
  {
   "cell_type": "code",
   "execution_count": 359,
   "metadata": {},
   "outputs": [
    {
     "data": {
      "text/plain": [
       "array([[0.212, 0.788],\n",
       "       [0.176, 0.824],\n",
       "       [0.176, 0.824],\n",
       "       [0.784, 0.216],\n",
       "       [0.176, 0.824],\n",
       "       [0.128, 0.872],\n",
       "       [0.164, 0.836],\n",
       "       [0.988, 0.012],\n",
       "       [0.96 , 0.04 ],\n",
       "       [0.956, 0.044]])"
      ]
     },
     "execution_count": 359,
     "metadata": {},
     "output_type": "execute_result"
    }
   ],
   "source": [
    "randomForest.classifier.predict_proba([back.iloc[i] for i in range(0,nclusters)])"
   ]
  },
  {
   "cell_type": "code",
   "execution_count": null,
   "metadata": {},
   "outputs": [],
   "source": []
  }
 ],
 "metadata": {
  "kernelspec": {
   "display_name": "Python 3",
   "language": "python",
   "name": "python3"
  },
  "language_info": {
   "codemirror_mode": {
    "name": "ipython",
    "version": 3
   },
   "file_extension": ".py",
   "mimetype": "text/x-python",
   "name": "python",
   "nbconvert_exporter": "python",
   "pygments_lexer": "ipython3",
   "version": "3.7.4"
  }
 },
 "nbformat": 4,
 "nbformat_minor": 2
}
