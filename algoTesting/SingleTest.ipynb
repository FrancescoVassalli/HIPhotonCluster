{
 "cells": [
  {
   "cell_type": "code",
   "execution_count": 1335,
   "metadata": {},
   "outputs": [],
   "source": [
    "import pandas as pd\n",
    "import math\n",
    "import matplotlib.pyplot as plt\n",
    "import numpy as np\n",
    "from cycler import cycler\n",
    "from abc import ABC, abstractmethod\n",
    "from subprocess import call\n",
    "from scipy import stats\n",
    "from IPython.display import Image\n",
    "from uncertainties import unumpy, ufloat\n",
    "from sklearn.model_selection import train_test_split as dataSplitter\n",
    "from sklearn.model_selection import GridSearchCV\n",
    "from sklearn.base import ClassifierMixin\n",
    "from sklearn.neighbors import KNeighborsClassifier as skKNN\n",
    "from sklearn.linear_model import LogisticRegression\n",
    "from sklearn.discriminant_analysis import LinearDiscriminantAnalysis as skLDA\n",
    "from sklearn.svm import SVC as skSVC\n",
    "from sklearn.naive_bayes import ComplementNB\n",
    "from sklearn.ensemble import AdaBoostClassifier\n",
    "from sklearn.ensemble import RandomForestClassifier\n",
    "from sklearn.neural_network import MLPClassifier\n",
    "from sklearn.metrics import roc_curve, auc\n",
    "from sklearn.preprocessing import StandardScaler\n",
    "from sklearn.tree import export_graphviz\n",
    "from sklearn.utils.class_weight import compute_sample_weight\n",
    "import sklearn.metrics as metric"
   ]
  },
  {
   "cell_type": "code",
   "execution_count": 1336,
   "metadata": {},
   "outputs": [
    {
     "data": {
      "text/plain": [
       "0.908"
      ]
     },
     "execution_count": 1336,
     "metadata": {},
     "output_type": "execute_result"
    }
   ],
   "source": [
    "promptRate=.092\n",
    "pizRate  = 1-promptRate\n",
    "pizRate"
   ]
  },
  {
   "cell_type": "markdown",
   "metadata": {},
   "source": [
    "# Make an abstract algorithm and instances for each machine I want to test##"
   ]
  },
  {
   "cell_type": "code",
   "execution_count": 1337,
   "metadata": {},
   "outputs": [],
   "source": [
    "#in future version add roc inside here \n",
    "class Algo:\n",
    "\tdef __init__(self,trainData,testData):\n",
    "\t\tself.classifier  = ClassifierMixin()\n",
    "\t\tself.train(trainData)\n",
    "\t\tself.test = testData\n",
    "\t@abstractmethod\n",
    "\tdef train(self,data):\n",
    "\t\tpass\n",
    "\t@abstractmethod\n",
    "\tdef getName(self,data):\n",
    "\t\tpass\n",
    "\tdef score(self):\n",
    "\t\tprint(self.getName()+\"\\n\\t F1: \"+str(metric.f1_score(self.test['isPhoton'],self.predict(self.test.drop(['isPhoton'],axis=1)),average='binary',sample_weight=compute_sample_weight({0:pizRate,1:promptRate},self.test['isPhoton']))))\n",
    "\t\tprint(\"\\t Precision: \"+str(metric.precision_score(self.test['isPhoton'],self.predict(self.test.drop(['isPhoton'],axis=1)),average='binary',sample_weight=compute_sample_weight({0:pizRate,1:promptRate},self.test['isPhoton']))))\n",
    "\t\tprint(\"\\t Recall: \"+str(metric.recall_score(self.test['isPhoton'],self.predict(self.test.drop(['isPhoton'],axis=1)),average='binary',sample_weight=compute_sample_weight({0:pizRate,1:promptRate},self.test['isPhoton']))))\n",
    "\t\tchanceLabels = [0 for i in range(len(self.test['isPhoton']))]\n",
    "\t\tchanceLabels[0::10] = [1 for i in range(len(chanceLabels[0::10]))]\n",
    "\t\tprint(\"\\t Kappa: \"+str(metric.cohen_kappa_score(chanceLabels,self.predict(self.test.drop(['isPhoton'],axis=1)),sample_weight=compute_sample_weight({0:pizRate,1:promptRate},self.test['isPhoton']))))\n",
    "\t\tprint(\"\\t Matrix: \"+str(metric.confusion_matrix(self.test['isPhoton'],self.predict(self.test.drop(['isPhoton'],axis=1)),sample_weight=compute_sample_weight({0:pizRate,1:promptRate},self.test['isPhoton']))))\n",
    "\tdef best_param(self):\n",
    "\t\tprint(self.classifier.best_params_)\n",
    "\tdef estimate(self,cluster):\n",
    "\t\treturn self.classifier.predict_proba(cluster)\n",
    "\tdef predict(self,cluster):\n",
    "\t\treturn self.classifier.predict(cluster)\n",
    "\tdef make_roc(self):\n",
    "\t\t#print(self.estimate(self.test.drop(['isPhoton'],axis=1))[:,1])\n",
    "\t\treturn roc_curve(self.test['isPhoton'],self.estimate(self.test.drop(['isPhoton'],axis=1))[:,1],sample_weight=compute_sample_weight({0:pizRate,1:promptRate},self.test['isPhoton']))\n",
    "\tdef make_prc(self):\n",
    "\t\t#print(self.estimate(self.test.drop(['isPhoton'],axis=1))[:,1])\n",
    "\t\treturn metric.precision_recall_curve(self.test['isPhoton'],self.estimate(self.test.drop(['isPhoton'],axis=1))[:,1],sample_weight=compute_sample_weight({0:pizRate,1:promptRate},self.test['isPhoton'])), metric.average_precision_score(self.test['isPhoton'],self.estimate(self.test.drop(['isPhoton'],axis=1))[:,1],sample_weight=compute_sample_weight({0:pizRate,1:promptRate},self.test['isPhoton']))"
   ]
  },
  {
   "cell_type": "code",
   "execution_count": 1338,
   "metadata": {},
   "outputs": [],
   "source": [
    "class Sasha(Algo):\n",
    "    def __intit__(self,trainData,testData):\n",
    "        Algo.__init__(trainData,testData)\n",
    "    def train(self,data):\n",
    "        #does nothing algo comes pretrained\n",
    "        return\n",
    "    def getName(self):\n",
    "        return \"Sasha\"\n",
    "    def estimate(self,cluster):\n",
    "        estimates = cluster['sProb'].values\n",
    "        return estimates\n",
    "    def make_roc(self):\n",
    "        return roc_curve(self.test['isPhoton'],self.estimate(self.test))"
   ]
  },
  {
   "cell_type": "code",
   "execution_count": 1339,
   "metadata": {},
   "outputs": [],
   "source": [
    "class kNN(Algo):\n",
    "\tdef __intit__(self,trainData,testData):\n",
    "\t\tAlgo.__init__(trainData,testData)\n",
    "\tdef train(self,data):\n",
    "        #split data and score\n",
    "\t\tself.classifier = GridSearchCV(skKNN(),{'n_neighbors':[24,32,38]},cv=5).fit(data.drop(['isPhoton'],axis=1),data['isPhoton'])\n",
    "\tdef getName(self):\n",
    "\t\treturn \"kNN\""
   ]
  },
  {
   "cell_type": "code",
   "execution_count": 1340,
   "metadata": {},
   "outputs": [],
   "source": [
    "class LDA(Algo):\n",
    "\tdef __intit__(self,trainData,testData):\n",
    "\t\tAlgo.__init__(trainData,testData)\n",
    "\tdef train(self,data):\n",
    "        #split data and score\n",
    "\t\tself.classifier = GridSearchCV(skLDA(solver='lsqr'),{'tol':[1e-4,1e-5,1e-3]},cv=5).fit(data.drop(['isPhoton'],axis=1),data['isPhoton'])\n",
    "\tdef getName(self):\n",
    "\t\treturn \"LDA\""
   ]
  },
  {
   "cell_type": "code",
   "execution_count": 1341,
   "metadata": {},
   "outputs": [],
   "source": [
    "class Logistic(Algo):\n",
    "\tdef __intit__(self,trainData,testData):\n",
    "\t\tAlgo.__init__(trainData,testData)\n",
    "\n",
    "\tdef train(self,data):\n",
    "        #split data and score\n",
    "\t\tself.classifier = GridSearchCV(LogisticRegression(penalty='l1',solver='liblinear',max_iter=1000,class_weight={1: promptRate, 0:pizRate}),{'tol':[1e-4,1e-5,1e-4],'C':[.1,1,10]},cv=5).fit(data.drop(['isPhoton'],axis=1),data['isPhoton'])\n",
    "\tdef getName(self):\n",
    "\t\treturn \"Logistic\""
   ]
  },
  {
   "cell_type": "code",
   "execution_count": 1342,
   "metadata": {},
   "outputs": [],
   "source": [
    "class SVC(Algo):\n",
    "\tdef __intit__(self,trainData,testData):\n",
    "\t\tAlgo.__init__(trainData,testData)\n",
    "\n",
    "\tdef train(self,data):\n",
    "        #split data and score\n",
    "\t\tself.classifier = GridSearchCV(skSVC(kernel='linear',gamma='scale',probability=True,class_weight={1: promptRate, 0:pizRate}),{'tol':[1e-4,1e-5,1e-4],'C':[.1,1,10]},cv=5).fit(data.drop(['isPhoton'],axis=1),data['isPhoton'])\n",
    "\tdef getName(self):\n",
    "\t\treturn \"SVC\""
   ]
  },
  {
   "cell_type": "code",
   "execution_count": 1343,
   "metadata": {},
   "outputs": [],
   "source": [
    "class BDT(Algo):\n",
    "\tdef __intit__(self,trainData,testData):\n",
    "\t\tAlgo.__init__(trainData,testData)\n",
    "\tdef train(self,data):\n",
    "        #split data and score\n",
    "\t\tself.classifier = GridSearchCV(AdaBoostClassifier(),{'n_estimators':[10000,1000],'learning_rate':[.1,1,.01]},cv=5).fit(data.drop(['isPhoton'],axis=1),data['isPhoton'])\n",
    "\tdef getName(self):\n",
    "\t\treturn \"BDT\""
   ]
  },
  {
   "cell_type": "code",
   "execution_count": 1344,
   "metadata": {},
   "outputs": [],
   "source": [
    "class RandomForest(Algo):\n",
    "\tdef __intit__(self,trainData,testData):\n",
    "\t\tAlgo.__init__(trainData,testData)\n",
    "\tdef train(self,data):\n",
    "        #split data and score\n",
    "\t\tself.classifier = GridSearchCV(RandomForestClassifier(class_weight={1:promptRate,0:pizRate}),{'n_estimators':[100,250,400]},cv=5).fit(data.drop(['isPhoton'],axis=1),data['isPhoton'])\n",
    "\tdef getName(self):\n",
    "\t\treturn \"RandomForest\""
   ]
  },
  {
   "cell_type": "code",
   "execution_count": 1345,
   "metadata": {},
   "outputs": [],
   "source": [
    "class MLP(Algo):\n",
    "\tdef __intit__(self,trainData,testData):\n",
    "\t\ttrainData, testData = scaler(trainData,testData)\n",
    "\t\tAlgo.__init__(trainData,testData)\n",
    "\t\tself.name=\"MLP\"\n",
    "\tdef scaler(self,train,test):\n",
    "\t\t_scaler = StandardScaler()\n",
    "\t\t_scaler.fit_transform(train)\n",
    "\t\t_scaler.transform(test)\n",
    "\t\treturn train, test\n",
    "\tdef train(self,data):\n",
    "        #split data and score\n",
    "\t\tself.classifier = GridSearchCV(MLPClassifier(early_stopping=True,warm_start=True),{'alpha':[1e-4,1e-3,1e-5],'learning_rate_init':[1e-2,1e-3,1e-1],'epsilon':[1e-9,1e-8,1e-10],'hidden_layer_sizes':[[17,17],[10],[10,10]]},cv=5).fit(data.drop(['isPhoton'],axis=1),data['isPhoton'])\n",
    "\tdef getName(self):\n",
    "\t\treturn \"MLP\""
   ]
  },
  {
   "cell_type": "markdown",
   "metadata": {},
   "source": [
    "# Model Evaluation Functions"
   ]
  },
  {
   "cell_type": "code",
   "execution_count": 1346,
   "metadata": {},
   "outputs": [],
   "source": [
    "def plotRoc(algos):\n",
    "    fpr = dict()\n",
    "    tpr = dict()\n",
    "    roc_auc = dict()\n",
    "    plt.figure()\n",
    "    plt.rc('axes', prop_cycle=(cycler('color', ['r', 'g', 'b', 'y','c','k'])))\n",
    "    lw = len(algos) + 1\n",
    "    for algo in algos:\n",
    "        print(algo.getName())\n",
    "        fpr[algo], tpr[algo],_ = algo.make_roc()\n",
    "        roc_auc[algo] = auc(fpr[algo],tpr[algo])\n",
    "        plt.plot(fpr[algo], tpr[algo],\n",
    "         lw=lw, label=algo.getName()+' (area = %0.2f)' % roc_auc[algo])\n",
    "    plt.plot([0, 1], [0, 1], color='navy', lw=lw, linestyle='--')\n",
    "    plt.xlim([0.0, 1.0])\n",
    "    plt.ylim([0.0, 1.05])\n",
    "    plt.xlabel('False Positive Rate')\n",
    "    plt.ylabel('True Positive Rate')\n",
    "    plt.legend(loc=\"lower right\")\n",
    "    plt.show()"
   ]
  },
  {
   "cell_type": "code",
   "execution_count": 1347,
   "metadata": {},
   "outputs": [],
   "source": [
    "def plotPRC(algos):\n",
    "    fpr = dict()\n",
    "    tpr = dict()\n",
    "    roc_auc = dict()\n",
    "    average = dict()\n",
    "    plt.figure()\n",
    "    plt.rc('axes', prop_cycle=(cycler('color', ['r', 'g', 'b', 'y','c','k'])))\n",
    "    lw = len(algos) + 1\n",
    "    for algo in algos:\n",
    "        print(algo.getName())\n",
    "        plot, average[algo] = algo.make_prc()\n",
    "        fpr[algo]= plot[0]\n",
    "        tpr[algo]= plot[1]\n",
    "        plt.plot(fpr[algo], tpr[algo],\n",
    "         lw=lw, label=algo.getName()+' (average score = %0.2f)' % average[algo])\n",
    "    plt.xlim([0.0, 1.0])\n",
    "    plt.ylim([0.0, 1.05])\n",
    "    plt.xlabel('Recall')\n",
    "    plt.ylabel('Precision')\n",
    "    plt.legend(loc=\"lower right\")\n",
    "    plt.show()"
   ]
  },
  {
   "cell_type": "code",
   "execution_count": 1348,
   "metadata": {},
   "outputs": [],
   "source": [
    "def diagnoseForest(model,names):\n",
    "    index = 0\n",
    "    #for estimator in model.estimators_:\n",
    "    estimator = model.estimators_[5]\n",
    "    title = 'tree'+str(index)+'.dot'\n",
    "    export_graphviz(estimator, out_file=title, \n",
    "                feature_names = names,\n",
    "                class_names = ['Jet','Photon'],\n",
    "                rounded = True, proportion = False, \n",
    "                precision = 2, filled = True)\n",
    "    newTitle = 'tree'+str(index)+'.png'\n",
    "    call(['dot','-Tpng', title, '-o', newTitle, '-Gdpi=600'])\n",
    "    Image(filename = newTitle)\n",
    "    index = index+1"
   ]
  },
  {
   "cell_type": "code",
   "execution_count": 1349,
   "metadata": {},
   "outputs": [],
   "source": [
    "def forestImportance(forest,featureNames):\n",
    "    importances = forest.feature_importances_\n",
    "    std = np.std([tree.feature_importances_ for tree in forest.estimators_],\n",
    "                 axis=0)\n",
    "    indices = np.argsort(importances)[::-1]\n",
    "    \n",
    "    # Print the feature ranking\n",
    "    print(\"Feature ranking:\")\n",
    "    \n",
    "    for f in range(len(featureNames)):\n",
    "        print(\"%d. %s (%f)\" % (f + 1, featureNames[indices[f]], importances[indices[f]]))\n",
    "    \n",
    "    # Plot the feature importances of the forest\n",
    "    plt.figure()\n",
    "    plt.title(\"Feature importances\")\n",
    "    plt.bar(range(len(featureNames)), importances[indices],\n",
    "           color=\"r\", yerr=std[indices], align=\"center\")\n",
    "    plt.xticks(range(len(featureNames)), [x for _,x in sorted(zip(indices,featureNames))],rotation=45)\n",
    "    plt.xlim([-1, len(featureNames)])\n",
    "    plt.show()"
   ]
  },
  {
   "cell_type": "markdown",
   "metadata": {},
   "source": [
    "# Data Transformations"
   ]
  },
  {
   "cell_type": "code",
   "execution_count": 1350,
   "metadata": {},
   "outputs": [],
   "source": [
    "def removeCombined(val):\n",
    "    if val == -998:\n",
    "        return np.nan\n",
    "    else:\n",
    "        return val"
   ]
  },
  {
   "cell_type": "code",
   "execution_count": 1351,
   "metadata": {},
   "outputs": [],
   "source": [
    "def pid2Type(val):\n",
    "    if abs(val) in [311,313,421,423,511,513,111,113,130,221,331]:\n",
    "        return 0\n",
    "    else:\n",
    "        return 1"
   ]
  },
  {
   "cell_type": "code",
   "execution_count": 1352,
   "metadata": {},
   "outputs": [],
   "source": [
    "def toNA(val):\n",
    "    if val==-999:\n",
    "        return np.nan\n",
    "    else:\n",
    "        return val"
   ]
  },
  {
   "cell_type": "code",
   "execution_count": 1353,
   "metadata": {},
   "outputs": [],
   "source": [
    "def to0(val):\n",
    "    if val==-999:\n",
    "        return 0\n",
    "    else:\n",
    "        return val"
   ]
  },
  {
   "cell_type": "markdown",
   "metadata": {},
   "source": [
    "# Data Input"
   ]
  },
  {
   "cell_type": "code",
   "execution_count": 1354,
   "metadata": {},
   "outputs": [],
   "source": [
    "def csvToInput(signal,back):\n",
    "    dfs = pd.read_csv(signal)\n",
    "    dfb = pd.read_csv(back)\n",
    "    df = dfs.append(dfb)\n",
    "    df = df.groupby(['isPhoton']).get_group(1)\n",
    "    df= df.drop(['isPhoton'], axis=1)\n",
    "    df['pid'] = df['pid'].apply(removeCombined)\n",
    "    df = df.dropna()\n",
    "    df['pid'] = df['pid'].apply(pid2Type)\n",
    "    df = df.rename(columns = {'pid':'isPhoton'})\n",
    "    df = df[df['total_energy']>13]\n",
    "    df = df[df['total_energy']<22]\n",
    "    #groups = df.groupby(['pid'])\n",
    "    #photons = groups.get_group(22)\n",
    "    #photons['total_energy'].hist()\n",
    "    #return photons\n",
    "    train, test = dataSplitter(df.values,test_size=.2,shuffle=True)\n",
    "    train = pd.DataFrame(columns=df.columns,data=train)\n",
    "    test = pd.DataFrame(columns=df.columns,data=test)\n",
    "    return train,test"
   ]
  },
  {
   "cell_type": "code",
   "execution_count": 1355,
   "metadata": {},
   "outputs": [
    {
     "data": {
      "text/html": [
       "<div>\n",
       "<style scoped>\n",
       "    .dataframe tbody tr th:only-of-type {\n",
       "        vertical-align: middle;\n",
       "    }\n",
       "\n",
       "    .dataframe tbody tr th {\n",
       "        vertical-align: top;\n",
       "    }\n",
       "\n",
       "    .dataframe thead th {\n",
       "        text-align: right;\n",
       "    }\n",
       "</style>\n",
       "<table border=\"1\" class=\"dataframe\">\n",
       "  <thead>\n",
       "    <tr style=\"text-align: right;\">\n",
       "      <th></th>\n",
       "      <th>Unnamed: 0</th>\n",
       "      <th>total_energy</th>\n",
       "      <th>core_energy</th>\n",
       "      <th>isPhoton</th>\n",
       "      <th>tower0</th>\n",
       "      <th>tower1</th>\n",
       "      <th>tower2</th>\n",
       "      <th>tower3</th>\n",
       "      <th>tower4</th>\n",
       "      <th>tower5</th>\n",
       "      <th>...</th>\n",
       "      <th>tower39</th>\n",
       "      <th>tower40</th>\n",
       "      <th>tower41</th>\n",
       "      <th>tower42</th>\n",
       "      <th>tower43</th>\n",
       "      <th>tower44</th>\n",
       "      <th>tower45</th>\n",
       "      <th>tower46</th>\n",
       "      <th>tower47</th>\n",
       "      <th>tower48</th>\n",
       "    </tr>\n",
       "  </thead>\n",
       "  <tbody>\n",
       "    <tr>\n",
       "      <th>0</th>\n",
       "      <td>7635.0</td>\n",
       "      <td>13.729648</td>\n",
       "      <td>14.212836</td>\n",
       "      <td>1.0</td>\n",
       "      <td>-999.00000</td>\n",
       "      <td>-999.00000</td>\n",
       "      <td>-999.0</td>\n",
       "      <td>-999.0</td>\n",
       "      <td>-999.0</td>\n",
       "      <td>-999.0</td>\n",
       "      <td>...</td>\n",
       "      <td>-999.000000</td>\n",
       "      <td>-999.000000</td>\n",
       "      <td>-999.0</td>\n",
       "      <td>-999.0</td>\n",
       "      <td>-999.0</td>\n",
       "      <td>0.048641</td>\n",
       "      <td>-999.0</td>\n",
       "      <td>-999.0</td>\n",
       "      <td>-999.0</td>\n",
       "      <td>-999.0</td>\n",
       "    </tr>\n",
       "    <tr>\n",
       "      <th>1</th>\n",
       "      <td>11685.0</td>\n",
       "      <td>15.343515</td>\n",
       "      <td>15.647348</td>\n",
       "      <td>1.0</td>\n",
       "      <td>-999.00000</td>\n",
       "      <td>-999.00000</td>\n",
       "      <td>-999.0</td>\n",
       "      <td>-999.0</td>\n",
       "      <td>-999.0</td>\n",
       "      <td>-999.0</td>\n",
       "      <td>...</td>\n",
       "      <td>-999.000000</td>\n",
       "      <td>0.050257</td>\n",
       "      <td>-999.0</td>\n",
       "      <td>-999.0</td>\n",
       "      <td>-999.0</td>\n",
       "      <td>-999.000000</td>\n",
       "      <td>-999.0</td>\n",
       "      <td>-999.0</td>\n",
       "      <td>-999.0</td>\n",
       "      <td>-999.0</td>\n",
       "    </tr>\n",
       "    <tr>\n",
       "      <th>2</th>\n",
       "      <td>16606.0</td>\n",
       "      <td>19.299986</td>\n",
       "      <td>18.359312</td>\n",
       "      <td>0.0</td>\n",
       "      <td>0.03797</td>\n",
       "      <td>0.04008</td>\n",
       "      <td>-999.0</td>\n",
       "      <td>-999.0</td>\n",
       "      <td>-999.0</td>\n",
       "      <td>-999.0</td>\n",
       "      <td>...</td>\n",
       "      <td>0.081895</td>\n",
       "      <td>0.048297</td>\n",
       "      <td>-999.0</td>\n",
       "      <td>-999.0</td>\n",
       "      <td>-999.0</td>\n",
       "      <td>-999.000000</td>\n",
       "      <td>-999.0</td>\n",
       "      <td>-999.0</td>\n",
       "      <td>-999.0</td>\n",
       "      <td>-999.0</td>\n",
       "    </tr>\n",
       "    <tr>\n",
       "      <th>3</th>\n",
       "      <td>2696.0</td>\n",
       "      <td>17.649096</td>\n",
       "      <td>17.398968</td>\n",
       "      <td>0.0</td>\n",
       "      <td>-999.00000</td>\n",
       "      <td>-999.00000</td>\n",
       "      <td>-999.0</td>\n",
       "      <td>-999.0</td>\n",
       "      <td>-999.0</td>\n",
       "      <td>-999.0</td>\n",
       "      <td>...</td>\n",
       "      <td>0.087669</td>\n",
       "      <td>-999.000000</td>\n",
       "      <td>-999.0</td>\n",
       "      <td>-999.0</td>\n",
       "      <td>-999.0</td>\n",
       "      <td>-999.000000</td>\n",
       "      <td>-999.0</td>\n",
       "      <td>-999.0</td>\n",
       "      <td>-999.0</td>\n",
       "      <td>-999.0</td>\n",
       "    </tr>\n",
       "    <tr>\n",
       "      <th>4</th>\n",
       "      <td>3575.0</td>\n",
       "      <td>14.842518</td>\n",
       "      <td>14.432292</td>\n",
       "      <td>0.0</td>\n",
       "      <td>-999.00000</td>\n",
       "      <td>-999.00000</td>\n",
       "      <td>-999.0</td>\n",
       "      <td>-999.0</td>\n",
       "      <td>-999.0</td>\n",
       "      <td>-999.0</td>\n",
       "      <td>...</td>\n",
       "      <td>-999.000000</td>\n",
       "      <td>0.048718</td>\n",
       "      <td>-999.0</td>\n",
       "      <td>-999.0</td>\n",
       "      <td>-999.0</td>\n",
       "      <td>-999.000000</td>\n",
       "      <td>-999.0</td>\n",
       "      <td>-999.0</td>\n",
       "      <td>-999.0</td>\n",
       "      <td>-999.0</td>\n",
       "    </tr>\n",
       "  </tbody>\n",
       "</table>\n",
       "<p>5 rows × 53 columns</p>\n",
       "</div>"
      ],
      "text/plain": [
       "   Unnamed: 0  total_energy  core_energy  isPhoton     tower0     tower1  \\\n",
       "0      7635.0     13.729648    14.212836       1.0 -999.00000 -999.00000   \n",
       "1     11685.0     15.343515    15.647348       1.0 -999.00000 -999.00000   \n",
       "2     16606.0     19.299986    18.359312       0.0    0.03797    0.04008   \n",
       "3      2696.0     17.649096    17.398968       0.0 -999.00000 -999.00000   \n",
       "4      3575.0     14.842518    14.432292       0.0 -999.00000 -999.00000   \n",
       "\n",
       "   tower2  tower3  tower4  tower5  ...     tower39     tower40  tower41  \\\n",
       "0  -999.0  -999.0  -999.0  -999.0  ... -999.000000 -999.000000   -999.0   \n",
       "1  -999.0  -999.0  -999.0  -999.0  ... -999.000000    0.050257   -999.0   \n",
       "2  -999.0  -999.0  -999.0  -999.0  ...    0.081895    0.048297   -999.0   \n",
       "3  -999.0  -999.0  -999.0  -999.0  ...    0.087669 -999.000000   -999.0   \n",
       "4  -999.0  -999.0  -999.0  -999.0  ... -999.000000    0.048718   -999.0   \n",
       "\n",
       "   tower42  tower43     tower44  tower45  tower46  tower47  tower48  \n",
       "0   -999.0   -999.0    0.048641   -999.0   -999.0   -999.0   -999.0  \n",
       "1   -999.0   -999.0 -999.000000   -999.0   -999.0   -999.0   -999.0  \n",
       "2   -999.0   -999.0 -999.000000   -999.0   -999.0   -999.0   -999.0  \n",
       "3   -999.0   -999.0 -999.000000   -999.0   -999.0   -999.0   -999.0  \n",
       "4   -999.0   -999.0 -999.000000   -999.0   -999.0   -999.0   -999.0  \n",
       "\n",
       "[5 rows x 53 columns]"
      ]
     },
     "execution_count": 1355,
     "metadata": {},
     "output_type": "execute_result"
    }
   ],
   "source": [
    "train, test = csvToInput(\"singleClusters.csv\",\"sback.csv\")\n",
    "trainS = train\n",
    "testS = test\n",
    "train = train.drop(['sProb','cal_energy'],axis=1)\n",
    "test = test.drop(['sProb','cal_energy'],axis=1)\n",
    "train.head()"
   ]
  },
  {
   "cell_type": "markdown",
   "metadata": {},
   "source": [
    "# Initial Distribution Analysis"
   ]
  },
  {
   "cell_type": "code",
   "execution_count": 1356,
   "metadata": {},
   "outputs": [
    {
     "data": {
      "image/png": "[encoded data removed]",
      "text/plain": [
       "<Figure size 432x288 with 1 Axes>"
      ]
     },
     "metadata": {
      "needs_background": "light"
     },
     "output_type": "display_data"
    }
   ],
   "source": [
    "groups = trainS.groupby(['isPhoton'])\n",
    "plt.hist([groups.get_group(0)['sProb'].values,groups.get_group(1)['sProb'].values], bins=20,density=True,histtype='step',label=[\"decay\",\"prompt\"])\n",
    "plt.xlabel(\"Sasha Prob\")\n",
    "plt.ylabel(\"dN/dN\")\n",
    "plt.title(\"\")\n",
    "plt.legend()\n",
    "plt.show()"
   ]
  },
  {
   "cell_type": "code",
   "execution_count": 1357,
   "metadata": {},
   "outputs": [
    {
     "data": {
      "text/plain": [
       "<matplotlib.axes._subplots.AxesSubplot at 0x129ee7890>"
      ]
     },
     "execution_count": 1357,
     "metadata": {},
     "output_type": "execute_result"
    },
    {
     "data": {
      "image/png": "[encoded data removed]",
      "text/plain": [
       "<Figure size 432x288 with 1 Axes>"
      ]
     },
     "metadata": {
      "needs_background": "light"
     },
     "output_type": "display_data"
    }
   ],
   "source": [
    "train['total_energy'].hist()"
   ]
  },
  {
   "cell_type": "code",
   "execution_count": 1358,
   "metadata": {},
   "outputs": [
    {
     "data": {
      "text/plain": [
       "<matplotlib.axes._subplots.AxesSubplot at 0x13ddcd410>"
      ]
     },
     "execution_count": 1358,
     "metadata": {},
     "output_type": "execute_result"
    },
    {
     "data": {
      "image/png": "[encoded data removed]",
      "text/plain": [
       "<Figure size 432x288 with 1 Axes>"
      ]
     },
     "metadata": {
      "needs_background": "light"
     },
     "output_type": "display_data"
    }
   ],
   "source": [
    "test['isPhoton'].hist()"
   ]
  },
  {
   "cell_type": "code",
   "execution_count": 1359,
   "metadata": {},
   "outputs": [
    {
     "data": {
      "text/plain": [
       "<matplotlib.axes._subplots.AxesSubplot at 0x13dda4bd0>"
      ]
     },
     "execution_count": 1359,
     "metadata": {},
     "output_type": "execute_result"
    },
    {
     "data": {
      "image/png": "[encoded data removed]",
      "text/plain": [
       "<Figure size 432x288 with 1 Axes>"
      ]
     },
     "metadata": {
      "needs_background": "light"
     },
     "output_type": "display_data"
    }
   ],
   "source": [
    "train['isPhoton'].hist()"
   ]
  },
  {
   "cell_type": "markdown",
   "metadata": {},
   "source": [
    "Try to make some engineered features based off the symmetry of a photon."
   ]
  },
  {
   "cell_type": "markdown",
   "metadata": {},
   "source": [
    "# Feature Engineering"
   ]
  },
  {
   "cell_type": "code",
   "execution_count": 1360,
   "metadata": {},
   "outputs": [],
   "source": [
    "def integrated_perimeter(df):\n",
    "    perimeter_values = [1,2,3,4,5,6,7,13,14,20,21,27,28,34,35,41,42,43,44,45,46,47,48]\n",
    "    name = 'tower'\n",
    "    df['integrated_perimeter'] = df['tower0']\n",
    "    #df.drop(['tower0'])\n",
    "    for i in perimeter_values:\n",
    "        title = name+str(i)\n",
    "        df['integrated_perimeter'] = df['integrated_perimeter']+df[title]\n",
    "        #df.drop([title])\n",
    "    return df\n",
    "        "
   ]
  },
  {
   "cell_type": "code",
   "execution_count": 1361,
   "metadata": {},
   "outputs": [],
   "source": [
    "def max_finder(df):\n",
    "    perimeter_values = [9,10,11,12,15,19,22,26,29,33,36,37,38,39,40]\n",
    "    name = 'tower'\n",
    "    df['max_perimeter'] = df['tower8']\n",
    "    #df.drop(['tower0'])\n",
    "    for i in perimeter_values:\n",
    "        title = name+str(i)\n",
    "        df['max_perimeter'] = df['max_perimeter']+df[title]\n",
    "        #df.drop([title])\n",
    "    return df"
   ]
  },
  {
   "cell_type": "code",
   "execution_count": 1362,
   "metadata": {},
   "outputs": [],
   "source": [
    "def asymmetry(df):\n",
    "    top = [8,9,10,11,12,15,16,17,18,19]    \n",
    "    bottom = [29,30,31,32,33,36,37,38,39,40]\n",
    "    left = [8,9,15,16,22,23,29,30,36,37,43,44]\n",
    "    right= [11,12,18,19,25,26,32,33,39,40]\n",
    "    series1 = pd.Series(0 for i in range(0,len(df['isPhoton'])))\n",
    "    series2 = pd.Series(0 for i in range(0,len(df['isPhoton'])))\n",
    "    series3 = pd.Series(0 for i in range(0,len(df['isPhoton'])))\n",
    "    series4 = pd.Series(0 for i in range(0,len(df['isPhoton'])))\n",
    "    name = 'tower'\n",
    "    for i,j,k,c in zip(top,bottom,left,right):\n",
    "        title = name+str(i)\n",
    "        series1 = series1 + df[title]\n",
    "        title = name+str(j)\n",
    "        series2 = series2 + df[title]\n",
    "        title = name+str(k)\n",
    "        series3 = series3 + df[title]\n",
    "        title = name+str(c)\n",
    "        series4 = series4 + df[title]\n",
    "    df['top_asymmetry'] = abs(series1-series2)\n",
    "    df['left_asymmetry']= abs(series3-series4)\n",
    "    return df"
   ]
  },
  {
   "cell_type": "code",
   "execution_count": 1363,
   "metadata": {},
   "outputs": [],
   "source": [
    "def preprocess(train):\n",
    "    trainTransformed = pd.DataFrame()\n",
    "    for column in train:\n",
    "        trainTransformed[column]  = train[column].apply(to0)\n",
    "    #print(trainTransformed.head())\n",
    "    trainTransformed = integrated_perimeter(trainTransformed)\n",
    "    trainTransformed = asymmetry(trainTransformed)\n",
    "    trainTransformed = max_finder(trainTransformed)\n",
    "    trainTransformed = trainTransformed.drop(['tower0','tower1','tower2','tower3','tower4','tower5','tower6','tower7','tower8','tower9','tower10','tower11','tower12','tower13','tower14','tower15','tower19','tower20','tower21','tower22','tower26','tower27','tower28','tower29','tower33','tower34','tower35','tower36','tower40','tower41','tower42','tower43','tower44','tower45','tower46','tower47','tower48'],axis=1)    \n",
    "    df_temp = trainTransformed.drop(['isPhoton','total_energy'],axis=1)\n",
    "    for column in df_temp:\n",
    "        df_temp[column] = df_temp[column] / trainTransformed['total_energy']\n",
    "    trainTransformed = trainTransformed[['isPhoton','total_energy']]\n",
    "    trainTransformed = pd.concat([trainTransformed,df_temp.drop('Unnamed: 0',axis=1)],axis=1)\n",
    "    return trainTransformed"
   ]
  },
  {
   "cell_type": "code",
   "execution_count": 1364,
   "metadata": {},
   "outputs": [
    {
     "data": {
      "text/html": [
       "<div>\n",
       "<style scoped>\n",
       "    .dataframe tbody tr th:only-of-type {\n",
       "        vertical-align: middle;\n",
       "    }\n",
       "\n",
       "    .dataframe tbody tr th {\n",
       "        vertical-align: top;\n",
       "    }\n",
       "\n",
       "    .dataframe thead th {\n",
       "        text-align: right;\n",
       "    }\n",
       "</style>\n",
       "<table border=\"1\" class=\"dataframe\">\n",
       "  <thead>\n",
       "    <tr style=\"text-align: right;\">\n",
       "      <th></th>\n",
       "      <th>isPhoton</th>\n",
       "      <th>total_energy</th>\n",
       "      <th>core_energy</th>\n",
       "      <th>tower16</th>\n",
       "      <th>tower17</th>\n",
       "      <th>tower18</th>\n",
       "      <th>tower23</th>\n",
       "      <th>tower24</th>\n",
       "      <th>tower25</th>\n",
       "      <th>tower30</th>\n",
       "      <th>tower31</th>\n",
       "      <th>tower32</th>\n",
       "      <th>tower37</th>\n",
       "      <th>tower38</th>\n",
       "      <th>tower39</th>\n",
       "      <th>integrated_perimeter</th>\n",
       "      <th>top_asymmetry</th>\n",
       "      <th>left_asymmetry</th>\n",
       "      <th>max_perimeter</th>\n",
       "    </tr>\n",
       "  </thead>\n",
       "  <tbody>\n",
       "    <tr>\n",
       "      <th>0</th>\n",
       "      <td>1.0</td>\n",
       "      <td>13.729648</td>\n",
       "      <td>1.035193</td>\n",
       "      <td>0.041338</td>\n",
       "      <td>0.209939</td>\n",
       "      <td>0.004645</td>\n",
       "      <td>0.135005</td>\n",
       "      <td>0.587707</td>\n",
       "      <td>0.009444</td>\n",
       "      <td>0.007107</td>\n",
       "      <td>0.002781</td>\n",
       "      <td>0.002781</td>\n",
       "      <td>0.000000</td>\n",
       "      <td>0.000000</td>\n",
       "      <td>0.000000</td>\n",
       "      <td>0.003543</td>\n",
       "      <td>0.246838</td>\n",
       "      <td>0.171679</td>\n",
       "      <td>0.017964</td>\n",
       "    </tr>\n",
       "    <tr>\n",
       "      <th>1</th>\n",
       "      <td>1.0</td>\n",
       "      <td>15.343515</td>\n",
       "      <td>1.019802</td>\n",
       "      <td>0.003150</td>\n",
       "      <td>0.005204</td>\n",
       "      <td>0.000000</td>\n",
       "      <td>0.032572</td>\n",
       "      <td>0.785694</td>\n",
       "      <td>0.014917</td>\n",
       "      <td>0.011359</td>\n",
       "      <td>0.130424</td>\n",
       "      <td>0.014370</td>\n",
       "      <td>0.000000</td>\n",
       "      <td>0.005459</td>\n",
       "      <td>0.000000</td>\n",
       "      <td>0.000000</td>\n",
       "      <td>0.158579</td>\n",
       "      <td>0.017387</td>\n",
       "      <td>0.016804</td>\n",
       "    </tr>\n",
       "    <tr>\n",
       "      <th>2</th>\n",
       "      <td>0.0</td>\n",
       "      <td>19.299986</td>\n",
       "      <td>0.951260</td>\n",
       "      <td>0.006859</td>\n",
       "      <td>0.020685</td>\n",
       "      <td>0.007403</td>\n",
       "      <td>0.012194</td>\n",
       "      <td>0.780168</td>\n",
       "      <td>0.030157</td>\n",
       "      <td>0.009357</td>\n",
       "      <td>0.060494</td>\n",
       "      <td>0.052769</td>\n",
       "      <td>0.000000</td>\n",
       "      <td>0.004787</td>\n",
       "      <td>0.004243</td>\n",
       "      <td>0.006657</td>\n",
       "      <td>0.103882</td>\n",
       "      <td>0.071604</td>\n",
       "      <td>0.027533</td>\n",
       "    </tr>\n",
       "    <tr>\n",
       "      <th>3</th>\n",
       "      <td>0.0</td>\n",
       "      <td>17.649096</td>\n",
       "      <td>0.985828</td>\n",
       "      <td>0.006563</td>\n",
       "      <td>0.008265</td>\n",
       "      <td>0.000000</td>\n",
       "      <td>0.019081</td>\n",
       "      <td>0.446771</td>\n",
       "      <td>0.008508</td>\n",
       "      <td>0.129877</td>\n",
       "      <td>0.340806</td>\n",
       "      <td>0.005573</td>\n",
       "      <td>0.011025</td>\n",
       "      <td>0.010177</td>\n",
       "      <td>0.004967</td>\n",
       "      <td>0.000000</td>\n",
       "      <td>0.492808</td>\n",
       "      <td>0.153073</td>\n",
       "      <td>0.039765</td>\n",
       "    </tr>\n",
       "    <tr>\n",
       "      <th>4</th>\n",
       "      <td>0.0</td>\n",
       "      <td>14.842518</td>\n",
       "      <td>0.972361</td>\n",
       "      <td>0.055573</td>\n",
       "      <td>0.134004</td>\n",
       "      <td>0.194149</td>\n",
       "      <td>0.041144</td>\n",
       "      <td>0.547160</td>\n",
       "      <td>0.007286</td>\n",
       "      <td>0.003140</td>\n",
       "      <td>0.006279</td>\n",
       "      <td>0.003425</td>\n",
       "      <td>0.003140</td>\n",
       "      <td>0.003568</td>\n",
       "      <td>0.000000</td>\n",
       "      <td>0.000000</td>\n",
       "      <td>0.375281</td>\n",
       "      <td>0.106980</td>\n",
       "      <td>0.035514</td>\n",
       "    </tr>\n",
       "  </tbody>\n",
       "</table>\n",
       "</div>"
      ],
      "text/plain": [
       "   isPhoton  total_energy  core_energy   tower16   tower17   tower18  \\\n",
       "0       1.0     13.729648     1.035193  0.041338  0.209939  0.004645   \n",
       "1       1.0     15.343515     1.019802  0.003150  0.005204  0.000000   \n",
       "2       0.0     19.299986     0.951260  0.006859  0.020685  0.007403   \n",
       "3       0.0     17.649096     0.985828  0.006563  0.008265  0.000000   \n",
       "4       0.0     14.842518     0.972361  0.055573  0.134004  0.194149   \n",
       "\n",
       "    tower23   tower24   tower25   tower30   tower31   tower32   tower37  \\\n",
       "0  0.135005  0.587707  0.009444  0.007107  0.002781  0.002781  0.000000   \n",
       "1  0.032572  0.785694  0.014917  0.011359  0.130424  0.014370  0.000000   \n",
       "2  0.012194  0.780168  0.030157  0.009357  0.060494  0.052769  0.000000   \n",
       "3  0.019081  0.446771  0.008508  0.129877  0.340806  0.005573  0.011025   \n",
       "4  0.041144  0.547160  0.007286  0.003140  0.006279  0.003425  0.003140   \n",
       "\n",
       "    tower38   tower39  integrated_perimeter  top_asymmetry  left_asymmetry  \\\n",
       "0  0.000000  0.000000              0.003543       0.246838        0.171679   \n",
       "1  0.005459  0.000000              0.000000       0.158579        0.017387   \n",
       "2  0.004787  0.004243              0.006657       0.103882        0.071604   \n",
       "3  0.010177  0.004967              0.000000       0.492808        0.153073   \n",
       "4  0.003568  0.000000              0.000000       0.375281        0.106980   \n",
       "\n",
       "   max_perimeter  \n",
       "0       0.017964  \n",
       "1       0.016804  \n",
       "2       0.027533  \n",
       "3       0.039765  \n",
       "4       0.035514  "
      ]
     },
     "execution_count": 1364,
     "metadata": {},
     "output_type": "execute_result"
    }
   ],
   "source": [
    "train = preprocess(train)\n",
    "test = preprocess(test)\n",
    "#train = train.drop('total_energy',axis=1)\n",
    "#test = test.drop('total_energy',axis=1)\n",
    "train.head()"
   ]
  },
  {
   "cell_type": "markdown",
   "metadata": {},
   "source": [
    "# Feature Analysis"
   ]
  },
  {
   "cell_type": "code",
   "execution_count": 1365,
   "metadata": {},
   "outputs": [
    {
     "data": {
      "image/png": "[encoded data removed]",
      "text/plain": [
       "<Figure size 432x288 with 1 Axes>"
      ]
     },
     "metadata": {
      "needs_background": "light"
     },
     "output_type": "display_data"
    }
   ],
   "source": [
    "groups = train.groupby(['isPhoton'])\n",
    "plt.hist([groups.get_group(0)['total_energy'].values,groups.get_group(1)['total_energy'].values], bins=20,density=True,histtype='step',label=[\"decay\",\"prompt\"])\n",
    "plt.xlabel(\"total_energy\")\n",
    "plt.ylabel(\"dN/dN\")\n",
    "plt.title(\"Single Particle Cluster Energy\")\n",
    "plt.legend()\n",
    "plt.show()"
   ]
  },
  {
   "cell_type": "code",
   "execution_count": 1366,
   "metadata": {},
   "outputs": [
    {
     "data": {
      "image/png": "[encoded data removed]",
      "text/plain": [
       "<Figure size 432x288 with 1 Axes>"
      ]
     },
     "metadata": {
      "needs_background": "light"
     },
     "output_type": "display_data"
    }
   ],
   "source": [
    "groups = train.groupby(['isPhoton'])\n",
    "plt.hist([groups.get_group(0)['left_asymmetry'].values,groups.get_group(1)['left_asymmetry'].values], bins=20,density=True,histtype='step',label=[\"Decay\",\"Prompt\"])\n",
    "plt.xlabel(\"Left Asymmetry\")\n",
    "plt.ylabel(\"dN/dN\")\n",
    "plt.title(\"Unsubtracted Cluster Left Asymmetry\")\n",
    "plt.legend()\n",
    "plt.show()"
   ]
  },
  {
   "cell_type": "code",
   "execution_count": 1367,
   "metadata": {},
   "outputs": [
    {
     "data": {
      "image/png": "[encoded data removed]",
      "text/plain": [
       "<Figure size 432x288 with 1 Axes>"
      ]
     },
     "metadata": {
      "needs_background": "light"
     },
     "output_type": "display_data"
    }
   ],
   "source": [
    "groups = train.groupby(['isPhoton'])\n",
    "plt.hist([groups.get_group(0)['top_asymmetry'].values,groups.get_group(1)['top_asymmetry'].values], bins=20,density=True,histtype='step',label=[\"Decay\",\"Prompt\"])\n",
    "plt.xlabel(\"Top Asymmetry\")\n",
    "plt.ylabel(\"dN/dN\")\n",
    "plt.title(\"Unsubtracted Cluster Top Asymmetry\")\n",
    "plt.legend()\n",
    "plt.show()"
   ]
  },
  {
   "cell_type": "code",
   "execution_count": 1368,
   "metadata": {},
   "outputs": [
    {
     "data": {
      "image/png": "[encoded data removed]",
      "text/plain": [
       "<Figure size 432x288 with 1 Axes>"
      ]
     },
     "metadata": {
      "needs_background": "light"
     },
     "output_type": "display_data"
    }
   ],
   "source": [
    "groups = train.groupby(['isPhoton'])\n",
    "plt.hist2d(groups.get_group(0)['top_asymmetry'].values,\n",
    "           groups.get_group(0)['left_asymmetry'].values,\n",
    "           bins=20,density=True)\n",
    "plt.xlabel(\"Top Asymmetry\")\n",
    "plt.ylabel(\"Left Asymmetry\")\n",
    "plt.title(\"Pi0 Asymmetry\")\n",
    "plt.show()"
   ]
  },
  {
   "cell_type": "code",
   "execution_count": 1369,
   "metadata": {},
   "outputs": [
    {
     "data": {
      "image/png": "[encoded data removed]",
      "text/plain": [
       "<Figure size 432x288 with 1 Axes>"
      ]
     },
     "metadata": {
      "needs_background": "light"
     },
     "output_type": "display_data"
    }
   ],
   "source": [
    "groups = train.groupby(['isPhoton'])\n",
    "plt.hist2d(groups.get_group(1)['top_asymmetry'].values,\n",
    "           groups.get_group(1)['left_asymmetry'].values,\n",
    "           bins=20,density=True)\n",
    "plt.xlabel(\"Top Asymmetry\")\n",
    "plt.ylabel(\"Left Asymmetry\")\n",
    "plt.title(\"Photon Asymmetry\")\n",
    "plt.show()"
   ]
  },
  {
   "cell_type": "code",
   "execution_count": 1387,
   "metadata": {},
   "outputs": [
    {
     "data": {
      "image/png": "[encoded data removed]",
      "text/plain": [
       "<Figure size 432x288 with 1 Axes>"
      ]
     },
     "metadata": {
      "needs_background": "light"
     },
     "output_type": "display_data"
    }
   ],
   "source": [
    "groups = train.groupby(['isPhoton'])\n",
    "plt.hist([groups.get_group(0)['max_perimeter'].values,groups.get_group(1)['max_perimeter'].values], bins=20,density=True,histtype='step',label=[\"Decay\",\"Prompt\"])\n",
    "plt.xlabel(\"5x5 Perimeter Energy\")\n",
    "plt.ylabel(\"dN/dN\")\n",
    "plt.yscale('log')\n",
    "plt.legend()\n",
    "plt.show()"
   ]
  },
  {
   "cell_type": "code",
   "execution_count": 1389,
   "metadata": {},
   "outputs": [
    {
     "data": {
      "image/png": "[encoded data removed]",
      "text/plain": [
       "<Figure size 432x288 with 1 Axes>"
      ]
     },
     "metadata": {
      "needs_background": "light"
     },
     "output_type": "display_data"
    }
   ],
   "source": [
    "groups = train.groupby(['isPhoton'])\n",
    "plt.hist([groups.get_group(0)['core_energy'].values,groups.get_group(1)['core_energy'].values], bins=20,density=True,histtype='step',label=[\"Decay\",\"Prompt\"])\n",
    "plt.xlabel(\"Core Energy\")\n",
    "plt.ylabel(\"dN/dN\")\n",
    "plt.yscale('log')\n",
    "plt.legend(loc=\"upper left\")\n",
    "plt.show()"
   ]
  },
  {
   "cell_type": "code",
   "execution_count": 1396,
   "metadata": {},
   "outputs": [
    {
     "data": {
      "image/png": "[encoded data removed]",
      "text/plain": [
       "<Figure size 432x288 with 1 Axes>"
      ]
     },
     "metadata": {
      "needs_background": "light"
     },
     "output_type": "display_data"
    }
   ],
   "source": [
    "groups = train.groupby(['isPhoton'])\n",
    "plt.hist([groups.get_group(0)['tower24'].values,groups.get_group(1)['tower24'].values], bins=20,density=True,histtype='step',label=[\"Decay\",\"Prompt\"])\n",
    "plt.xlabel(\"Central Tower Energy\")\n",
    "plt.ylabel(\"dN/dN\")\n",
    "plt.legend(loc=\"upper left\")\n",
    "plt.show()"
   ]
  },
  {
   "cell_type": "code",
   "execution_count": 1371,
   "metadata": {},
   "outputs": [
    {
     "name": "stdout",
     "output_type": "stream",
     "text": [
      "[11 12 13 14 15 16 17 18 19 20 21 22]\n",
      "[0.    0.125 0.25  0.5   0.625 0.75  1.    1.5   2.5  ]\n"
     ]
    },
    {
     "data": {
      "image/png": "[encoded data removed]",
      "text/plain": [
       "<Figure size 432x288 with 1 Axes>"
      ]
     },
     "metadata": {
      "needs_background": "light"
     },
     "output_type": "display_data"
    }
   ],
   "source": [
    "energybins=[11,12,13,14,15,16,17,18,19,20,21,22]\n",
    "ybins = [0,.125,.25,.5,.625,.75,1.,1.5,2.5]\n",
    "total_hist,x,y,i = plt.hist2d(train['total_energy'].values,train['max_perimeter'].values,[energybins,ybins])\n",
    "total_hist = np.array(total_hist)\n",
    "print(x)\n",
    "print(y)"
   ]
  },
  {
   "cell_type": "code",
   "execution_count": 1372,
   "metadata": {},
   "outputs": [
    {
     "data": {
      "text/plain": [
       "<matplotlib.collections.QuadMesh at 0x13a282450>"
      ]
     },
     "execution_count": 1372,
     "metadata": {},
     "output_type": "execute_result"
    },
    {
     "data": {
      "image/png": "[encoded data removed]",
      "text/plain": [
       "<Figure size 432x288 with 1 Axes>"
      ]
     },
     "metadata": {
      "needs_background": "light"
     },
     "output_type": "display_data"
    }
   ],
   "source": [
    "groups = train.groupby(['isPhoton'])\n",
    "prompt_hist,x,y,i = plt.hist2d(groups.get_group(1)['total_energy'].values,groups.get_group(1)['max_perimeter'].values,bins=[energybins,ybins])\n",
    "prompt_hist = np.array(prompt_hist)\n",
    "ratio = np.divide(prompt_hist,total_hist,out=np.zeros_like(prompt_hist),where = total_hist!=0)\n",
    "i"
   ]
  },
  {
   "cell_type": "code",
   "execution_count": 1373,
   "metadata": {},
   "outputs": [
    {
     "name": "stderr",
     "output_type": "stream",
     "text": [
      "/usr/local/lib/python3.7/site-packages/ipykernel_launcher.py:12: RuntimeWarning: invalid value encountered in double_scalars\n",
      "  if sys.path[0] == '':\n"
     ]
    },
    {
     "data": {
      "text/plain": [
       "([11, 12, 13, 14, 15, 16, 17, 18, 19, 20, 21],\n",
       " [nan,\n",
       "  nan,\n",
       "  0.01558679706601467,\n",
       "  0.012708333333333334,\n",
       "  0.013215859030837005,\n",
       "  0.00847457627118644,\n",
       "  0.006386861313868613,\n",
       "  0.004704301075268817,\n",
       "  0.017105263157894738,\n",
       "  0.028846153846153848,\n",
       "  0.0],\n",
       " [nan,\n",
       "  nan,\n",
       "  0.0003650743136316538,\n",
       "  0.00038876505169326524,\n",
       "  0.0003829777562135456,\n",
       "  0.00030331660332244293,\n",
       "  0.0002103805208459546,\n",
       "  0.00023645147531867937,\n",
       "  0.0008701109511974445,\n",
       "  0.004190515708080856,\n",
       "  -0.0])"
      ]
     },
     "execution_count": 1373,
     "metadata": {},
     "output_type": "execute_result"
    }
   ],
   "source": [
    "make2dHistTrend(prompt_hist,energybins,ybins)"
   ]
  },
  {
   "cell_type": "code",
   "execution_count": 1374,
   "metadata": {},
   "outputs": [
    {
     "data": {
      "image/png": "[encoded data removed]",
      "text/plain": [
       "<Figure size 432x288 with 1 Axes>"
      ]
     },
     "metadata": {
      "needs_background": "light"
     },
     "output_type": "display_data"
    }
   ],
   "source": [
    "decay_hist,x,y,i = plt.hist2d(groups.get_group(0)['total_energy'].values,groups.get_group(0)['max_perimeter'].values,bins=[energybins,ybins])\n"
   ]
  },
  {
   "cell_type": "code",
   "execution_count": 1375,
   "metadata": {},
   "outputs": [],
   "source": [
    "def make2dHistTrend(data,xbins,ybins):\n",
    "    #find the mean 5x5 value for each clusterE\n",
    "    means = []\n",
    "    #loop over each column\n",
    "    for row in data:\n",
    "        #calculate column mean with uncertainty\n",
    "        rval=0\n",
    "        #weight the y value of each bin by the count\n",
    "        for total,yval in zip(row,ybins[0:len(ybins)-1]):\n",
    "            rval+=total*yval\n",
    "        #divide by the total weight to get the mean\n",
    "        rval/=sum(row)\n",
    "        means.append(rval)\n",
    "    #calculate s\n",
    "    stwos = []\n",
    "    for row,mean in zip(data,means):\n",
    "        #calculate column mean with uncertainty\n",
    "        rval=0\n",
    "        #weight the y value of each bin by the count\n",
    "        for total,yval in zip(row,ybins[0:len(ybins)-1]):\n",
    "            rval+=total*(yval-mean)**2\n",
    "        #divide by the total weight to get the mean\n",
    "        rval/=sum(row-1)\n",
    "        stwos.append(rval)\n",
    "    \n",
    "    #print means\n",
    "    uncertainties=[]\n",
    "    for st,row in zip(stwos,data):\n",
    "        uncertainties.append(st/(sum(row)**(1./2)))\n",
    "    return xbins[0:len(xbins)-1],means,uncertainties"
   ]
  },
  {
   "cell_type": "code",
   "execution_count": 1376,
   "metadata": {},
   "outputs": [
    {
     "data": {
      "image/png": "[encoded data removed]",
      "text/plain": [
       "<Figure size 432x288 with 1 Axes>"
      ]
     },
     "metadata": {
      "needs_background": "light"
     },
     "output_type": "display_data"
    }
   ],
   "source": [
    "groups = train.groupby(['isPhoton'])\n",
    "plt.hist([groups.get_group(0)['integrated_perimeter'].values,groups.get_group(1)['integrated_perimeter'].values], bins=30,density=True,histtype='step',label=[\"Decay\",\"Prompt\"])\n",
    "plt.xlabel(\"Integrated_Perimeter\")\n",
    "plt.ylabel(\"dN/dN\")\n",
    "plt.yscale('log')\n",
    "plt.title(\"Single Cluster 7x7\")\n",
    "plt.legend()\n",
    "plt.show()"
   ]
  },
  {
   "cell_type": "code",
   "execution_count": 1377,
   "metadata": {},
   "outputs": [
    {
     "name": "stderr",
     "output_type": "stream",
     "text": [
      "/usr/local/lib/python3.7/site-packages/ipykernel_launcher.py:5: RuntimeWarning: invalid value encountered in double_scalars\n",
      "  \"\"\"\n"
     ]
    },
    {
     "data": {
      "text/plain": [
       "<matplotlib.legend.Legend at 0x141b5ddd0>"
      ]
     },
     "execution_count": 1377,
     "metadata": {},
     "output_type": "execute_result"
    },
    {
     "data": {
      "image/png": "[encoded data removed]",
      "text/plain": [
       "<Figure size 432x288 with 1 Axes>"
      ]
     },
     "metadata": {
      "needs_background": "light"
     },
     "output_type": "display_data"
    }
   ],
   "source": [
    "#prompt = make2dHistTrend(pdata,x,y)\n",
    "dmeans = myBinnedStat(groups.get_group(0)['total_energy'],groups.get_group(0)['integrated_perimeter'],energybins)\n",
    "pmeans = myBinnedStat(groups.get_group(1)['total_energy'],groups.get_group(1)['integrated_perimeter'],energybins)\n",
    "plt.errorbar(energybins[0:len(energybins)-1],[m.n for m in dmeans],yerr=[m.s for m in dmeans])\n",
    "plt.errorbar(energybins[0:len(energybins)-1],[m.n for m in pmeans],yerr=[m.s for m in pmeans])\n",
    "plt.xlabel(\"Cluster Energy\")\n",
    "plt.ylabel(\"Mean 7x7 Perimeter Energy\")\n",
    "plt.legend([\"Decay\",\"Prompt\"])"
   ]
  },
  {
   "cell_type": "markdown",
   "metadata": {},
   "source": [
    "# Training"
   ]
  },
  {
   "cell_type": "markdown",
   "metadata": {},
   "source": [
    "knn = kNN(train,test)"
   ]
  },
  {
   "cell_type": "markdown",
   "metadata": {},
   "source": [
    "knn.score()"
   ]
  },
  {
   "cell_type": "markdown",
   "metadata": {},
   "source": [
    "knn.best_param()"
   ]
  },
  {
   "cell_type": "markdown",
   "metadata": {},
   "source": [
    "lda  = LDA(train,test)"
   ]
  },
  {
   "cell_type": "code",
   "execution_count": 1378,
   "metadata": {},
   "outputs": [],
   "source": [
    "logistic  = Logistic(train,test)"
   ]
  },
  {
   "cell_type": "code",
   "execution_count": 1379,
   "metadata": {},
   "outputs": [
    {
     "data": {
      "image/png": "[encoded data removed]",
      "text/plain": [
       "<Figure size 432x288 with 1 Axes>"
      ]
     },
     "metadata": {
      "needs_background": "light"
     },
     "output_type": "display_data"
    }
   ],
   "source": [
    "groups = test.groupby(['isPhoton'])\n",
    "plt.hist([logistic.estimate(groups.get_group(0).drop(['isPhoton'],axis=1))[:,1]  , logistic.estimate(groups.get_group(1).drop(['isPhoton'],axis=1))[:,1]], bins=20,density=True,histtype='step',label=[\"decay\",\"prompt\"])\n",
    "plt.xlabel(\"Logit Prob\")\n",
    "plt.ylabel(\"dN/dN\")\n",
    "plt.title(\"Subtracted Cluster Logistic Prob\")\n",
    "plt.legend()\n",
    "plt.show()"
   ]
  },
  {
   "cell_type": "code",
   "execution_count": 1380,
   "metadata": {},
   "outputs": [
    {
     "name": "stdout",
     "output_type": "stream",
     "text": [
      "Logistic\n",
      "\t F1: 0.06418030587604029\n",
      "\t Precision: 0.30510204081632664\n",
      "\t Recall: 0.0358620689655176\n",
      "\t Kappa: 0.0066768849131622066\n",
      "\t Matrix: [[1526.348    5.448]\n",
      " [  64.308    2.392]]\n"
     ]
    }
   ],
   "source": [
    "logistic.score()"
   ]
  },
  {
   "cell_type": "code",
   "execution_count": 1381,
   "metadata": {},
   "outputs": [],
   "source": [
    "randomForest = RandomForest(train,test)"
   ]
  },
  {
   "cell_type": "code",
   "execution_count": 1382,
   "metadata": {},
   "outputs": [
    {
     "name": "stdout",
     "output_type": "stream",
     "text": [
      "RandomForest\n",
      "\t F1: 0.3874398105306043\n",
      "\t Precision: 0.2623295526952937\n",
      "\t Recall: 0.7406896551724147\n",
      "\t Kappa: -0.0013973691306474745\n",
      "\t Matrix: [[1392.872  138.924]\n",
      " [  17.296   49.404]]\n"
     ]
    }
   ],
   "source": [
    "randomForest.score()"
   ]
  },
  {
   "cell_type": "code",
   "execution_count": 1383,
   "metadata": {},
   "outputs": [
    {
     "data": {
      "image/png": "[encoded data removed]",
      "text/plain": [
       "<Figure size 432x288 with 1 Axes>"
      ]
     },
     "metadata": {
      "needs_background": "light"
     },
     "output_type": "display_data"
    }
   ],
   "source": [
    "groups = test.groupby(['isPhoton'])\n",
    "plt.hist([randomForest.estimate(groups.get_group(0).drop(['isPhoton'],axis=1))[:,1]  , randomForest.estimate(groups.get_group(1).drop(['isPhoton'],axis=1))[:,1]], bins=20,density=True,histtype='step',label=[\"decay\",\"prompt\"])\n",
    "plt.xlabel(\"Forest Prob\")\n",
    "plt.ylabel(\"dN/dN\")\n",
    "plt.title(\"Subtracted Cluster Forest Prob\")\n",
    "plt.legend()\n",
    "plt.show()"
   ]
  },
  {
   "cell_type": "code",
   "execution_count": 1323,
   "metadata": {},
   "outputs": [
    {
     "data": {
      "text/plain": [
       "Text(0.5, 1.0, 'Prompt Photons')"
      ]
     },
     "execution_count": 1323,
     "metadata": {},
     "output_type": "execute_result"
    },
    {
     "data": {
      "image/png": "[encoded data removed]",
      "text/plain": [
       "<Figure size 432x288 with 1 Axes>"
      ]
     },
     "metadata": {
      "needs_background": "light"
     },
     "output_type": "display_data"
    }
   ],
   "source": [
    "groups = test.groupby(['isPhoton'])\n",
    "pdata, x,y,i = plt.hist2d(groups.get_group(1)['total_energy'], randomForest.estimate(groups.get_group(1).drop(['isPhoton'],axis=1))[:,1])\n",
    "plt.xlabel(\"Cluster Energy\")\n",
    "plt.ylabel(\"Forest Probability\")\n",
    "plt.title(\"Prompt Photons\")"
   ]
  },
  {
   "cell_type": "code",
   "execution_count": 1326,
   "metadata": {},
   "outputs": [],
   "source": [
    "def myBinnedStat(x,v,bins):\n",
    "    means,_,_ = stats.binned_statistic(x,v,'mean',bins)\n",
    "    std,_ ,_= stats.binned_statistic(x,v,'std',bins)\n",
    "    count,_,_ = stats.binned_statistic(x,v,'count',bins)\n",
    "    return [ufloat(m,s/(c**(1./2))) for m,s,c in zip(means,std,count)]"
   ]
  },
  {
   "cell_type": "code",
   "execution_count": 1386,
   "metadata": {},
   "outputs": [
    {
     "data": {
      "text/plain": [
       "<matplotlib.legend.Legend at 0x13a2d8bd0>"
      ]
     },
     "execution_count": 1386,
     "metadata": {},
     "output_type": "execute_result"
    },
    {
     "data": {
      "image/png": "[encoded data removed]",
      "text/plain": [
       "<Figure size 432x288 with 1 Axes>"
      ]
     },
     "metadata": {
      "needs_background": "light"
     },
     "output_type": "display_data"
    }
   ],
   "source": [
    "#prompt = make2dHistTrend(pdata,x,y)\n",
    "energybins = [13,14,15,16,17,18,19,20]\n",
    "dmeans = myBinnedStat(groups.get_group(0)['total_energy'],groups.get_group(0)['max_perimeter'],energybins)\n",
    "pmeans = myBinnedStat(groups.get_group(1)['total_energy'],groups.get_group(1)['max_perimeter'],energybins)\n",
    "plt.errorbar(energybins[0:len(energybins)-1],[m.n for m in dmeans],yerr=[m.s for m in dmeans])\n",
    "plt.errorbar(energybins[0:len(energybins)-1],[m.n for m in pmeans],yerr=[m.s for m in pmeans])\n",
    "plt.xlabel(\"Cluster Energy\")\n",
    "plt.ylabel(\"Mean 5x5 Perimeter Energy\")\n",
    "plt.legend([\"Decay\",\"Prompt\"])"
   ]
  },
  {
   "cell_type": "code",
   "execution_count": 1391,
   "metadata": {},
   "outputs": [
    {
     "data": {
      "text/plain": [
       "<matplotlib.legend.Legend at 0x14474b210>"
      ]
     },
     "execution_count": 1391,
     "metadata": {},
     "output_type": "execute_result"
    },
    {
     "data": {
      "image/png": "[encoded data removed]",
      "text/plain": [
       "<Figure size 432x288 with 1 Axes>"
      ]
     },
     "metadata": {
      "needs_background": "light"
     },
     "output_type": "display_data"
    }
   ],
   "source": [
    "#prompt = make2dHistTrend(pdata,x,y)\n",
    "energybins = [13,14,15,16,17,18,19,20,21]\n",
    "dmeans = myBinnedStat(groups.get_group(0)['total_energy'],groups.get_group(0)['core_energy'],energybins)\n",
    "pmeans = myBinnedStat(groups.get_group(1)['total_energy'],groups.get_group(1)['core_energy'],energybins)\n",
    "plt.errorbar(energybins[0:len(energybins)-1],[m.n for m in dmeans],yerr=[m.s for m in dmeans])\n",
    "plt.errorbar(energybins[0:len(energybins)-1],[m.n for m in pmeans],yerr=[m.s for m in pmeans])\n",
    "plt.xlabel(\"Cluster Energy\")\n",
    "plt.ylabel(\"Mean 5x5 Perimeter Energy\")\n",
    "plt.legend([\"Decay\",\"Prompt\"])"
   ]
  },
  {
   "cell_type": "code",
   "execution_count": 1397,
   "metadata": {},
   "outputs": [
    {
     "data": {
      "text/plain": [
       "<matplotlib.legend.Legend at 0x12b66d610>"
      ]
     },
     "execution_count": 1397,
     "metadata": {},
     "output_type": "execute_result"
    },
    {
     "data": {
      "image/png": "[encoded data removed]",
      "text/plain": [
       "<Figure size 432x288 with 1 Axes>"
      ]
     },
     "metadata": {
      "needs_background": "light"
     },
     "output_type": "display_data"
    }
   ],
   "source": [
    "dmeans = myBinnedStat(groups.get_group(0)['total_energy'],randomForest.estimate(groups.get_group(0).drop(['isPhoton'],axis=1))[:,1],energybins)\n",
    "pmeans = myBinnedStat(groups.get_group(1)['total_energy'],randomForest.estimate(groups.get_group(1).drop(['isPhoton'],axis=1))[:,1],energybins)\n",
    "plt.errorbar(energybins[0:len(energybins)-1],[m.n for m in dmeans],yerr=[m.s for m in dmeans])\n",
    "plt.errorbar(energybins[0:len(energybins)-1],[m.n for m in pmeans],yerr=[m.s for m in pmeans])\n",
    "plt.xlabel(\"Cluster Energy\")\n",
    "plt.ylabel(\"Mean Forest Prob\")\n",
    "plt.legend([\"Decay\",\"Prompt\"])"
   ]
  },
  {
   "cell_type": "code",
   "execution_count": 1398,
   "metadata": {},
   "outputs": [
    {
     "name": "stdout",
     "output_type": "stream",
     "text": [
      "{'n_estimators': 100}\n"
     ]
    }
   ],
   "source": [
    "randomForest.best_param()"
   ]
  },
  {
   "cell_type": "code",
   "execution_count": null,
   "metadata": {},
   "outputs": [],
   "source": [
    "diagnoseForest(randomForest.classifier.best_estimator_,list(train.drop('isPhoton',axis=1)))"
   ]
  },
  {
   "cell_type": "code",
   "execution_count": 1399,
   "metadata": {},
   "outputs": [
    {
     "name": "stdout",
     "output_type": "stream",
     "text": [
      "Feature ranking:\n",
      "1. tower24 (0.134277)\n",
      "2. max_perimeter (0.090994)\n",
      "3. core_energy (0.087505)\n",
      "4. tower25 (0.061090)\n",
      "5. tower23 (0.061062)\n",
      "6. total_energy (0.059426)\n",
      "7. tower31 (0.059171)\n",
      "8. tower17 (0.058977)\n",
      "9. left_asymmetry (0.057755)\n",
      "10. top_asymmetry (0.057010)\n",
      "11. integrated_perimeter (0.049628)\n",
      "12. tower16 (0.042674)\n",
      "13. tower30 (0.041681)\n",
      "14. tower32 (0.040559)\n",
      "15. tower18 (0.038679)\n",
      "16. tower38 (0.021647)\n",
      "17. tower37 (0.020139)\n",
      "18. tower39 (0.017724)\n"
     ]
    },
    {
     "data": {
      "image/png": "[encoded data removed]",
      "text/plain": [
       "<Figure size 432x288 with 1 Axes>"
      ]
     },
     "metadata": {
      "needs_background": "light"
     },
     "output_type": "display_data"
    }
   ],
   "source": [
    "forestImportance(randomForest.classifier.best_estimator_,list(train.drop('isPhoton',axis=1)))"
   ]
  },
  {
   "cell_type": "code",
   "execution_count": 1384,
   "metadata": {},
   "outputs": [],
   "source": [
    "svc = SVC(train,test)"
   ]
  },
  {
   "cell_type": "code",
   "execution_count": 1394,
   "metadata": {},
   "outputs": [
    {
     "data": {
      "image/png": "[encoded data removed]",
      "text/plain": [
       "<Figure size 432x288 with 1 Axes>"
      ]
     },
     "metadata": {
      "needs_background": "light"
     },
     "output_type": "display_data"
    }
   ],
   "source": [
    "groups = test.groupby(['isPhoton'])\n",
    "plt.hist([svc.estimate(groups.get_group(0).drop(['isPhoton'],axis=1))[:,1]  , randomForest.estimate(groups.get_group(1).drop(['isPhoton'],axis=1))[:,1]], bins=20,density=True,histtype='step',label=[\"decay\",\"prompt\"])\n",
    "plt.xlabel(\"SVC Prob\")\n",
    "plt.ylabel(\"dN/dN\")\n",
    "plt.title(\"Subtracted Cluster SVC Prob\")\n",
    "plt.legend()\n",
    "plt.show()"
   ]
  },
  {
   "cell_type": "code",
   "execution_count": 1385,
   "metadata": {},
   "outputs": [
    {
     "name": "stdout",
     "output_type": "stream",
     "text": [
      "SVC\n",
      "\t F1: 0.0\n",
      "\t Precision: 0.0\n"
     ]
    },
    {
     "name": "stderr",
     "output_type": "stream",
     "text": [
      "/usr/local/lib/python3.7/site-packages/sklearn/metrics/_classification.py:1272: UndefinedMetricWarning: Precision is ill-defined and being set to 0.0 due to no predicted samples. Use `zero_division` parameter to control this behavior.\n",
      "  _warn_prf(average, modifier, msg_start, len(result))\n"
     ]
    },
    {
     "name": "stdout",
     "output_type": "stream",
     "text": [
      "\t Recall: 0.0\n",
      "\t Kappa: 0.0\n",
      "\t Matrix: [[1531.796    0.   ]\n",
      " [  66.7      0.   ]]\n"
     ]
    }
   ],
   "source": [
    "svc.score()"
   ]
  },
  {
   "cell_type": "code",
   "execution_count": 949,
   "metadata": {},
   "outputs": [],
   "source": [
    "bdt = BDT(train,test)"
   ]
  },
  {
   "cell_type": "code",
   "execution_count": null,
   "metadata": {
    "scrolled": true
   },
   "outputs": [],
   "source": [
    "bdt.score()"
   ]
  },
  {
   "cell_type": "code",
   "execution_count": null,
   "metadata": {},
   "outputs": [],
   "source": [
    "bdt.best_param()"
   ]
  },
  {
   "cell_type": "code",
   "execution_count": null,
   "metadata": {},
   "outputs": [],
   "source": [
    "groups = test.groupby(['isPhoton'])\n",
    "plt.hist([bdt.estimate(groups.get_group(0).drop(['isPhoton'],axis=1))[:,1]  , bdt.estimate(groups.get_group(1).drop(['isPhoton'],axis=1))[:,1]], bins=10,density=True,histtype='step',label=[\"decay\",\"prompt\"])\n",
    "plt.xlabel(\"BDT Prob\")\n",
    "plt.ylabel(\"dN/dN\")\n",
    "plt.title(\"Subtracted Cluster BDT Prob\")\n",
    "plt.legend()\n",
    "plt.show()"
   ]
  },
  {
   "cell_type": "code",
   "execution_count": null,
   "metadata": {},
   "outputs": [],
   "source": [
    "mlp = MLP(train,test)"
   ]
  },
  {
   "cell_type": "code",
   "execution_count": null,
   "metadata": {},
   "outputs": [],
   "source": [
    "groups = test.groupby(['isPhoton'])\n",
    "plt.hist([bdt.estimate(groups.get_group(0).drop(['isPhoton'],axis=1))[:,1]  , mlp.estimate(groups.get_group(1).drop(['isPhoton'],axis=1))[:,1]], bins=20,density=True,histtype='step',label=[\"decay\",\"prompt\"])\n",
    "plt.xlabel(\"MLP Prob\")\n",
    "plt.ylabel(\"dN/dN\")\n",
    "plt.title(\"Subtracted Cluster MLP Prob\")\n",
    "plt.legend()\n",
    "plt.show()"
   ]
  },
  {
   "cell_type": "code",
   "execution_count": null,
   "metadata": {},
   "outputs": [],
   "source": [
    "mlp.score()"
   ]
  },
  {
   "cell_type": "code",
   "execution_count": null,
   "metadata": {},
   "outputs": [],
   "source": [
    "mlp.best_param()"
   ]
  },
  {
   "cell_type": "code",
   "execution_count": 1392,
   "metadata": {},
   "outputs": [
    {
     "name": "stdout",
     "output_type": "stream",
     "text": [
      "Logistic\n",
      "RandomForest\n",
      "SVC\n"
     ]
    },
    {
     "data": {
      "image/png": "[encoded data removed]",
      "text/plain": [
       "<Figure size 432x288 with 1 Axes>"
      ]
     },
     "metadata": {
      "needs_background": "light"
     },
     "output_type": "display_data"
    }
   ],
   "source": [
    "algos = [logistic,randomForest,svc]\n",
    "plotRoc(algos)"
   ]
  },
  {
   "cell_type": "code",
   "execution_count": 1393,
   "metadata": {},
   "outputs": [
    {
     "name": "stdout",
     "output_type": "stream",
     "text": [
      "Logistic\n",
      "RandomForest\n",
      "SVC\n"
     ]
    },
    {
     "data": {
      "image/png": "[encoded data removed]",
      "text/plain": [
       "<Figure size 432x288 with 1 Axes>"
      ]
     },
     "metadata": {
      "needs_background": "light"
     },
     "output_type": "display_data"
    }
   ],
   "source": [
    "algos = [logistic,randomForest,svc]\n",
    "plotPRC(algos)"
   ]
  },
  {
   "cell_type": "code",
   "execution_count": null,
   "metadata": {},
   "outputs": [],
   "source": [
    "for algo in algos:\n",
    "    algo.score()"
   ]
  },
  {
   "cell_type": "code",
   "execution_count": 896,
   "metadata": {},
   "outputs": [],
   "source": [
    "def clusterMap(event):\n",
    "    cluster = []\n",
    "    for i in range(0,7):\n",
    "        row=[]\n",
    "        for j in range(0,7):\n",
    "            if event['tower'+str(7*i+j)] != -999:\n",
    "                row.append(event['tower'+str(7*i+j)])\n",
    "            else:\n",
    "                row.append(0)\n",
    "        cluster.append(row)\n",
    "    cluster = np.array(cluster)\n",
    "    fig, ax = plt.subplots()\n",
    "    p = ax.imshow(cluster,)\n",
    "    for i in range(0,7):\n",
    "        for j in range(0,7):\n",
    "            text = ax.text(j, i, round(cluster[i, j], 2),\n",
    "                       ha=\"center\", va=\"center\", color=\"w\")\n",
    "    ax.set_title(round(event['total_energy'],2))\n"
   ]
  },
  {
   "cell_type": "code",
   "execution_count": 1267,
   "metadata": {},
   "outputs": [],
   "source": [
    "def csvNoMix(signal):\n",
    "    df = pd.read_csv(signal)\n",
    "    df = df.groupby(['isPhoton']).get_group(1)\n",
    "    df = df.drop(['isPhoton'], axis=1)\n",
    "    df['pid'] = df['pid'].apply(removeCombined)\n",
    "    df = df.dropna()\n",
    "    df['pid'] = df['pid'].apply(pid2Type)\n",
    "    df = df.rename(columns = {'pid':'isPhoton'})\n",
    "    df = df[df['total_energy']<22]\n",
    "    df = df[df['total_energy']>13]\n",
    "    return df"
   ]
  },
  {
   "cell_type": "code",
   "execution_count": 898,
   "metadata": {},
   "outputs": [],
   "source": [
    "signal = csvNoMix(\"singleclusters.csv\")\n",
    "back = csvNoMix(\"sback.csv\")"
   ]
  },
  {
   "cell_type": "code",
   "execution_count": 899,
   "metadata": {},
   "outputs": [
    {
     "name": "stdout",
     "output_type": "stream",
     "text": [
      "Prompt Events\n",
      "forest\n",
      "[[0.8975 0.1025]\n",
      " [0.6425 0.3575]\n",
      " [0.1325 0.8675]\n",
      " [0.     1.    ]\n",
      " [0.0225 0.9775]\n",
      " [0.8475 0.1525]\n",
      " [0.145  0.855 ]]\n",
      "[0. 0. 1. 1. 1. 0. 1.]\n"
     ]
    },
    {
     "data": {
      "image/png": "[encoded data removed]",
      "text/plain": [
       "<Figure size 432x288 with 1 Axes>"
      ]
     },
     "metadata": {
      "needs_background": "light"
     },
     "output_type": "display_data"
    },
    {
     "data": {
      "image/png": "[encoded data removed]",
      "text/plain": [
       "<Figure size 432x288 with 1 Axes>"
      ]
     },
     "metadata": {
      "needs_background": "light"
     },
     "output_type": "display_data"
    },
    {
     "data": {
      "image/png": "[encoded data removed]",
      "text/plain": [
       "<Figure size 432x288 with 1 Axes>"
      ]
     },
     "metadata": {
      "needs_background": "light"
     },
     "output_type": "display_data"
    }
   ],
   "source": [
    "print(\"Prompt Events\")\n",
    "clusterMap(signal.iloc[6])\n",
    "clusterMap(signal.iloc[1])\n",
    "clusterMap(signal.iloc[2])\n",
    "\n",
    "signalp  = preprocess (signal)\n",
    "signalp = signalp.drop(['isPhoton','sProb','cal_energy'],axis=1)\n",
    "print(\"forest\")\n",
    "print(randomForest.classifier.predict_proba([signalp.iloc[i] for i in range(0,7)]))\n",
    "print(randomForest.predict([signalp.iloc[i] for i in range(0,7)]))\n",
    "\n"
   ]
  },
  {
   "cell_type": "code",
   "execution_count": 900,
   "metadata": {},
   "outputs": [
    {
     "name": "stdout",
     "output_type": "stream",
     "text": [
      "Decay Events\n"
     ]
    },
    {
     "data": {
      "text/plain": [
       "array([[0.9975, 0.0025],\n",
       "       [0.8475, 0.1525],\n",
       "       [0.8825, 0.1175]])"
      ]
     },
     "execution_count": 900,
     "metadata": {},
     "output_type": "execute_result"
    },
    {
     "data": {
      "image/png": "[encoded data removed]",
      "text/plain": [
       "<Figure size 432x288 with 1 Axes>"
      ]
     },
     "metadata": {
      "needs_background": "light"
     },
     "output_type": "display_data"
    },
    {
     "data": {
      "image/png": "[encoded data removed]",
      "text/plain": [
       "<Figure size 432x288 with 1 Axes>"
      ]
     },
     "metadata": {
      "needs_background": "light"
     },
     "output_type": "display_data"
    },
    {
     "data": {
      "image/png": "[encoded data removed]",
      "text/plain": [
       "<Figure size 432x288 with 1 Axes>"
      ]
     },
     "metadata": {
      "needs_background": "light"
     },
     "output_type": "display_data"
    }
   ],
   "source": [
    "print(\"Decay Events\")\n",
    "clusterMap(back.iloc[0])\n",
    "clusterMap(back.iloc[1])\n",
    "clusterMap(back.iloc[2])\n",
    "\n",
    "backp  = preprocess (back)\n",
    "backp = backp.drop(['isPhoton','sProb',\"cal_energy\"],axis=1)\n",
    "randomForest.classifier.predict_proba([backp.iloc[i] for i in range(0,3)])\n",
    "\n"
   ]
  },
  {
   "cell_type": "code",
   "execution_count": null,
   "metadata": {},
   "outputs": [],
   "source": []
  },
  {
   "cell_type": "code",
   "execution_count": 901,
   "metadata": {},
   "outputs": [
    {
     "ename": "TypeError",
     "evalue": "predict() missing 1 required positional argument: 'cluster'",
     "output_type": "error",
     "traceback": [
      "\u001b[0;31m---------------------------------------------------------------------------\u001b[0m",
      "\u001b[0;31mTypeError\u001b[0m                                 Traceback (most recent call last)",
      "\u001b[0;32m<ipython-input-901-e1febb81d437>\u001b[0m in \u001b[0;36m<module>\u001b[0;34m\u001b[0m\n\u001b[0;32m----> 1\u001b[0;31m \u001b[0mrandomForest\u001b[0m\u001b[0;34m.\u001b[0m\u001b[0mpredict\u001b[0m\u001b[0;34m(\u001b[0m\u001b[0;34m)\u001b[0m\u001b[0;34m\u001b[0m\u001b[0;34m\u001b[0m\u001b[0m\n\u001b[0m",
      "\u001b[0;31mTypeError\u001b[0m: predict() missing 1 required positional argument: 'cluster'"
     ]
    }
   ],
   "source": [
    "randomForest.predict()"
   ]
  }
 ],
 "metadata": {
  "kernelspec": {
   "display_name": "Python 3",
   "language": "python",
   "name": "python3"
  },
  "language_info": {
   "codemirror_mode": {
    "name": "ipython",
    "version": 3
   },
   "file_extension": ".py",
   "mimetype": "text/x-python",
   "name": "python",
   "nbconvert_exporter": "python",
   "pygments_lexer": "ipython3",
   "version": "3.7.6"
  }
 },
 "nbformat": 4,
 "nbformat_minor": 2
}
