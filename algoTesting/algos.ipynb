{
 "cells": [
  {
   "cell_type": "code",
   "execution_count": 1,
   "metadata": {},
   "outputs": [],
   "source": [
    "import pandas\n",
    "from abc import ABC, abstractmethod\n",
    "from sklearn.model_selection import train_test_split as dataSplitter\n",
    "from sklearn.model_selection import GridSearchCV\n",
    "from sklearn.base import ClassifierMixin\n",
    "from sklearn.neighbors import KNeighborsClassifier as skKNN"
   ]
  },
  {
   "cell_type": "code",
   "execution_count": 2,
   "metadata": {},
   "outputs": [],
   "source": [
    "class Algo:\n",
    "\t#takes two lists of numpyarrays len =2 where the first element is traing and the second is testing\n",
    "\tdef __init__(self,signal,background):\n",
    "\t\t#transform\n",
    "\t\tself.classifier  = ClassifierMixin()\n",
    "\t\tself.transform(signal[0],background[0])\n",
    "\t@abstractmethod\n",
    "\tdef train(self,signal,background):\n",
    "\t\tpass\n",
    "\tdef score(self):\n",
    "\t\tpass"
   ]
  },
  {
   "cell_type": "code",
   "execution_count": 3,
   "metadata": {},
   "outputs": [],
   "source": [
    "class kNN(Algo):\n",
    "\tdef train(self,signal,background):\n",
    "\n",
    "\t\tself.classifier = GridSearchCV(skKNN(),{'n_neighbors':[4,8,16,32]},cv=5).fit(signal,background)\n",
    "\n",
    "\tdef score(self):\n",
    "\t\tprint(\"test score = \"+str(self.classifier.score(self.signal[1],df_test['paid'])))\n",
    "\t\tprint(\"train score = \" + str(reg.score(df_train.drop('paid',axis=1),df_train['paid'])))"
   ]
  },
  {
   "cell_type": "code",
   "execution_count": 4,
   "metadata": {},
   "outputs": [],
   "source": [
    "def csvToInput(signal,background):\n",
    "\tdfs = pd.read_csv(signal)\n",
    "\tdfb = pd.read_csv(background)\n",
    "\tstrain, stest = dataSplitter(dfs.values,test_size=.2,shuffle=True)\n",
    "\tbtrain, btest = dataSplitter(dfb.values,test_size=.2,shuffle=True)\n",
    "\treturn [strain,stest] , [btrain,btest]\n"
   ]
  },
  {
   "cell_type": "code",
   "execution_count": null,
   "metadata": {},
   "outputs": [],
   "source": []
  }
 ],
 "metadata": {
  "kernelspec": {
   "display_name": "Python 3",
   "language": "python",
   "name": "python3"
  },
  "language_info": {
   "codemirror_mode": {
    "name": "ipython",
    "version": 3
   },
   "file_extension": ".py",
   "mimetype": "text/x-python",
   "name": "python",
   "nbconvert_exporter": "python",
   "pygments_lexer": "ipython3",
   "version": "3.7.4"
  }
 },
 "nbformat": 4,
 "nbformat_minor": 2
}
